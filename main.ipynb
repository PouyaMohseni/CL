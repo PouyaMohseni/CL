{
 "cells": [
  {
   "cell_type": "markdown",
   "metadata": {},
   "source": [
    "Import libraries"
   ]
  },
  {
   "cell_type": "code",
   "execution_count": 2,
   "metadata": {
    "id": "t6aaWJrqksqe"
   },
   "outputs": [
    {
     "data": {
      "text/plain": [
       "'\\nTestTrain = np.array([])\\nfor im_path in glob.glob(\"./data1/*.png\"):\\n    img = imageio.imread(im_path)\\n    img = Image.fromarray(img).convert(\"RGB\")\\n    #img = img.rotate(90)\\n    #img.save(\\'./1test_test.jpeg\\')\\n    #img = np.array(img)\\n    TestTrain = np.append(TestTrain, (img,0))\\n    print(type(img))\\n    #img = img.convert(\"RGBA\").convert(\"RGB\")\\n    #img = cv2.resize(img, (224, 224)) #img = np.expand_dims(img, axis=0) print(img.shape) # do whatever with the image here print(4)\\n'"
      ]
     },
     "execution_count": 2,
     "metadata": {},
     "output_type": "execute_result"
    }
   ],
   "source": [
    "import numpy as np\n",
    "import pathlib\n",
    "import cv2 \n",
    "import PIL.Image as Image \n",
    "import os \n",
    "import matplotlib.pylab as plt\n",
    "import shutil\n",
    "import glob \n",
    "import imageio \n",
    "import sklearn\n",
    "import tensorflow as tf \n",
    "import tensorflow_hub as hub\n",
    "from statistics import mean\n",
    "from tensorflow import keras \n",
    "from tensorflow.keras import layers \n",
    "from tensorflow.keras.models import Sequential \n",
    "from sklearn.model_selection import train_test_split\n",
    "from keras.applications.vgg16 import VGG16\n",
    "from tensorflow.keras import Model\n",
    "from tensorflow.keras.layers import Dense\n",
    "from sklearn import svm\n",
    "from scipy import misc \n",
    "\n"
   ]
  },
  {
   "cell_type": "markdown",
   "metadata": {
    "id": "5PWHqNEfO__8"
   },
   "source": [
    "dividing images into test and train folders (0.2/0.8)"
   ]
  },
  {
   "cell_type": "code",
   "execution_count": 66,
   "metadata": {
    "id": "VrgdXSqaO9C5"
   },
   "outputs": [],
   "source": [
    "classes = [\"Ak\",\"Ala_Idris\",\"Buzgulu\",\"Dimnit\",\"Nazli\"]\n",
    "rootdir=\"./\"\n",
    "for i in classes:\n",
    "\n",
    "  os.makedirs(rootdir +'/train/' + i)\n",
    "  os.makedirs(rootdir +'/test/' + i)\n",
    "  source = rootdir + '/' + i\n",
    "\n",
    "  allFileNames = os.listdir(source)\n",
    "  np.random.shuffle(allFileNames)\n",
    "  test_ratio = 0.2\n",
    "  train_FileNames, test_FileNames = np.split(np.array(allFileNames),[int(len(allFileNames)* (1 - test_ratio))])\n",
    "\n",
    "  train_FileNames = [source+'/'+ name for name in train_FileNames.tolist()]\n",
    "  test_FileNames = [source+'/' + name for name in test_FileNames.tolist()]\n",
    "\n",
    "  for name in train_FileNames:\n",
    "    shutil.copy(name, rootdir +'/train/' + i)\n",
    "\n",
    "  for name in test_FileNames:\n",
    "    shutil.copy(name, rootdir +'/test/' + i)"
   ]
  },
  {
   "cell_type": "markdown",
   "metadata": {
    "id": "m_nod_EsPB0a"
   },
   "source": [
    "**1st Classification Model**"
   ]
  },
  {
   "cell_type": "markdown",
   "metadata": {},
   "source": [
    "In this method, we create a CNN with 5 layers as follows. (Model is trained with 45 epochs) "
   ]
  },
  {
   "cell_type": "markdown",
   "metadata": {},
   "source": [
    "loading data"
   ]
  },
  {
   "cell_type": "code",
   "execution_count": 2,
   "metadata": {
    "id": "6hi84BwoT4pm"
   },
   "outputs": [],
   "source": [
    "data_dir = pathlib.Path(\"./\")\n",
    "images_dict = {\n",
    "    'Ak': list(data_dir.glob('Ak/*')),\n",
    "    \"Ala_Idris\": list(data_dir.glob('Ala_Idris/*')),\n",
    "    \"Buzgulu\": list(data_dir.glob('Buzgulu/*')),\n",
    "    \"Dimnit\": list(data_dir.glob('Dimnit/*')),\n",
    "    'Nazli': list(data_dir.glob('Nazli/*')),\n",
    "}\n",
    "\n",
    "labels_dict = {\n",
    "    'Ak': 0,\n",
    "    \"Ala_Idris\": 1,\n",
    "    \"Buzgulu\": 2,\n",
    "    \"Dimnit\": 3,\n",
    "    'Nazli': 4,\n",
    "}"
   ]
  },
  {
   "cell_type": "markdown",
   "metadata": {},
   "source": [
    "resizing and loading on X and y"
   ]
  },
  {
   "cell_type": "code",
   "execution_count": 3,
   "metadata": {
    "colab": {
     "base_uri": "https://localhost:8080/"
    },
    "id": "-2gchzsCVI54",
    "outputId": "e6e3fe1e-82f0-4a17-8149-07e6b8d68837"
   },
   "outputs": [
    {
     "name": "stderr",
     "output_type": "stream",
     "text": [
      "C:\\Users\\lenovo\\AppData\\Local\\Temp\\ipykernel_4464\\2189021723.py:6: DeprecationWarning: Starting with ImageIO v3 the behavior of this function will switch to that of iio.v3.imread. To keep the current behavior (and make this warning dissapear) use `import imageio.v2 as imageio` or call `imageio.v2.imread` directly.\n",
      "  img = imageio.imread(str(image))\n"
     ]
    }
   ],
   "source": [
    "X, y = [], []\n",
    "\n",
    "\n",
    "for name, images in images_dict.items():\n",
    "    for image in images:\n",
    "        img = imageio.imread(str(image))\n",
    "        img = Image.fromarray(img).convert(\"RGB\")\n",
    "        img = np.array(img)\n",
    "        #resize images\n",
    "        resized_img = cv2.resize(img,(224,224))\n",
    "        X.append(resized_img)\n",
    "        y.append(labels_dict[name])"
   ]
  },
  {
   "cell_type": "code",
   "execution_count": 4,
   "metadata": {
    "id": "gbk9dE9pWNFm"
   },
   "outputs": [],
   "source": [
    "X = np.array(X)\n",
    "y = np.array(y)"
   ]
  },
  {
   "cell_type": "markdown",
   "metadata": {},
   "source": [
    "train and test spliting (.8/.2) and normalizing"
   ]
  },
  {
   "cell_type": "code",
   "execution_count": 5,
   "metadata": {
    "id": "KKlbHEB-WOI3"
   },
   "outputs": [],
   "source": [
    "X_train, X_test, y_train, y_test = train_test_split(X, y, random_state=21)"
   ]
  },
  {
   "cell_type": "code",
   "execution_count": 6,
   "metadata": {
    "id": "OjAtbybIWSRz"
   },
   "outputs": [],
   "source": [
    "X_train_scaled = X_train / 224\n",
    "X_test_scaled = X_test / 224"
   ]
  },
  {
   "cell_type": "code",
   "execution_count": 129,
   "metadata": {},
   "outputs": [
    {
     "name": "stdout",
     "output_type": "stream",
     "text": [
      "375 125\n"
     ]
    }
   ],
   "source": [
    "print(len(X_train_scaled),len(X_test_scaled))"
   ]
  },
  {
   "cell_type": "markdown",
   "metadata": {},
   "source": [
    "Build the model and fit training data on it."
   ]
  },
  {
   "cell_type": "code",
   "execution_count": 27,
   "metadata": {},
   "outputs": [
    {
     "name": "stdout",
     "output_type": "stream",
     "text": [
      "Epoch 1/45\n",
      "12/12 [==============================] - 5s 382ms/step - loss: 1.6069 - accuracy: 0.2027\n",
      "Epoch 2/45\n",
      "12/12 [==============================] - 4s 342ms/step - loss: 1.5249 - accuracy: 0.3600\n",
      "Epoch 3/45\n",
      "12/12 [==============================] - 5s 387ms/step - loss: 1.2714 - accuracy: 0.4773\n",
      "Epoch 4/45\n",
      "12/12 [==============================] - 4s 360ms/step - loss: 0.9846 - accuracy: 0.6267\n",
      "Epoch 5/45\n",
      "12/12 [==============================] - 4s 368ms/step - loss: 0.8654 - accuracy: 0.6933\n",
      "Epoch 6/45\n",
      "12/12 [==============================] - 4s 369ms/step - loss: 0.7137 - accuracy: 0.7147\n",
      "Epoch 7/45\n",
      "12/12 [==============================] - 5s 398ms/step - loss: 0.5926 - accuracy: 0.7813\n",
      "Epoch 8/45\n",
      "12/12 [==============================] - 5s 390ms/step - loss: 0.4983 - accuracy: 0.8053\n",
      "Epoch 9/45\n",
      "12/12 [==============================] - 5s 366ms/step - loss: 0.3772 - accuracy: 0.8400\n",
      "Epoch 10/45\n",
      "12/12 [==============================] - 5s 406ms/step - loss: 0.3387 - accuracy: 0.8853\n",
      "Epoch 11/45\n",
      "12/12 [==============================] - 5s 391ms/step - loss: 0.2756 - accuracy: 0.8987\n",
      "Epoch 12/45\n",
      "12/12 [==============================] - 4s 360ms/step - loss: 0.1583 - accuracy: 0.9493\n",
      "Epoch 13/45\n",
      "12/12 [==============================] - 5s 395ms/step - loss: 0.1249 - accuracy: 0.9653\n",
      "Epoch 14/45\n",
      "12/12 [==============================] - 5s 384ms/step - loss: 0.0966 - accuracy: 0.9760\n",
      "Epoch 15/45\n",
      "12/12 [==============================] - 4s 361ms/step - loss: 0.0749 - accuracy: 0.9760\n",
      "Epoch 16/45\n",
      "12/12 [==============================] - 5s 385ms/step - loss: 0.0494 - accuracy: 0.9947\n",
      "Epoch 17/45\n",
      "12/12 [==============================] - 5s 390ms/step - loss: 0.0232 - accuracy: 0.9973\n",
      "Epoch 18/45\n",
      "12/12 [==============================] - 4s 368ms/step - loss: 0.0139 - accuracy: 1.0000\n",
      "Epoch 19/45\n",
      "12/12 [==============================] - 5s 385ms/step - loss: 0.0074 - accuracy: 1.0000\n",
      "Epoch 20/45\n",
      "12/12 [==============================] - 5s 399ms/step - loss: 0.0057 - accuracy: 1.0000\n",
      "Epoch 21/45\n",
      "12/12 [==============================] - 5s 391ms/step - loss: 0.0030 - accuracy: 1.0000\n",
      "Epoch 22/45\n",
      "12/12 [==============================] - 4s 370ms/step - loss: 0.0023 - accuracy: 1.0000\n",
      "Epoch 23/45\n",
      "12/12 [==============================] - 5s 407ms/step - loss: 0.0019 - accuracy: 1.0000\n",
      "Epoch 24/45\n",
      "12/12 [==============================] - 5s 386ms/step - loss: 0.0015 - accuracy: 1.0000\n",
      "Epoch 25/45\n",
      "12/12 [==============================] - 4s 344ms/step - loss: 0.0014 - accuracy: 1.0000\n",
      "Epoch 26/45\n",
      "12/12 [==============================] - 5s 399ms/step - loss: 0.0012 - accuracy: 1.0000\n",
      "Epoch 27/45\n",
      "12/12 [==============================] - 4s 343ms/step - loss: 9.9222e-04 - accuracy: 1.0000\n",
      "Epoch 28/45\n",
      "12/12 [==============================] - 4s 366ms/step - loss: 8.9271e-04 - accuracy: 1.0000\n",
      "Epoch 29/45\n",
      "12/12 [==============================] - 5s 397ms/step - loss: 8.5100e-04 - accuracy: 1.0000\n",
      "Epoch 30/45\n",
      "12/12 [==============================] - 4s 369ms/step - loss: 7.2473e-04 - accuracy: 1.0000\n",
      "Epoch 31/45\n",
      "12/12 [==============================] - 4s 364ms/step - loss: 6.8139e-04 - accuracy: 1.0000\n",
      "Epoch 32/45\n",
      "12/12 [==============================] - 4s 358ms/step - loss: 6.2144e-04 - accuracy: 1.0000\n",
      "Epoch 33/45\n",
      "12/12 [==============================] - 5s 389ms/step - loss: 5.7536e-04 - accuracy: 1.0000\n",
      "Epoch 34/45\n",
      "12/12 [==============================] - 5s 379ms/step - loss: 5.3280e-04 - accuracy: 1.0000\n",
      "Epoch 35/45\n",
      "12/12 [==============================] - 4s 353ms/step - loss: 4.9136e-04 - accuracy: 1.0000\n",
      "Epoch 36/45\n",
      "12/12 [==============================] - 5s 379ms/step - loss: 4.6141e-04 - accuracy: 1.0000\n",
      "Epoch 37/45\n",
      "12/12 [==============================] - 5s 392ms/step - loss: 4.3917e-04 - accuracy: 1.0000\n",
      "Epoch 38/45\n",
      "12/12 [==============================] - 4s 367ms/step - loss: 4.0868e-04 - accuracy: 1.0000\n",
      "Epoch 39/45\n",
      "12/12 [==============================] - 4s 361ms/step - loss: 3.7422e-04 - accuracy: 1.0000\n",
      "Epoch 40/45\n",
      "12/12 [==============================] - 4s 355ms/step - loss: 3.5756e-04 - accuracy: 1.0000\n",
      "Epoch 41/45\n",
      "12/12 [==============================] - 4s 355ms/step - loss: 3.4059e-04 - accuracy: 1.0000\n",
      "Epoch 42/45\n",
      "12/12 [==============================] - 4s 359ms/step - loss: 3.1484e-04 - accuracy: 1.0000\n",
      "Epoch 43/45\n",
      "12/12 [==============================] - 4s 355ms/step - loss: 3.0177e-04 - accuracy: 1.0000\n",
      "Epoch 44/45\n",
      "12/12 [==============================] - 4s 366ms/step - loss: 2.8703e-04 - accuracy: 1.0000\n",
      "Epoch 45/45\n",
      "12/12 [==============================] - 4s 357ms/step - loss: 2.6881e-04 - accuracy: 1.0000\n"
     ]
    },
    {
     "data": {
      "text/plain": [
       "<keras.callbacks.History at 0x2cb44ec62b0>"
      ]
     },
     "execution_count": 27,
     "metadata": {},
     "output_type": "execute_result"
    }
   ],
   "source": [
    "num_classes = 5\n",
    "\n",
    "model1 = Sequential([\n",
    "  layers.Conv2D(4, 3, padding='same', activation='relu'),\n",
    "  layers.MaxPooling2D(),\n",
    "  layers.Conv2D(9, 3, padding='same', activation='relu'),\n",
    "  layers.MaxPooling2D(),\n",
    "  layers.Conv2D(32, 3, padding='same', activation='relu'),\n",
    "  layers.MaxPooling2D(),\n",
    "  layers.Conv2D(64, 3, padding='same', activation='relu'),\n",
    "  layers.MaxPooling2D(),\n",
    "  layers.Flatten(),\n",
    "  layers.Dense(128, activation='relu'),\n",
    "  layers.Dense(num_classes)\n",
    "])\n",
    "\n",
    "model1.compile(optimizer='adam',\n",
    "              loss=tf.keras.losses.SparseCategoricalCrossentropy(from_logits=True),\n",
    "              metrics=['accuracy'])\n",
    "              \n",
    "model1.fit(X_train_scaled, y_train, epochs=45)        "
   ]
  },
  {
   "cell_type": "markdown",
   "metadata": {},
   "source": [
    "Calcute the accuracy on test set"
   ]
  },
  {
   "cell_type": "code",
   "execution_count": 28,
   "metadata": {},
   "outputs": [
    {
     "name": "stdout",
     "output_type": "stream",
     "text": [
      "4/4 [==============================] - 1s 103ms/step - loss: 5.0877 - accuracy: 0.5200\n"
     ]
    },
    {
     "data": {
      "text/plain": [
       "[5.087723255157471, 0.5199999809265137]"
      ]
     },
     "execution_count": 28,
     "metadata": {},
     "output_type": "execute_result"
    }
   ],
   "source": [
    "model1.evaluate(X_test_scaled,y_test)"
   ]
  },
  {
   "cell_type": "markdown",
   "metadata": {},
   "source": [
    "**2nd Classification Model**"
   ]
  },
  {
   "cell_type": "markdown",
   "metadata": {},
   "source": [
    "For this method, the data of the most part is augmented. To augment images, we perform several different fuvtions such as horizontal filp, trasfering, zooming and rotation.\n",
    "\n",
    "Augmentation of images is preformed by the help of a sequential neural network; we create a new network so that several primary layers are superimposed on the image augmentation and later layers according to the primary network architecture. Therefore, in this architecture, we fit the initial model on the augmented images. (In this method, unlike the previous method, we use 150 epochs, because the model made of augmented images is less threatened by overfit.)"
   ]
  },
  {
   "cell_type": "markdown",
   "metadata": {},
   "source": [
    "defining augmentation method"
   ]
  },
  {
   "cell_type": "code",
   "execution_count": 37,
   "metadata": {},
   "outputs": [],
   "source": [
    "data_augmentation = keras.Sequential(\n",
    "  [\n",
    "    layers.experimental.preprocessing.RandomFlip(\"horizontal\", input_shape=(224,224,3)),\n",
    "    layers.experimental.preprocessing.RandomRotation(0.1),\n",
    "    layers.experimental.preprocessing.RandomZoom(0.1),\n",
    "    #layers.experimental.preprocessing.RandomTranslation(1., 1.),\n",
    "  ]\n",
    ")"
   ]
  },
  {
   "cell_type": "markdown",
   "metadata": {},
   "source": [
    "Build the model and fit the training set on it"
   ]
  },
  {
   "cell_type": "code",
   "execution_count": 39,
   "metadata": {
    "colab": {
     "base_uri": "https://localhost:8080/"
    },
    "id": "5hy_WrThRYVh",
    "outputId": "0cb300b4-c183-4c99-be56-f2e02f5803d0"
   },
   "outputs": [
    {
     "name": "stdout",
     "output_type": "stream",
     "text": [
      "Epoch 1/150\n",
      "4/4 [==============================] - 4s 529ms/step - loss: 1.8386 - accuracy: 0.1800\n",
      "Epoch 2/150\n",
      "4/4 [==============================] - 2s 547ms/step - loss: 1.6298 - accuracy: 0.2000\n",
      "Epoch 3/150\n",
      "4/4 [==============================] - 2s 554ms/step - loss: 1.6119 - accuracy: 0.2000\n",
      "Epoch 4/150\n"
     ]
    },
    {
     "ename": "KeyboardInterrupt",
     "evalue": "",
     "output_type": "error",
     "traceback": [
      "\u001b[1;31m---------------------------------------------------------------------------\u001b[0m",
      "\u001b[1;31mKeyboardInterrupt\u001b[0m                         Traceback (most recent call last)",
      "Input \u001b[1;32mIn [39]\u001b[0m, in \u001b[0;36m<module>\u001b[1;34m\u001b[0m\n\u001b[0;32m      3\u001b[0m model2 \u001b[38;5;241m=\u001b[39m Sequential([\n\u001b[0;32m      4\u001b[0m   data_augmentation,\n\u001b[0;32m      5\u001b[0m   layers\u001b[38;5;241m.\u001b[39mConv2D(\u001b[38;5;241m4\u001b[39m, \u001b[38;5;241m3\u001b[39m, padding\u001b[38;5;241m=\u001b[39m\u001b[38;5;124m'\u001b[39m\u001b[38;5;124msame\u001b[39m\u001b[38;5;124m'\u001b[39m, activation\u001b[38;5;241m=\u001b[39m\u001b[38;5;124m'\u001b[39m\u001b[38;5;124mrelu\u001b[39m\u001b[38;5;124m'\u001b[39m),\n\u001b[1;32m   (...)\u001b[0m\n\u001b[0;32m     15\u001b[0m   layers\u001b[38;5;241m.\u001b[39mDense(num_classes)\n\u001b[0;32m     16\u001b[0m ])\n\u001b[0;32m     18\u001b[0m model2\u001b[38;5;241m.\u001b[39mcompile(optimizer\u001b[38;5;241m=\u001b[39m\u001b[38;5;124m'\u001b[39m\u001b[38;5;124madam\u001b[39m\u001b[38;5;124m'\u001b[39m,\n\u001b[0;32m     19\u001b[0m               loss\u001b[38;5;241m=\u001b[39mtf\u001b[38;5;241m.\u001b[39mkeras\u001b[38;5;241m.\u001b[39mlosses\u001b[38;5;241m.\u001b[39mSparseCategoricalCrossentropy(from_logits\u001b[38;5;241m=\u001b[39m\u001b[38;5;28;01mTrue\u001b[39;00m),\n\u001b[0;32m     20\u001b[0m               metrics\u001b[38;5;241m=\u001b[39m[\u001b[38;5;124m'\u001b[39m\u001b[38;5;124maccuracy\u001b[39m\u001b[38;5;124m'\u001b[39m])\n\u001b[1;32m---> 22\u001b[0m \u001b[43mmodel2\u001b[49m\u001b[38;5;241;43m.\u001b[39;49m\u001b[43mfit\u001b[49m\u001b[43m(\u001b[49m\u001b[43mX_train_scaled\u001b[49m\u001b[43m,\u001b[49m\u001b[43m \u001b[49m\u001b[43my_train\u001b[49m\u001b[43m,\u001b[49m\u001b[43m \u001b[49m\u001b[43mepochs\u001b[49m\u001b[38;5;241;43m=\u001b[39;49m\u001b[38;5;241;43m150\u001b[39;49m\u001b[43m)\u001b[49m\n",
      "File \u001b[1;32m~\\AppData\\Roaming\\Python\\Python38\\site-packages\\keras\\utils\\traceback_utils.py:64\u001b[0m, in \u001b[0;36mfilter_traceback.<locals>.error_handler\u001b[1;34m(*args, **kwargs)\u001b[0m\n\u001b[0;32m     62\u001b[0m filtered_tb \u001b[38;5;241m=\u001b[39m \u001b[38;5;28;01mNone\u001b[39;00m\n\u001b[0;32m     63\u001b[0m \u001b[38;5;28;01mtry\u001b[39;00m:\n\u001b[1;32m---> 64\u001b[0m   \u001b[38;5;28;01mreturn\u001b[39;00m \u001b[43mfn\u001b[49m\u001b[43m(\u001b[49m\u001b[38;5;241;43m*\u001b[39;49m\u001b[43margs\u001b[49m\u001b[43m,\u001b[49m\u001b[43m \u001b[49m\u001b[38;5;241;43m*\u001b[39;49m\u001b[38;5;241;43m*\u001b[39;49m\u001b[43mkwargs\u001b[49m\u001b[43m)\u001b[49m\n\u001b[0;32m     65\u001b[0m \u001b[38;5;28;01mexcept\u001b[39;00m \u001b[38;5;167;01mException\u001b[39;00m \u001b[38;5;28;01mas\u001b[39;00m e:  \u001b[38;5;66;03m# pylint: disable=broad-except\u001b[39;00m\n\u001b[0;32m     66\u001b[0m   filtered_tb \u001b[38;5;241m=\u001b[39m _process_traceback_frames(e\u001b[38;5;241m.\u001b[39m__traceback__)\n",
      "File \u001b[1;32m~\\AppData\\Roaming\\Python\\Python38\\site-packages\\keras\\engine\\training.py:1409\u001b[0m, in \u001b[0;36mModel.fit\u001b[1;34m(self, x, y, batch_size, epochs, verbose, callbacks, validation_split, validation_data, shuffle, class_weight, sample_weight, initial_epoch, steps_per_epoch, validation_steps, validation_batch_size, validation_freq, max_queue_size, workers, use_multiprocessing)\u001b[0m\n\u001b[0;32m   1402\u001b[0m \u001b[38;5;28;01mwith\u001b[39;00m tf\u001b[38;5;241m.\u001b[39mprofiler\u001b[38;5;241m.\u001b[39mexperimental\u001b[38;5;241m.\u001b[39mTrace(\n\u001b[0;32m   1403\u001b[0m     \u001b[38;5;124m'\u001b[39m\u001b[38;5;124mtrain\u001b[39m\u001b[38;5;124m'\u001b[39m,\n\u001b[0;32m   1404\u001b[0m     epoch_num\u001b[38;5;241m=\u001b[39mepoch,\n\u001b[0;32m   1405\u001b[0m     step_num\u001b[38;5;241m=\u001b[39mstep,\n\u001b[0;32m   1406\u001b[0m     batch_size\u001b[38;5;241m=\u001b[39mbatch_size,\n\u001b[0;32m   1407\u001b[0m     _r\u001b[38;5;241m=\u001b[39m\u001b[38;5;241m1\u001b[39m):\n\u001b[0;32m   1408\u001b[0m   callbacks\u001b[38;5;241m.\u001b[39mon_train_batch_begin(step)\n\u001b[1;32m-> 1409\u001b[0m   tmp_logs \u001b[38;5;241m=\u001b[39m \u001b[38;5;28;43mself\u001b[39;49m\u001b[38;5;241;43m.\u001b[39;49m\u001b[43mtrain_function\u001b[49m\u001b[43m(\u001b[49m\u001b[43miterator\u001b[49m\u001b[43m)\u001b[49m\n\u001b[0;32m   1410\u001b[0m   \u001b[38;5;28;01mif\u001b[39;00m data_handler\u001b[38;5;241m.\u001b[39mshould_sync:\n\u001b[0;32m   1411\u001b[0m     context\u001b[38;5;241m.\u001b[39masync_wait()\n",
      "File \u001b[1;32m~\\AppData\\Roaming\\Python\\Python38\\site-packages\\tensorflow\\python\\util\\traceback_utils.py:150\u001b[0m, in \u001b[0;36mfilter_traceback.<locals>.error_handler\u001b[1;34m(*args, **kwargs)\u001b[0m\n\u001b[0;32m    148\u001b[0m filtered_tb \u001b[38;5;241m=\u001b[39m \u001b[38;5;28;01mNone\u001b[39;00m\n\u001b[0;32m    149\u001b[0m \u001b[38;5;28;01mtry\u001b[39;00m:\n\u001b[1;32m--> 150\u001b[0m   \u001b[38;5;28;01mreturn\u001b[39;00m \u001b[43mfn\u001b[49m\u001b[43m(\u001b[49m\u001b[38;5;241;43m*\u001b[39;49m\u001b[43margs\u001b[49m\u001b[43m,\u001b[49m\u001b[43m \u001b[49m\u001b[38;5;241;43m*\u001b[39;49m\u001b[38;5;241;43m*\u001b[39;49m\u001b[43mkwargs\u001b[49m\u001b[43m)\u001b[49m\n\u001b[0;32m    151\u001b[0m \u001b[38;5;28;01mexcept\u001b[39;00m \u001b[38;5;167;01mException\u001b[39;00m \u001b[38;5;28;01mas\u001b[39;00m e:\n\u001b[0;32m    152\u001b[0m   filtered_tb \u001b[38;5;241m=\u001b[39m _process_traceback_frames(e\u001b[38;5;241m.\u001b[39m__traceback__)\n",
      "File \u001b[1;32m~\\AppData\\Roaming\\Python\\Python38\\site-packages\\tensorflow\\python\\eager\\def_function.py:915\u001b[0m, in \u001b[0;36mFunction.__call__\u001b[1;34m(self, *args, **kwds)\u001b[0m\n\u001b[0;32m    912\u001b[0m compiler \u001b[38;5;241m=\u001b[39m \u001b[38;5;124m\"\u001b[39m\u001b[38;5;124mxla\u001b[39m\u001b[38;5;124m\"\u001b[39m \u001b[38;5;28;01mif\u001b[39;00m \u001b[38;5;28mself\u001b[39m\u001b[38;5;241m.\u001b[39m_jit_compile \u001b[38;5;28;01melse\u001b[39;00m \u001b[38;5;124m\"\u001b[39m\u001b[38;5;124mnonXla\u001b[39m\u001b[38;5;124m\"\u001b[39m\n\u001b[0;32m    914\u001b[0m \u001b[38;5;28;01mwith\u001b[39;00m OptionalXlaContext(\u001b[38;5;28mself\u001b[39m\u001b[38;5;241m.\u001b[39m_jit_compile):\n\u001b[1;32m--> 915\u001b[0m   result \u001b[38;5;241m=\u001b[39m \u001b[38;5;28;43mself\u001b[39;49m\u001b[38;5;241;43m.\u001b[39;49m\u001b[43m_call\u001b[49m\u001b[43m(\u001b[49m\u001b[38;5;241;43m*\u001b[39;49m\u001b[43margs\u001b[49m\u001b[43m,\u001b[49m\u001b[43m \u001b[49m\u001b[38;5;241;43m*\u001b[39;49m\u001b[38;5;241;43m*\u001b[39;49m\u001b[43mkwds\u001b[49m\u001b[43m)\u001b[49m\n\u001b[0;32m    917\u001b[0m new_tracing_count \u001b[38;5;241m=\u001b[39m \u001b[38;5;28mself\u001b[39m\u001b[38;5;241m.\u001b[39mexperimental_get_tracing_count()\n\u001b[0;32m    918\u001b[0m without_tracing \u001b[38;5;241m=\u001b[39m (tracing_count \u001b[38;5;241m==\u001b[39m new_tracing_count)\n",
      "File \u001b[1;32m~\\AppData\\Roaming\\Python\\Python38\\site-packages\\tensorflow\\python\\eager\\def_function.py:947\u001b[0m, in \u001b[0;36mFunction._call\u001b[1;34m(self, *args, **kwds)\u001b[0m\n\u001b[0;32m    944\u001b[0m   \u001b[38;5;28mself\u001b[39m\u001b[38;5;241m.\u001b[39m_lock\u001b[38;5;241m.\u001b[39mrelease()\n\u001b[0;32m    945\u001b[0m   \u001b[38;5;66;03m# In this case we have created variables on the first call, so we run the\u001b[39;00m\n\u001b[0;32m    946\u001b[0m   \u001b[38;5;66;03m# defunned version which is guaranteed to never create variables.\u001b[39;00m\n\u001b[1;32m--> 947\u001b[0m   \u001b[38;5;28;01mreturn\u001b[39;00m \u001b[38;5;28;43mself\u001b[39;49m\u001b[38;5;241;43m.\u001b[39;49m\u001b[43m_stateless_fn\u001b[49m\u001b[43m(\u001b[49m\u001b[38;5;241;43m*\u001b[39;49m\u001b[43margs\u001b[49m\u001b[43m,\u001b[49m\u001b[43m \u001b[49m\u001b[38;5;241;43m*\u001b[39;49m\u001b[38;5;241;43m*\u001b[39;49m\u001b[43mkwds\u001b[49m\u001b[43m)\u001b[49m  \u001b[38;5;66;03m# pylint: disable=not-callable\u001b[39;00m\n\u001b[0;32m    948\u001b[0m \u001b[38;5;28;01melif\u001b[39;00m \u001b[38;5;28mself\u001b[39m\u001b[38;5;241m.\u001b[39m_stateful_fn \u001b[38;5;129;01mis\u001b[39;00m \u001b[38;5;129;01mnot\u001b[39;00m \u001b[38;5;28;01mNone\u001b[39;00m:\n\u001b[0;32m    949\u001b[0m   \u001b[38;5;66;03m# Release the lock early so that multiple threads can perform the call\u001b[39;00m\n\u001b[0;32m    950\u001b[0m   \u001b[38;5;66;03m# in parallel.\u001b[39;00m\n\u001b[0;32m    951\u001b[0m   \u001b[38;5;28mself\u001b[39m\u001b[38;5;241m.\u001b[39m_lock\u001b[38;5;241m.\u001b[39mrelease()\n",
      "File \u001b[1;32m~\\AppData\\Roaming\\Python\\Python38\\site-packages\\tensorflow\\python\\eager\\function.py:2453\u001b[0m, in \u001b[0;36mFunction.__call__\u001b[1;34m(self, *args, **kwargs)\u001b[0m\n\u001b[0;32m   2450\u001b[0m \u001b[38;5;28;01mwith\u001b[39;00m \u001b[38;5;28mself\u001b[39m\u001b[38;5;241m.\u001b[39m_lock:\n\u001b[0;32m   2451\u001b[0m   (graph_function,\n\u001b[0;32m   2452\u001b[0m    filtered_flat_args) \u001b[38;5;241m=\u001b[39m \u001b[38;5;28mself\u001b[39m\u001b[38;5;241m.\u001b[39m_maybe_define_function(args, kwargs)\n\u001b[1;32m-> 2453\u001b[0m \u001b[38;5;28;01mreturn\u001b[39;00m \u001b[43mgraph_function\u001b[49m\u001b[38;5;241;43m.\u001b[39;49m\u001b[43m_call_flat\u001b[49m\u001b[43m(\u001b[49m\n\u001b[0;32m   2454\u001b[0m \u001b[43m    \u001b[49m\u001b[43mfiltered_flat_args\u001b[49m\u001b[43m,\u001b[49m\u001b[43m \u001b[49m\u001b[43mcaptured_inputs\u001b[49m\u001b[38;5;241;43m=\u001b[39;49m\u001b[43mgraph_function\u001b[49m\u001b[38;5;241;43m.\u001b[39;49m\u001b[43mcaptured_inputs\u001b[49m\u001b[43m)\u001b[49m\n",
      "File \u001b[1;32m~\\AppData\\Roaming\\Python\\Python38\\site-packages\\tensorflow\\python\\eager\\function.py:1860\u001b[0m, in \u001b[0;36mConcreteFunction._call_flat\u001b[1;34m(self, args, captured_inputs, cancellation_manager)\u001b[0m\n\u001b[0;32m   1856\u001b[0m possible_gradient_type \u001b[38;5;241m=\u001b[39m gradients_util\u001b[38;5;241m.\u001b[39mPossibleTapeGradientTypes(args)\n\u001b[0;32m   1857\u001b[0m \u001b[38;5;28;01mif\u001b[39;00m (possible_gradient_type \u001b[38;5;241m==\u001b[39m gradients_util\u001b[38;5;241m.\u001b[39mPOSSIBLE_GRADIENT_TYPES_NONE\n\u001b[0;32m   1858\u001b[0m     \u001b[38;5;129;01mand\u001b[39;00m executing_eagerly):\n\u001b[0;32m   1859\u001b[0m   \u001b[38;5;66;03m# No tape is watching; skip to running the function.\u001b[39;00m\n\u001b[1;32m-> 1860\u001b[0m   \u001b[38;5;28;01mreturn\u001b[39;00m \u001b[38;5;28mself\u001b[39m\u001b[38;5;241m.\u001b[39m_build_call_outputs(\u001b[38;5;28;43mself\u001b[39;49m\u001b[38;5;241;43m.\u001b[39;49m\u001b[43m_inference_function\u001b[49m\u001b[38;5;241;43m.\u001b[39;49m\u001b[43mcall\u001b[49m\u001b[43m(\u001b[49m\n\u001b[0;32m   1861\u001b[0m \u001b[43m      \u001b[49m\u001b[43mctx\u001b[49m\u001b[43m,\u001b[49m\u001b[43m \u001b[49m\u001b[43margs\u001b[49m\u001b[43m,\u001b[49m\u001b[43m \u001b[49m\u001b[43mcancellation_manager\u001b[49m\u001b[38;5;241;43m=\u001b[39;49m\u001b[43mcancellation_manager\u001b[49m\u001b[43m)\u001b[49m)\n\u001b[0;32m   1862\u001b[0m forward_backward \u001b[38;5;241m=\u001b[39m \u001b[38;5;28mself\u001b[39m\u001b[38;5;241m.\u001b[39m_select_forward_and_backward_functions(\n\u001b[0;32m   1863\u001b[0m     args,\n\u001b[0;32m   1864\u001b[0m     possible_gradient_type,\n\u001b[0;32m   1865\u001b[0m     executing_eagerly)\n\u001b[0;32m   1866\u001b[0m forward_function, args_with_tangents \u001b[38;5;241m=\u001b[39m forward_backward\u001b[38;5;241m.\u001b[39mforward()\n",
      "File \u001b[1;32m~\\AppData\\Roaming\\Python\\Python38\\site-packages\\tensorflow\\python\\eager\\function.py:497\u001b[0m, in \u001b[0;36m_EagerDefinedFunction.call\u001b[1;34m(self, ctx, args, cancellation_manager)\u001b[0m\n\u001b[0;32m    495\u001b[0m \u001b[38;5;28;01mwith\u001b[39;00m _InterpolateFunctionError(\u001b[38;5;28mself\u001b[39m):\n\u001b[0;32m    496\u001b[0m   \u001b[38;5;28;01mif\u001b[39;00m cancellation_manager \u001b[38;5;129;01mis\u001b[39;00m \u001b[38;5;28;01mNone\u001b[39;00m:\n\u001b[1;32m--> 497\u001b[0m     outputs \u001b[38;5;241m=\u001b[39m \u001b[43mexecute\u001b[49m\u001b[38;5;241;43m.\u001b[39;49m\u001b[43mexecute\u001b[49m\u001b[43m(\u001b[49m\n\u001b[0;32m    498\u001b[0m \u001b[43m        \u001b[49m\u001b[38;5;28;43mstr\u001b[39;49m\u001b[43m(\u001b[49m\u001b[38;5;28;43mself\u001b[39;49m\u001b[38;5;241;43m.\u001b[39;49m\u001b[43msignature\u001b[49m\u001b[38;5;241;43m.\u001b[39;49m\u001b[43mname\u001b[49m\u001b[43m)\u001b[49m\u001b[43m,\u001b[49m\n\u001b[0;32m    499\u001b[0m \u001b[43m        \u001b[49m\u001b[43mnum_outputs\u001b[49m\u001b[38;5;241;43m=\u001b[39;49m\u001b[38;5;28;43mself\u001b[39;49m\u001b[38;5;241;43m.\u001b[39;49m\u001b[43m_num_outputs\u001b[49m\u001b[43m,\u001b[49m\n\u001b[0;32m    500\u001b[0m \u001b[43m        \u001b[49m\u001b[43minputs\u001b[49m\u001b[38;5;241;43m=\u001b[39;49m\u001b[43margs\u001b[49m\u001b[43m,\u001b[49m\n\u001b[0;32m    501\u001b[0m \u001b[43m        \u001b[49m\u001b[43mattrs\u001b[49m\u001b[38;5;241;43m=\u001b[39;49m\u001b[43mattrs\u001b[49m\u001b[43m,\u001b[49m\n\u001b[0;32m    502\u001b[0m \u001b[43m        \u001b[49m\u001b[43mctx\u001b[49m\u001b[38;5;241;43m=\u001b[39;49m\u001b[43mctx\u001b[49m\u001b[43m)\u001b[49m\n\u001b[0;32m    503\u001b[0m   \u001b[38;5;28;01melse\u001b[39;00m:\n\u001b[0;32m    504\u001b[0m     outputs \u001b[38;5;241m=\u001b[39m execute\u001b[38;5;241m.\u001b[39mexecute_with_cancellation(\n\u001b[0;32m    505\u001b[0m         \u001b[38;5;28mstr\u001b[39m(\u001b[38;5;28mself\u001b[39m\u001b[38;5;241m.\u001b[39msignature\u001b[38;5;241m.\u001b[39mname),\n\u001b[0;32m    506\u001b[0m         num_outputs\u001b[38;5;241m=\u001b[39m\u001b[38;5;28mself\u001b[39m\u001b[38;5;241m.\u001b[39m_num_outputs,\n\u001b[1;32m   (...)\u001b[0m\n\u001b[0;32m    509\u001b[0m         ctx\u001b[38;5;241m=\u001b[39mctx,\n\u001b[0;32m    510\u001b[0m         cancellation_manager\u001b[38;5;241m=\u001b[39mcancellation_manager)\n",
      "File \u001b[1;32m~\\AppData\\Roaming\\Python\\Python38\\site-packages\\tensorflow\\python\\eager\\execute.py:54\u001b[0m, in \u001b[0;36mquick_execute\u001b[1;34m(op_name, num_outputs, inputs, attrs, ctx, name)\u001b[0m\n\u001b[0;32m     52\u001b[0m \u001b[38;5;28;01mtry\u001b[39;00m:\n\u001b[0;32m     53\u001b[0m   ctx\u001b[38;5;241m.\u001b[39mensure_initialized()\n\u001b[1;32m---> 54\u001b[0m   tensors \u001b[38;5;241m=\u001b[39m \u001b[43mpywrap_tfe\u001b[49m\u001b[38;5;241;43m.\u001b[39;49m\u001b[43mTFE_Py_Execute\u001b[49m\u001b[43m(\u001b[49m\u001b[43mctx\u001b[49m\u001b[38;5;241;43m.\u001b[39;49m\u001b[43m_handle\u001b[49m\u001b[43m,\u001b[49m\u001b[43m \u001b[49m\u001b[43mdevice_name\u001b[49m\u001b[43m,\u001b[49m\u001b[43m \u001b[49m\u001b[43mop_name\u001b[49m\u001b[43m,\u001b[49m\n\u001b[0;32m     55\u001b[0m \u001b[43m                                      \u001b[49m\u001b[43minputs\u001b[49m\u001b[43m,\u001b[49m\u001b[43m \u001b[49m\u001b[43mattrs\u001b[49m\u001b[43m,\u001b[49m\u001b[43m \u001b[49m\u001b[43mnum_outputs\u001b[49m\u001b[43m)\u001b[49m\n\u001b[0;32m     56\u001b[0m \u001b[38;5;28;01mexcept\u001b[39;00m core\u001b[38;5;241m.\u001b[39m_NotOkStatusException \u001b[38;5;28;01mas\u001b[39;00m e:\n\u001b[0;32m     57\u001b[0m   \u001b[38;5;28;01mif\u001b[39;00m name \u001b[38;5;129;01mis\u001b[39;00m \u001b[38;5;129;01mnot\u001b[39;00m \u001b[38;5;28;01mNone\u001b[39;00m:\n",
      "\u001b[1;31mKeyboardInterrupt\u001b[0m: "
     ]
    }
   ],
   "source": [
    "num_classes = 5\n",
    "\n",
    "model2 = Sequential([\n",
    "  data_augmentation,\n",
    "  layers.Conv2D(4, 3, padding='same', activation='relu'),\n",
    "  layers.MaxPooling2D(),\n",
    "  layers.Conv2D(9, 3, padding='same', activation='relu'),\n",
    "  layers.MaxPooling2D(),\n",
    "  layers.Conv2D(32, 3, padding='same', activation='relu'),\n",
    "  layers.MaxPooling2D(),\n",
    "  layers.Conv2D(64, 3, padding='same', activation='relu'),\n",
    "  layers.MaxPooling2D(),\n",
    "  layers.Flatten(),\n",
    "  layers.Dense(128, activation='relu'),\n",
    "  layers.Dense(num_classes)\n",
    "])\n",
    "\n",
    "model2.compile(optimizer='adam',\n",
    "              loss=tf.keras.losses.SparseCategoricalCrossentropy(from_logits=True),\n",
    "              metrics=['accuracy'])\n",
    "              \n",
    "model2.fit(X_train_scaled, y_train, epochs=150)    "
   ]
  },
  {
   "cell_type": "code",
   "execution_count": 41,
   "metadata": {},
   "outputs": [
    {
     "name": "stdout",
     "output_type": "stream",
     "text": [
      "Model: \"sequential_1\"\n",
      "_________________________________________________________________\n",
      " Layer (type)                Output Shape              Param #   \n",
      "=================================================================\n",
      " sequential (Sequential)     (None, 224, 224, 3)       0         \n",
      "                                                                 \n",
      " conv2d (Conv2D)             (None, 224, 224, 4)       112       \n",
      "                                                                 \n",
      " max_pooling2d (MaxPooling2D  (None, 112, 112, 4)      0         \n",
      " )                                                               \n",
      "                                                                 \n",
      " conv2d_1 (Conv2D)           (None, 112, 112, 9)       333       \n",
      "                                                                 \n",
      " max_pooling2d_1 (MaxPooling  (None, 56, 56, 9)        0         \n",
      " 2D)                                                             \n",
      "                                                                 \n",
      " conv2d_2 (Conv2D)           (None, 56, 56, 32)        2624      \n",
      "                                                                 \n",
      " max_pooling2d_2 (MaxPooling  (None, 28, 28, 32)       0         \n",
      " 2D)                                                             \n",
      "                                                                 \n",
      " conv2d_3 (Conv2D)           (None, 28, 28, 64)        18496     \n",
      "                                                                 \n",
      " max_pooling2d_3 (MaxPooling  (None, 14, 14, 64)       0         \n",
      " 2D)                                                             \n",
      "                                                                 \n",
      " flatten (Flatten)           (None, 12544)             0         \n",
      "                                                                 \n",
      " dense (Dense)               (None, 128)               1605760   \n",
      "                                                                 \n",
      " dense_1 (Dense)             (None, 5)                 645       \n",
      "                                                                 \n",
      "=================================================================\n",
      "Total params: 1,627,970\n",
      "Trainable params: 1,627,970\n",
      "Non-trainable params: 0\n",
      "_________________________________________________________________\n"
     ]
    }
   ],
   "source": [
    "model2.summary()"
   ]
  },
  {
   "cell_type": "markdown",
   "metadata": {},
   "source": [
    "Calculate the accuracy"
   ]
  },
  {
   "cell_type": "code",
   "execution_count": 56,
   "metadata": {
    "colab": {
     "base_uri": "https://localhost:8080/"
    },
    "id": "dsDJPQBZRYlv",
    "outputId": "9941bc59-b44f-4afe-ea36-f75a5ef9a4b1"
   },
   "outputs": [
    {
     "name": "stdout",
     "output_type": "stream",
     "text": [
      "4/4 [==============================] - 1s 93ms/step - loss: 1.8176 - accuracy: 0.6560\n"
     ]
    },
    {
     "data": {
      "text/plain": [
       "[1.8175956010818481, 0.656000018119812]"
      ]
     },
     "execution_count": 56,
     "metadata": {},
     "output_type": "execute_result"
    }
   ],
   "source": [
    "model2.evaluate(X_test_scaled,y_test)"
   ]
  },
  {
   "cell_type": "markdown",
   "metadata": {
    "id": "dvvsSCwyRYzB"
   },
   "source": [
    "**3rd Classification Model**"
   ]
  },
  {
   "cell_type": "markdown",
   "metadata": {},
   "source": [
    "In this method, we use the pre-trained MobileNetv2 model after being fine tuned. So that a classification layer is added and only the weights leading to the last layer are traind.\n",
    "For this method, it is necessary that the number of pixels in length and width be equal to the input of the pre-traind moreover, the images should be three-channeled, which we obtain by resizing the input images. It should be noted that in this method, the input images are not augmented."
   ]
  },
  {
   "cell_type": "code",
   "execution_count": 24,
   "metadata": {},
   "outputs": [],
   "source": [
    "feature_extractor_model = \"https://tfhub.dev/google/tf2-preview/mobilenet_v2/feature_vector/4\""
   ]
  },
  {
   "cell_type": "code",
   "execution_count": 25,
   "metadata": {},
   "outputs": [
    {
     "ename": "OSError",
     "evalue": "SavedModel file does not exist at: C:\\Users\\lenovo\\AppData\\Local\\Temp\\tfhub_modules\\145bb06ec3b59b08fb564ab752bd5aa222bfb50a\\{saved_model.pbtxt|saved_model.pb}",
     "output_type": "error",
     "traceback": [
      "\u001b[1;31m---------------------------------------------------------------------------\u001b[0m",
      "\u001b[1;31mOSError\u001b[0m                                   Traceback (most recent call last)",
      "Input \u001b[1;32mIn [25]\u001b[0m, in \u001b[0;36m<module>\u001b[1;34m\u001b[0m\n\u001b[1;32m----> 1\u001b[0m pretrained_model_without_top_layer \u001b[38;5;241m=\u001b[39m \u001b[43mhub\u001b[49m\u001b[38;5;241;43m.\u001b[39;49m\u001b[43mKerasLayer\u001b[49m\u001b[43m(\u001b[49m\n\u001b[0;32m      2\u001b[0m \u001b[43m    \u001b[49m\u001b[43mfeature_extractor_model\u001b[49m\u001b[43m,\u001b[49m\u001b[43m \u001b[49m\u001b[43minput_shape\u001b[49m\u001b[38;5;241;43m=\u001b[39;49m\u001b[43m(\u001b[49m\u001b[38;5;241;43m224\u001b[39;49m\u001b[43m,\u001b[49m\u001b[43m \u001b[49m\u001b[38;5;241;43m224\u001b[39;49m\u001b[43m,\u001b[49m\u001b[43m \u001b[49m\u001b[38;5;241;43m3\u001b[39;49m\u001b[43m)\u001b[49m\u001b[43m,\u001b[49m\u001b[43m \u001b[49m\u001b[43mtrainable\u001b[49m\u001b[38;5;241;43m=\u001b[39;49m\u001b[38;5;28;43;01mFalse\u001b[39;49;00m\u001b[43m)\u001b[49m\n",
      "File \u001b[1;32m~\\AppData\\Roaming\\Python\\Python38\\site-packages\\tensorflow_hub\\keras_layer.py:153\u001b[0m, in \u001b[0;36mKerasLayer.__init__\u001b[1;34m(self, handle, trainable, arguments, _sentinel, tags, signature, signature_outputs_as_dict, output_key, output_shape, load_options, **kwargs)\u001b[0m\n\u001b[0;32m    149\u001b[0m   \u001b[38;5;28mself\u001b[39m\u001b[38;5;241m.\u001b[39m_output_shape \u001b[38;5;241m=\u001b[39m data_structures\u001b[38;5;241m.\u001b[39mNoDependency(\n\u001b[0;32m    150\u001b[0m       _convert_nest_to_shapes(output_shape))\n\u001b[0;32m    152\u001b[0m \u001b[38;5;28mself\u001b[39m\u001b[38;5;241m.\u001b[39m_load_options \u001b[38;5;241m=\u001b[39m load_options\n\u001b[1;32m--> 153\u001b[0m \u001b[38;5;28mself\u001b[39m\u001b[38;5;241m.\u001b[39m_func \u001b[38;5;241m=\u001b[39m \u001b[43mload_module\u001b[49m\u001b[43m(\u001b[49m\u001b[43mhandle\u001b[49m\u001b[43m,\u001b[49m\u001b[43m \u001b[49m\u001b[43mtags\u001b[49m\u001b[43m,\u001b[49m\u001b[43m \u001b[49m\u001b[38;5;28;43mself\u001b[39;49m\u001b[38;5;241;43m.\u001b[39;49m\u001b[43m_load_options\u001b[49m\u001b[43m)\u001b[49m\n\u001b[0;32m    154\u001b[0m \u001b[38;5;28mself\u001b[39m\u001b[38;5;241m.\u001b[39m_has_training_argument \u001b[38;5;241m=\u001b[39m func_has_training_argument(\u001b[38;5;28mself\u001b[39m\u001b[38;5;241m.\u001b[39m_func)\n\u001b[0;32m    155\u001b[0m \u001b[38;5;28mself\u001b[39m\u001b[38;5;241m.\u001b[39m_is_hub_module_v1 \u001b[38;5;241m=\u001b[39m \u001b[38;5;28mgetattr\u001b[39m(\u001b[38;5;28mself\u001b[39m\u001b[38;5;241m.\u001b[39m_func, \u001b[38;5;124m\"\u001b[39m\u001b[38;5;124m_is_hub_module_v1\u001b[39m\u001b[38;5;124m\"\u001b[39m, \u001b[38;5;28;01mFalse\u001b[39;00m)\n",
      "File \u001b[1;32m~\\AppData\\Roaming\\Python\\Python38\\site-packages\\tensorflow_hub\\keras_layer.py:449\u001b[0m, in \u001b[0;36mload_module\u001b[1;34m(handle, tags, load_options)\u001b[0m\n\u001b[0;32m    447\u001b[0m   \u001b[38;5;28;01mexcept\u001b[39;00m \u001b[38;5;167;01mImportError\u001b[39;00m:  \u001b[38;5;66;03m# Expected before TF2.4.\u001b[39;00m\n\u001b[0;32m    448\u001b[0m     set_load_options \u001b[38;5;241m=\u001b[39m load_options\n\u001b[1;32m--> 449\u001b[0m \u001b[38;5;28;01mreturn\u001b[39;00m \u001b[43mmodule_v2\u001b[49m\u001b[38;5;241;43m.\u001b[39;49m\u001b[43mload\u001b[49m\u001b[43m(\u001b[49m\u001b[43mhandle\u001b[49m\u001b[43m,\u001b[49m\u001b[43m \u001b[49m\u001b[43mtags\u001b[49m\u001b[38;5;241;43m=\u001b[39;49m\u001b[43mtags\u001b[49m\u001b[43m,\u001b[49m\u001b[43m \u001b[49m\u001b[43moptions\u001b[49m\u001b[38;5;241;43m=\u001b[39;49m\u001b[43mset_load_options\u001b[49m\u001b[43m)\u001b[49m\n",
      "File \u001b[1;32m~\\AppData\\Roaming\\Python\\Python38\\site-packages\\tensorflow_hub\\module_v2.py:106\u001b[0m, in \u001b[0;36mload\u001b[1;34m(handle, tags, options)\u001b[0m\n\u001b[0;32m    103\u001b[0m   obj \u001b[38;5;241m=\u001b[39m tf\u001b[38;5;241m.\u001b[39mcompat\u001b[38;5;241m.\u001b[39mv1\u001b[38;5;241m.\u001b[39msaved_model\u001b[38;5;241m.\u001b[39mload_v2(\n\u001b[0;32m    104\u001b[0m       module_path, tags\u001b[38;5;241m=\u001b[39mtags, options\u001b[38;5;241m=\u001b[39moptions)\n\u001b[0;32m    105\u001b[0m \u001b[38;5;28;01melse\u001b[39;00m:\n\u001b[1;32m--> 106\u001b[0m   obj \u001b[38;5;241m=\u001b[39m \u001b[43mtf\u001b[49m\u001b[38;5;241;43m.\u001b[39;49m\u001b[43mcompat\u001b[49m\u001b[38;5;241;43m.\u001b[39;49m\u001b[43mv1\u001b[49m\u001b[38;5;241;43m.\u001b[39;49m\u001b[43msaved_model\u001b[49m\u001b[38;5;241;43m.\u001b[39;49m\u001b[43mload_v2\u001b[49m\u001b[43m(\u001b[49m\u001b[43mmodule_path\u001b[49m\u001b[43m,\u001b[49m\u001b[43m \u001b[49m\u001b[43mtags\u001b[49m\u001b[38;5;241;43m=\u001b[39;49m\u001b[43mtags\u001b[49m\u001b[43m)\u001b[49m\n\u001b[0;32m    107\u001b[0m obj\u001b[38;5;241m.\u001b[39m_is_hub_module_v1 \u001b[38;5;241m=\u001b[39m is_hub_module_v1  \u001b[38;5;66;03m# pylint: disable=protected-access\u001b[39;00m\n\u001b[0;32m    108\u001b[0m \u001b[38;5;28;01mreturn\u001b[39;00m obj\n",
      "File \u001b[1;32m~\\AppData\\Roaming\\Python\\Python38\\site-packages\\tensorflow\\python\\saved_model\\load.py:782\u001b[0m, in \u001b[0;36mload\u001b[1;34m(export_dir, tags, options)\u001b[0m\n\u001b[0;32m    780\u001b[0m \u001b[38;5;28;01mif\u001b[39;00m \u001b[38;5;28misinstance\u001b[39m(export_dir, os\u001b[38;5;241m.\u001b[39mPathLike):\n\u001b[0;32m    781\u001b[0m   export_dir \u001b[38;5;241m=\u001b[39m os\u001b[38;5;241m.\u001b[39mfspath(export_dir)\n\u001b[1;32m--> 782\u001b[0m result \u001b[38;5;241m=\u001b[39m \u001b[43mload_partial\u001b[49m\u001b[43m(\u001b[49m\u001b[43mexport_dir\u001b[49m\u001b[43m,\u001b[49m\u001b[43m \u001b[49m\u001b[38;5;28;43;01mNone\u001b[39;49;00m\u001b[43m,\u001b[49m\u001b[43m \u001b[49m\u001b[43mtags\u001b[49m\u001b[43m,\u001b[49m\u001b[43m \u001b[49m\u001b[43moptions\u001b[49m\u001b[43m)\u001b[49m[\u001b[38;5;124m\"\u001b[39m\u001b[38;5;124mroot\u001b[39m\u001b[38;5;124m\"\u001b[39m]\n\u001b[0;32m    783\u001b[0m \u001b[38;5;28;01mreturn\u001b[39;00m result\n",
      "File \u001b[1;32m~\\AppData\\Roaming\\Python\\Python38\\site-packages\\tensorflow\\python\\saved_model\\load.py:887\u001b[0m, in \u001b[0;36mload_partial\u001b[1;34m(export_dir, filters, tags, options)\u001b[0m\n\u001b[0;32m    882\u001b[0m \u001b[38;5;28;01mif\u001b[39;00m tags \u001b[38;5;129;01mis\u001b[39;00m \u001b[38;5;129;01mnot\u001b[39;00m \u001b[38;5;28;01mNone\u001b[39;00m \u001b[38;5;129;01mand\u001b[39;00m \u001b[38;5;129;01mnot\u001b[39;00m \u001b[38;5;28misinstance\u001b[39m(tags, \u001b[38;5;28mset\u001b[39m):\n\u001b[0;32m    883\u001b[0m   \u001b[38;5;66;03m# Supports e.g. tags=SERVING and tags=[SERVING]. Sets aren't considered\u001b[39;00m\n\u001b[0;32m    884\u001b[0m   \u001b[38;5;66;03m# sequences for nest.flatten, so we put those through as-is.\u001b[39;00m\n\u001b[0;32m    885\u001b[0m   tags \u001b[38;5;241m=\u001b[39m nest\u001b[38;5;241m.\u001b[39mflatten(tags)\n\u001b[0;32m    886\u001b[0m saved_model_proto, debug_info \u001b[38;5;241m=\u001b[39m (\n\u001b[1;32m--> 887\u001b[0m     \u001b[43mloader_impl\u001b[49m\u001b[38;5;241;43m.\u001b[39;49m\u001b[43mparse_saved_model_with_debug_info\u001b[49m\u001b[43m(\u001b[49m\u001b[43mexport_dir\u001b[49m\u001b[43m)\u001b[49m)\n\u001b[0;32m    889\u001b[0m \u001b[38;5;28;01mif\u001b[39;00m (\u001b[38;5;28mlen\u001b[39m(saved_model_proto\u001b[38;5;241m.\u001b[39mmeta_graphs) \u001b[38;5;241m==\u001b[39m \u001b[38;5;241m1\u001b[39m \u001b[38;5;129;01mand\u001b[39;00m\n\u001b[0;32m    890\u001b[0m     saved_model_proto\u001b[38;5;241m.\u001b[39mmeta_graphs[\u001b[38;5;241m0\u001b[39m]\u001b[38;5;241m.\u001b[39mHasField(\u001b[38;5;124m\"\u001b[39m\u001b[38;5;124mobject_graph_def\u001b[39m\u001b[38;5;124m\"\u001b[39m)):\n\u001b[0;32m    891\u001b[0m   metrics\u001b[38;5;241m.\u001b[39mIncrementReadApi(_LOAD_V2_LABEL)\n",
      "File \u001b[1;32m~\\AppData\\Roaming\\Python\\Python38\\site-packages\\tensorflow\\python\\saved_model\\loader_impl.py:57\u001b[0m, in \u001b[0;36mparse_saved_model_with_debug_info\u001b[1;34m(export_dir)\u001b[0m\n\u001b[0;32m     44\u001b[0m \u001b[38;5;28;01mdef\u001b[39;00m \u001b[38;5;21mparse_saved_model_with_debug_info\u001b[39m(export_dir):\n\u001b[0;32m     45\u001b[0m   \u001b[38;5;124;03m\"\"\"Reads the savedmodel as well as the graph debug info.\u001b[39;00m\n\u001b[0;32m     46\u001b[0m \n\u001b[0;32m     47\u001b[0m \u001b[38;5;124;03m  Args:\u001b[39;00m\n\u001b[1;32m   (...)\u001b[0m\n\u001b[0;32m     55\u001b[0m \u001b[38;5;124;03m    parsed. Missing graph debug info file is fine.\u001b[39;00m\n\u001b[0;32m     56\u001b[0m \u001b[38;5;124;03m  \"\"\"\u001b[39;00m\n\u001b[1;32m---> 57\u001b[0m   saved_model \u001b[38;5;241m=\u001b[39m \u001b[43mparse_saved_model\u001b[49m\u001b[43m(\u001b[49m\u001b[43mexport_dir\u001b[49m\u001b[43m)\u001b[49m\n\u001b[0;32m     59\u001b[0m   debug_info_path \u001b[38;5;241m=\u001b[39m file_io\u001b[38;5;241m.\u001b[39mjoin(\n\u001b[0;32m     60\u001b[0m       saved_model_utils\u001b[38;5;241m.\u001b[39mget_debug_dir(export_dir),\n\u001b[0;32m     61\u001b[0m       constants\u001b[38;5;241m.\u001b[39mDEBUG_INFO_FILENAME_PB)\n\u001b[0;32m     62\u001b[0m   debug_info \u001b[38;5;241m=\u001b[39m graph_debug_info_pb2\u001b[38;5;241m.\u001b[39mGraphDebugInfo()\n",
      "File \u001b[1;32m~\\AppData\\Roaming\\Python\\Python38\\site-packages\\tensorflow\\python\\saved_model\\loader_impl.py:115\u001b[0m, in \u001b[0;36mparse_saved_model\u001b[1;34m(export_dir)\u001b[0m\n\u001b[0;32m    113\u001b[0m     \u001b[38;5;28;01mraise\u001b[39;00m \u001b[38;5;167;01mIOError\u001b[39;00m(\u001b[38;5;124mf\u001b[39m\u001b[38;5;124m\"\u001b[39m\u001b[38;5;124mCannot parse file \u001b[39m\u001b[38;5;132;01m{\u001b[39;00mpath_to_pbtxt\u001b[38;5;132;01m}\u001b[39;00m\u001b[38;5;124m: \u001b[39m\u001b[38;5;132;01m{\u001b[39;00m\u001b[38;5;28mstr\u001b[39m(e)\u001b[38;5;132;01m}\u001b[39;00m\u001b[38;5;124m.\u001b[39m\u001b[38;5;124m\"\u001b[39m)\n\u001b[0;32m    114\u001b[0m \u001b[38;5;28;01melse\u001b[39;00m:\n\u001b[1;32m--> 115\u001b[0m   \u001b[38;5;28;01mraise\u001b[39;00m \u001b[38;5;167;01mIOError\u001b[39;00m(\n\u001b[0;32m    116\u001b[0m       \u001b[38;5;124mf\u001b[39m\u001b[38;5;124m\"\u001b[39m\u001b[38;5;124mSavedModel file does not exist at: \u001b[39m\u001b[38;5;132;01m{\u001b[39;00mexport_dir\u001b[38;5;132;01m}\u001b[39;00m\u001b[38;5;132;01m{\u001b[39;00mos\u001b[38;5;241m.\u001b[39mpath\u001b[38;5;241m.\u001b[39msep\u001b[38;5;132;01m}\u001b[39;00m\u001b[38;5;124m\"\u001b[39m\n\u001b[0;32m    117\u001b[0m       \u001b[38;5;124mf\u001b[39m\u001b[38;5;124m\"\u001b[39m\u001b[38;5;130;01m{{\u001b[39;00m\u001b[38;5;132;01m{\u001b[39;00mconstants\u001b[38;5;241m.\u001b[39mSAVED_MODEL_FILENAME_PBTXT\u001b[38;5;132;01m}\u001b[39;00m\u001b[38;5;124m|\u001b[39m\u001b[38;5;124m\"\u001b[39m\n\u001b[0;32m    118\u001b[0m       \u001b[38;5;124mf\u001b[39m\u001b[38;5;124m\"\u001b[39m\u001b[38;5;132;01m{\u001b[39;00mconstants\u001b[38;5;241m.\u001b[39mSAVED_MODEL_FILENAME_PB\u001b[38;5;132;01m}\u001b[39;00m\u001b[38;5;130;01m}}\u001b[39;00m\u001b[38;5;124m\"\u001b[39m)\n",
      "\u001b[1;31mOSError\u001b[0m: SavedModel file does not exist at: C:\\Users\\lenovo\\AppData\\Local\\Temp\\tfhub_modules\\145bb06ec3b59b08fb564ab752bd5aa222bfb50a\\{saved_model.pbtxt|saved_model.pb}"
     ]
    }
   ],
   "source": [
    "pretrained_model_without_top_layer = hub.KerasLayer(\n",
    "    feature_extractor_model, input_shape=(224, 224, 3), trainable=False)"
   ]
  },
  {
   "cell_type": "code",
   "execution_count": 61,
   "metadata": {},
   "outputs": [
    {
     "name": "stdout",
     "output_type": "stream",
     "text": [
      "Model: \"sequential_26\"\n",
      "_________________________________________________________________\n",
      " Layer (type)                Output Shape              Param #   \n",
      "=================================================================\n",
      " keras_layer (KerasLayer)    (None, 1280)              2257984   \n",
      "                                                                 \n",
      " dense_36 (Dense)            (None, 5)                 6405      \n",
      "                                                                 \n",
      "=================================================================\n",
      "Total params: 2,264,389\n",
      "Trainable params: 6,405\n",
      "Non-trainable params: 2,257,984\n",
      "_________________________________________________________________\n"
     ]
    }
   ],
   "source": [
    "num_of_flowers = 5\n",
    "\n",
    "model = tf.keras.Sequential([\n",
    "  pretrained_model_without_top_layer,\n",
    "  tf.keras.layers.Dense(num_of_flowers)\n",
    "])\n",
    "\n",
    "model.summary()"
   ]
  },
  {
   "cell_type": "code",
   "execution_count": 64,
   "metadata": {},
   "outputs": [
    {
     "name": "stdout",
     "output_type": "stream",
     "text": [
      "Epoch 1/100\n",
      "12/12 [==============================] - 9s 656ms/step - loss: 0.3879 - acc: 0.8933\n",
      "Epoch 2/100\n",
      "12/12 [==============================] - 7s 616ms/step - loss: 0.3651 - acc: 0.9200\n",
      "Epoch 3/100\n",
      "12/12 [==============================] - 7s 615ms/step - loss: 0.3419 - acc: 0.9147\n",
      "Epoch 4/100\n",
      "12/12 [==============================] - 7s 599ms/step - loss: 0.3153 - acc: 0.9280\n",
      "Epoch 5/100\n",
      "12/12 [==============================] - 7s 618ms/step - loss: 0.2861 - acc: 0.9520\n",
      "Epoch 6/100\n",
      "12/12 [==============================] - 8s 628ms/step - loss: 0.2695 - acc: 0.9573\n",
      "Epoch 7/100\n",
      "12/12 [==============================] - 7s 615ms/step - loss: 0.2545 - acc: 0.9573\n",
      "Epoch 8/100\n",
      "12/12 [==============================] - 7s 616ms/step - loss: 0.2472 - acc: 0.9520\n",
      "Epoch 9/100\n",
      "12/12 [==============================] - 8s 658ms/step - loss: 0.2334 - acc: 0.9573\n",
      "Epoch 10/100\n",
      "12/12 [==============================] - 8s 636ms/step - loss: 0.2197 - acc: 0.9733\n",
      "Epoch 11/100\n",
      "12/12 [==============================] - 8s 621ms/step - loss: 0.2086 - acc: 0.9787\n",
      "Epoch 12/100\n",
      "12/12 [==============================] - 8s 639ms/step - loss: 0.2017 - acc: 0.9760\n",
      "Epoch 13/100\n",
      "12/12 [==============================] - 7s 615ms/step - loss: 0.1911 - acc: 0.9787\n",
      "Epoch 14/100\n",
      "12/12 [==============================] - 7s 616ms/step - loss: 0.1862 - acc: 0.9707\n",
      "Epoch 15/100\n",
      "12/12 [==============================] - 7s 627ms/step - loss: 0.1781 - acc: 0.9787\n",
      "Epoch 16/100\n",
      "12/12 [==============================] - 7s 622ms/step - loss: 0.1685 - acc: 0.9813\n",
      "Epoch 17/100\n",
      "12/12 [==============================] - 8s 648ms/step - loss: 0.1575 - acc: 0.9840\n",
      "Epoch 18/100\n",
      "12/12 [==============================] - 8s 624ms/step - loss: 0.1518 - acc: 0.9867\n",
      "Epoch 19/100\n",
      "12/12 [==============================] - 8s 625ms/step - loss: 0.1499 - acc: 0.9813\n",
      "Epoch 20/100\n",
      "12/12 [==============================] - 8s 629ms/step - loss: 0.1364 - acc: 0.9947\n",
      "Epoch 21/100\n",
      "12/12 [==============================] - 7s 614ms/step - loss: 0.1345 - acc: 0.9920\n",
      "Epoch 22/100\n",
      "12/12 [==============================] - 7s 619ms/step - loss: 0.1288 - acc: 0.9947\n",
      "Epoch 23/100\n",
      "12/12 [==============================] - 7s 623ms/step - loss: 0.1232 - acc: 0.9947\n",
      "Epoch 24/100\n",
      "12/12 [==============================] - 8s 649ms/step - loss: 0.1199 - acc: 0.9973\n",
      "Epoch 25/100\n",
      "12/12 [==============================] - 8s 679ms/step - loss: 0.1155 - acc: 0.9973\n",
      "Epoch 26/100\n",
      "12/12 [==============================] - 8s 644ms/step - loss: 0.1110 - acc: 0.9973\n",
      "Epoch 27/100\n",
      "12/12 [==============================] - 8s 695ms/step - loss: 0.1079 - acc: 1.0000\n",
      "Epoch 28/100\n",
      "12/12 [==============================] - 8s 657ms/step - loss: 0.1042 - acc: 0.9947\n",
      "Epoch 29/100\n",
      "12/12 [==============================] - 8s 677ms/step - loss: 0.0998 - acc: 1.0000\n",
      "Epoch 30/100\n",
      "12/12 [==============================] - 8s 633ms/step - loss: 0.0963 - acc: 1.0000\n",
      "Epoch 31/100\n",
      "12/12 [==============================] - 8s 628ms/step - loss: 0.0925 - acc: 1.0000\n",
      "Epoch 32/100\n",
      "12/12 [==============================] - 8s 640ms/step - loss: 0.0907 - acc: 1.0000\n",
      "Epoch 33/100\n",
      "12/12 [==============================] - 8s 663ms/step - loss: 0.0910 - acc: 0.9973\n",
      "Epoch 34/100\n",
      "12/12 [==============================] - 8s 628ms/step - loss: 0.0868 - acc: 1.0000\n",
      "Epoch 35/100\n",
      "12/12 [==============================] - 8s 638ms/step - loss: 0.0851 - acc: 1.0000\n",
      "Epoch 36/100\n",
      "12/12 [==============================] - 8s 647ms/step - loss: 0.0803 - acc: 1.0000\n",
      "Epoch 37/100\n",
      "12/12 [==============================] - 8s 653ms/step - loss: 0.0770 - acc: 1.0000\n",
      "Epoch 38/100\n",
      "12/12 [==============================] - 8s 633ms/step - loss: 0.0758 - acc: 1.0000\n",
      "Epoch 39/100\n",
      "12/12 [==============================] - 8s 632ms/step - loss: 0.0734 - acc: 1.0000\n",
      "Epoch 40/100\n",
      "12/12 [==============================] - 8s 660ms/step - loss: 0.0725 - acc: 1.0000\n",
      "Epoch 41/100\n",
      "12/12 [==============================] - 8s 647ms/step - loss: 0.0696 - acc: 1.0000\n",
      "Epoch 42/100\n",
      "12/12 [==============================] - 8s 634ms/step - loss: 0.0665 - acc: 1.0000\n",
      "Epoch 43/100\n",
      "12/12 [==============================] - 8s 641ms/step - loss: 0.0641 - acc: 1.0000\n",
      "Epoch 44/100\n",
      "12/12 [==============================] - 9s 716ms/step - loss: 0.0625 - acc: 1.0000\n",
      "Epoch 45/100\n",
      "12/12 [==============================] - 9s 717ms/step - loss: 0.0603 - acc: 1.0000\n",
      "Epoch 46/100\n",
      "12/12 [==============================] - 9s 716ms/step - loss: 0.0594 - acc: 1.0000\n",
      "Epoch 47/100\n",
      "12/12 [==============================] - 9s 738ms/step - loss: 0.0573 - acc: 1.0000\n",
      "Epoch 48/100\n",
      "12/12 [==============================] - 9s 744ms/step - loss: 0.0559 - acc: 1.0000\n",
      "Epoch 49/100\n",
      "12/12 [==============================] - 8s 695ms/step - loss: 0.0544 - acc: 1.0000\n",
      "Epoch 50/100\n",
      "12/12 [==============================] - 9s 721ms/step - loss: 0.0528 - acc: 1.0000\n",
      "Epoch 51/100\n",
      "12/12 [==============================] - 9s 710ms/step - loss: 0.0517 - acc: 1.0000\n",
      "Epoch 52/100\n",
      "12/12 [==============================] - 9s 728ms/step - loss: 0.0503 - acc: 1.0000\n",
      "Epoch 53/100\n",
      "12/12 [==============================] - 8s 664ms/step - loss: 0.0490 - acc: 1.0000\n",
      "Epoch 54/100\n",
      "12/12 [==============================] - 8s 676ms/step - loss: 0.0495 - acc: 1.0000\n",
      "Epoch 55/100\n",
      "12/12 [==============================] - 8s 699ms/step - loss: 0.0471 - acc: 1.0000\n",
      "Epoch 56/100\n",
      "12/12 [==============================] - 8s 683ms/step - loss: 0.0456 - acc: 1.0000\n",
      "Epoch 57/100\n",
      "12/12 [==============================] - 8s 673ms/step - loss: 0.0447 - acc: 1.0000\n",
      "Epoch 58/100\n",
      "12/12 [==============================] - 8s 660ms/step - loss: 0.0444 - acc: 1.0000\n",
      "Epoch 59/100\n",
      "12/12 [==============================] - 8s 665ms/step - loss: 0.0444 - acc: 1.0000\n",
      "Epoch 60/100\n",
      "12/12 [==============================] - 9s 742ms/step - loss: 0.0425 - acc: 1.0000\n",
      "Epoch 61/100\n",
      "12/12 [==============================] - 9s 730ms/step - loss: 0.0420 - acc: 1.0000\n",
      "Epoch 62/100\n",
      "12/12 [==============================] - 9s 764ms/step - loss: 0.0411 - acc: 1.0000\n",
      "Epoch 63/100\n",
      "12/12 [==============================] - 9s 713ms/step - loss: 0.0397 - acc: 1.0000\n",
      "Epoch 64/100\n",
      "12/12 [==============================] - 8s 687ms/step - loss: 0.0389 - acc: 1.0000\n",
      "Epoch 65/100\n",
      "12/12 [==============================] - 9s 784ms/step - loss: 0.0375 - acc: 1.0000\n",
      "Epoch 66/100\n",
      "12/12 [==============================] - 9s 719ms/step - loss: 0.0366 - acc: 1.0000\n",
      "Epoch 67/100\n",
      "12/12 [==============================] - 8s 703ms/step - loss: 0.0358 - acc: 1.0000\n",
      "Epoch 68/100\n",
      "12/12 [==============================] - 9s 720ms/step - loss: 0.0356 - acc: 1.0000\n",
      "Epoch 69/100\n",
      "12/12 [==============================] - 9s 748ms/step - loss: 0.0352 - acc: 1.0000\n",
      "Epoch 70/100\n",
      "12/12 [==============================] - 8s 662ms/step - loss: 0.0339 - acc: 1.0000\n",
      "Epoch 71/100\n",
      "12/12 [==============================] - 8s 662ms/step - loss: 0.0339 - acc: 1.0000\n",
      "Epoch 72/100\n",
      "12/12 [==============================] - 8s 670ms/step - loss: 0.0336 - acc: 1.0000\n",
      "Epoch 73/100\n",
      "12/12 [==============================] - 8s 706ms/step - loss: 0.0318 - acc: 1.0000\n",
      "Epoch 74/100\n",
      "12/12 [==============================] - 8s 667ms/step - loss: 0.0315 - acc: 1.0000\n",
      "Epoch 75/100\n",
      "12/12 [==============================] - 8s 660ms/step - loss: 0.0308 - acc: 1.0000\n",
      "Epoch 76/100\n",
      "12/12 [==============================] - 9s 714ms/step - loss: 0.0310 - acc: 1.0000\n",
      "Epoch 77/100\n",
      "12/12 [==============================] - 8s 686ms/step - loss: 0.0299 - acc: 1.0000\n",
      "Epoch 78/100\n",
      "12/12 [==============================] - 8s 669ms/step - loss: 0.0293 - acc: 1.0000\n",
      "Epoch 79/100\n",
      "12/12 [==============================] - 8s 661ms/step - loss: 0.0287 - acc: 1.0000\n",
      "Epoch 80/100\n",
      "12/12 [==============================] - 8s 673ms/step - loss: 0.0279 - acc: 1.0000\n",
      "Epoch 81/100\n",
      "12/12 [==============================] - 8s 688ms/step - loss: 0.0277 - acc: 1.0000\n",
      "Epoch 82/100\n",
      "12/12 [==============================] - 9s 758ms/step - loss: 0.0271 - acc: 1.0000\n",
      "Epoch 83/100\n",
      "12/12 [==============================] - 9s 755ms/step - loss: 0.0271 - acc: 1.0000\n",
      "Epoch 84/100\n",
      "12/12 [==============================] - 9s 705ms/step - loss: 0.0260 - acc: 1.0000\n",
      "Epoch 85/100\n",
      "12/12 [==============================] - 9s 721ms/step - loss: 0.0256 - acc: 1.0000\n",
      "Epoch 86/100\n",
      "12/12 [==============================] - 8s 704ms/step - loss: 0.0251 - acc: 1.0000\n",
      "Epoch 87/100\n",
      "12/12 [==============================] - 9s 707ms/step - loss: 0.0245 - acc: 1.0000\n",
      "Epoch 88/100\n",
      "12/12 [==============================] - 8s 696ms/step - loss: 0.0241 - acc: 1.0000\n",
      "Epoch 89/100\n",
      "12/12 [==============================] - 8s 682ms/step - loss: 0.0238 - acc: 1.0000\n",
      "Epoch 90/100\n",
      "12/12 [==============================] - 8s 706ms/step - loss: 0.0233 - acc: 1.0000\n",
      "Epoch 91/100\n",
      "12/12 [==============================] - 8s 703ms/step - loss: 0.0230 - acc: 1.0000\n",
      "Epoch 92/100\n",
      "12/12 [==============================] - 8s 675ms/step - loss: 0.0224 - acc: 1.0000\n",
      "Epoch 93/100\n",
      "12/12 [==============================] - 8s 685ms/step - loss: 0.0223 - acc: 1.0000\n",
      "Epoch 94/100\n",
      "12/12 [==============================] - 8s 671ms/step - loss: 0.0219 - acc: 1.0000\n",
      "Epoch 95/100\n",
      "12/12 [==============================] - 8s 668ms/step - loss: 0.0216 - acc: 1.0000\n",
      "Epoch 96/100\n",
      "12/12 [==============================] - 8s 676ms/step - loss: 0.0213 - acc: 1.0000\n",
      "Epoch 97/100\n",
      "12/12 [==============================] - 8s 694ms/step - loss: 0.0209 - acc: 1.0000\n",
      "Epoch 98/100\n",
      "12/12 [==============================] - 8s 682ms/step - loss: 0.0206 - acc: 1.0000\n",
      "Epoch 99/100\n",
      "12/12 [==============================] - 8s 707ms/step - loss: 0.0204 - acc: 1.0000\n",
      "Epoch 100/100\n",
      "12/12 [==============================] - 9s 735ms/step - loss: 0.0201 - acc: 1.0000\n"
     ]
    },
    {
     "data": {
      "text/plain": [
       "<keras.callbacks.History at 0x2cb8b176550>"
      ]
     },
     "execution_count": 64,
     "metadata": {},
     "output_type": "execute_result"
    }
   ],
   "source": [
    "model.compile(\n",
    "  optimizer=\"adam\",\n",
    "  loss=tf.keras.losses.SparseCategoricalCrossentropy(from_logits=True),\n",
    "  metrics=['acc'])\n",
    "\n",
    "model.fit(X_train_scaled, y_train, epochs=100)"
   ]
  },
  {
   "cell_type": "code",
   "execution_count": null,
   "metadata": {},
   "outputs": [],
   "source": [
    "Calculating the accuracy of the model"
   ]
  },
  {
   "cell_type": "code",
   "execution_count": 65,
   "metadata": {},
   "outputs": [
    {
     "name": "stdout",
     "output_type": "stream",
     "text": [
      "4/4 [==============================] - 3s 604ms/step - loss: 0.4035 - acc: 0.8640\n"
     ]
    },
    {
     "data": {
      "text/plain": [
       "[0.40345901250839233, 0.8640000224113464]"
      ]
     },
     "execution_count": 65,
     "metadata": {},
     "output_type": "execute_result"
    }
   ],
   "source": [
    "model.evaluate(X_test_scaled,y_test)"
   ]
  },
  {
   "cell_type": "markdown",
   "metadata": {},
   "source": [
    "**4th Classification Model**"
   ]
  },
  {
   "cell_type": "markdown",
   "metadata": {},
   "source": [
    "In this method, we try to involve a layer with the ability to augment data in the third method. So that before the images enter the pre-trained MobileNetv2 network, they pass through layers to be augmented. By using this method, we can increase the number of epochs without fear of having an overfited model."
   ]
  },
  {
   "cell_type": "code",
   "execution_count": 83,
   "metadata": {},
   "outputs": [
    {
     "name": "stdout",
     "output_type": "stream",
     "text": [
      "Model: \"sequential_30\"\n",
      "_________________________________________________________________\n",
      " Layer (type)                Output Shape              Param #   \n",
      "=================================================================\n",
      " sequential_23 (Sequential)  (None, 224, 224, 3)       0         \n",
      "                                                                 \n",
      " keras_layer (KerasLayer)    (None, 1280)              2257984   \n",
      "                                                                 \n",
      " dense_40 (Dense)            (None, 5)                 6405      \n",
      "                                                                 \n",
      "=================================================================\n",
      "Total params: 2,264,389\n",
      "Trainable params: 6,405\n",
      "Non-trainable params: 2,257,984\n",
      "_________________________________________________________________\n"
     ]
    }
   ],
   "source": [
    "num_of_flowers = 5\n",
    "\n",
    "model4 = tf.keras.Sequential([\n",
    "  data_augmentation,\n",
    "  pretrained_model_without_top_layer,\n",
    "  tf.keras.layers.Dense(num_of_flowers)\n",
    "])\n",
    "\n",
    "model4.summary()"
   ]
  },
  {
   "cell_type": "code",
   "execution_count": 93,
   "metadata": {},
   "outputs": [
    {
     "name": "stdout",
     "output_type": "stream",
     "text": [
      "Epoch 1/120\n",
      "12/12 [==============================] - 10s 671ms/step - loss: 0.2647 - acc: 0.9227\n",
      "Epoch 2/120\n",
      "12/12 [==============================] - 8s 688ms/step - loss: 0.2799 - acc: 0.9280\n",
      "Epoch 3/120\n",
      "12/12 [==============================] - 8s 660ms/step - loss: 0.2636 - acc: 0.9227\n",
      "Epoch 4/120\n",
      "12/12 [==============================] - 8s 689ms/step - loss: 0.2319 - acc: 0.9333\n",
      "Epoch 5/120\n",
      "12/12 [==============================] - 8s 691ms/step - loss: 0.2277 - acc: 0.9360\n",
      "Epoch 6/120\n",
      "12/12 [==============================] - 8s 689ms/step - loss: 0.2451 - acc: 0.9413\n",
      "Epoch 7/120\n",
      "12/12 [==============================] - 9s 708ms/step - loss: 0.2401 - acc: 0.9440\n",
      "Epoch 8/120\n",
      "12/12 [==============================] - 9s 705ms/step - loss: 0.2513 - acc: 0.9013\n",
      "Epoch 9/120\n",
      "12/12 [==============================] - 9s 721ms/step - loss: 0.2352 - acc: 0.9253\n",
      "Epoch 10/120\n",
      "12/12 [==============================] - 8s 675ms/step - loss: 0.1987 - acc: 0.9413\n",
      "Epoch 11/120\n",
      "12/12 [==============================] - 8s 677ms/step - loss: 0.2516 - acc: 0.9227\n",
      "Epoch 12/120\n",
      "12/12 [==============================] - 8s 690ms/step - loss: 0.2207 - acc: 0.9360\n",
      "Epoch 13/120\n",
      "12/12 [==============================] - 8s 681ms/step - loss: 0.2246 - acc: 0.9387\n",
      "Epoch 14/120\n",
      "12/12 [==============================] - 8s 695ms/step - loss: 0.2092 - acc: 0.9440\n",
      "Epoch 15/120\n",
      "12/12 [==============================] - 8s 687ms/step - loss: 0.2305 - acc: 0.9307\n",
      "Epoch 16/120\n",
      "12/12 [==============================] - 9s 736ms/step - loss: 0.2303 - acc: 0.9253\n",
      "Epoch 17/120\n",
      "12/12 [==============================] - 8s 696ms/step - loss: 0.2288 - acc: 0.9253\n",
      "Epoch 18/120\n",
      "12/12 [==============================] - 9s 707ms/step - loss: 0.2149 - acc: 0.9467\n",
      "Epoch 19/120\n",
      "12/12 [==============================] - 8s 696ms/step - loss: 0.1698 - acc: 0.9733\n",
      "Epoch 20/120\n",
      "12/12 [==============================] - 8s 706ms/step - loss: 0.2117 - acc: 0.9200\n",
      "Epoch 21/120\n",
      "12/12 [==============================] - 8s 690ms/step - loss: 0.2243 - acc: 0.9413\n",
      "Epoch 22/120\n",
      "12/12 [==============================] - 8s 695ms/step - loss: 0.2103 - acc: 0.9333\n",
      "Epoch 23/120\n",
      "12/12 [==============================] - 9s 708ms/step - loss: 0.2050 - acc: 0.9307\n",
      "Epoch 24/120\n",
      "12/12 [==============================] - 9s 708ms/step - loss: 0.1854 - acc: 0.9520\n",
      "Epoch 25/120\n",
      "12/12 [==============================] - 8s 690ms/step - loss: 0.2118 - acc: 0.9547\n",
      "Epoch 26/120\n",
      "12/12 [==============================] - 8s 680ms/step - loss: 0.2097 - acc: 0.9307\n",
      "Epoch 27/120\n",
      "12/12 [==============================] - 8s 701ms/step - loss: 0.1950 - acc: 0.9547\n",
      "Epoch 28/120\n",
      "12/12 [==============================] - 8s 700ms/step - loss: 0.1963 - acc: 0.9360\n",
      "Epoch 29/120\n",
      "12/12 [==============================] - 8s 696ms/step - loss: 0.2008 - acc: 0.9547\n",
      "Epoch 30/120\n",
      "12/12 [==============================] - 8s 705ms/step - loss: 0.1917 - acc: 0.9440\n",
      "Epoch 31/120\n",
      "12/12 [==============================] - 9s 706ms/step - loss: 0.2061 - acc: 0.9307\n",
      "Epoch 32/120\n",
      "12/12 [==============================] - 9s 712ms/step - loss: 0.1941 - acc: 0.9547\n",
      "Epoch 33/120\n",
      "12/12 [==============================] - 8s 696ms/step - loss: 0.2162 - acc: 0.9307\n",
      "Epoch 34/120\n",
      "12/12 [==============================] - 8s 679ms/step - loss: 0.1989 - acc: 0.9387\n",
      "Epoch 35/120\n",
      "12/12 [==============================] - 8s 697ms/step - loss: 0.1915 - acc: 0.9520\n",
      "Epoch 36/120\n",
      "12/12 [==============================] - 8s 708ms/step - loss: 0.2007 - acc: 0.9387\n",
      "Epoch 37/120\n",
      "12/12 [==============================] - 9s 706ms/step - loss: 0.1908 - acc: 0.9440\n",
      "Epoch 38/120\n",
      "12/12 [==============================] - 9s 703ms/step - loss: 0.1820 - acc: 0.9387\n",
      "Epoch 39/120\n",
      "12/12 [==============================] - 8s 697ms/step - loss: 0.1651 - acc: 0.9707\n",
      "Epoch 40/120\n",
      "12/12 [==============================] - 8s 701ms/step - loss: 0.1483 - acc: 0.9653\n",
      "Epoch 41/120\n",
      "12/12 [==============================] - 8s 696ms/step - loss: 0.1815 - acc: 0.9467\n",
      "Epoch 42/120\n",
      "12/12 [==============================] - 8s 687ms/step - loss: 0.1534 - acc: 0.9787\n",
      "Epoch 43/120\n",
      "12/12 [==============================] - 9s 712ms/step - loss: 0.1554 - acc: 0.9707\n",
      "Epoch 44/120\n",
      "12/12 [==============================] - 8s 701ms/step - loss: 0.1849 - acc: 0.9493\n",
      "Epoch 45/120\n",
      "12/12 [==============================] - 9s 720ms/step - loss: 0.2084 - acc: 0.9493\n",
      "Epoch 46/120\n",
      "12/12 [==============================] - 8s 690ms/step - loss: 0.1884 - acc: 0.9307\n",
      "Epoch 47/120\n",
      "12/12 [==============================] - 8s 700ms/step - loss: 0.1590 - acc: 0.9653\n",
      "Epoch 48/120\n",
      "12/12 [==============================] - 8s 698ms/step - loss: 0.1514 - acc: 0.9680\n",
      "Epoch 49/120\n",
      "12/12 [==============================] - 8s 695ms/step - loss: 0.1776 - acc: 0.9573\n",
      "Epoch 50/120\n",
      "12/12 [==============================] - 8s 692ms/step - loss: 0.1673 - acc: 0.9547\n",
      "Epoch 51/120\n",
      "12/12 [==============================] - 9s 710ms/step - loss: 0.1680 - acc: 0.9600\n",
      "Epoch 52/120\n",
      "12/12 [==============================] - 9s 725ms/step - loss: 0.1884 - acc: 0.9360\n",
      "Epoch 53/120\n",
      "12/12 [==============================] - 8s 697ms/step - loss: 0.1542 - acc: 0.9520\n",
      "Epoch 54/120\n",
      "12/12 [==============================] - 8s 697ms/step - loss: 0.1395 - acc: 0.9680\n",
      "Epoch 55/120\n",
      "12/12 [==============================] - 8s 701ms/step - loss: 0.1529 - acc: 0.9627\n",
      "Epoch 56/120\n",
      "12/12 [==============================] - 8s 692ms/step - loss: 0.1580 - acc: 0.9547\n",
      "Epoch 57/120\n",
      "12/12 [==============================] - 8s 692ms/step - loss: 0.1628 - acc: 0.9600\n",
      "Epoch 58/120\n",
      "12/12 [==============================] - 9s 710ms/step - loss: 0.1641 - acc: 0.9440\n",
      "Epoch 59/120\n",
      "12/12 [==============================] - 9s 734ms/step - loss: 0.1524 - acc: 0.9653\n",
      "Epoch 60/120\n",
      "12/12 [==============================] - 8s 690ms/step - loss: 0.1479 - acc: 0.9600\n",
      "Epoch 61/120\n",
      "12/12 [==============================] - 8s 697ms/step - loss: 0.1381 - acc: 0.9733\n",
      "Epoch 62/120\n",
      "12/12 [==============================] - 8s 691ms/step - loss: 0.1474 - acc: 0.9600\n",
      "Epoch 63/120\n",
      "12/12 [==============================] - 8s 700ms/step - loss: 0.1505 - acc: 0.9627\n",
      "Epoch 64/120\n",
      "12/12 [==============================] - 8s 695ms/step - loss: 0.1451 - acc: 0.9573\n",
      "Epoch 65/120\n",
      "12/12 [==============================] - 8s 697ms/step - loss: 0.1611 - acc: 0.9520\n",
      "Epoch 66/120\n",
      "12/12 [==============================] - 9s 731ms/step - loss: 0.1536 - acc: 0.9520\n",
      "Epoch 67/120\n",
      "12/12 [==============================] - 9s 720ms/step - loss: 0.1420 - acc: 0.9733\n",
      "Epoch 68/120\n",
      "12/12 [==============================] - 8s 693ms/step - loss: 0.1554 - acc: 0.9573\n",
      "Epoch 69/120\n",
      "12/12 [==============================] - 8s 690ms/step - loss: 0.1309 - acc: 0.9653\n",
      "Epoch 70/120\n",
      "12/12 [==============================] - 8s 690ms/step - loss: 0.1377 - acc: 0.9573\n",
      "Epoch 71/120\n",
      "12/12 [==============================] - 8s 699ms/step - loss: 0.1265 - acc: 0.9653\n",
      "Epoch 72/120\n",
      "12/12 [==============================] - 8s 688ms/step - loss: 0.1483 - acc: 0.9547\n",
      "Epoch 73/120\n",
      "12/12 [==============================] - 9s 724ms/step - loss: 0.1448 - acc: 0.9680\n",
      "Epoch 74/120\n",
      "12/12 [==============================] - 9s 713ms/step - loss: 0.1176 - acc: 0.9813\n",
      "Epoch 75/120\n",
      "12/12 [==============================] - 9s 715ms/step - loss: 0.1422 - acc: 0.9760\n",
      "Epoch 76/120\n",
      "12/12 [==============================] - 8s 701ms/step - loss: 0.1321 - acc: 0.9653\n",
      "Epoch 77/120\n",
      "12/12 [==============================] - 8s 690ms/step - loss: 0.1570 - acc: 0.9653\n",
      "Epoch 78/120\n",
      "12/12 [==============================] - 8s 693ms/step - loss: 0.1468 - acc: 0.9573\n",
      "Epoch 79/120\n",
      "12/12 [==============================] - 8s 700ms/step - loss: 0.1388 - acc: 0.9627\n",
      "Epoch 80/120\n",
      "12/12 [==============================] - 9s 726ms/step - loss: 0.1529 - acc: 0.9547\n",
      "Epoch 81/120\n",
      "12/12 [==============================] - 8s 693ms/step - loss: 0.1147 - acc: 0.9733\n",
      "Epoch 82/120\n",
      "12/12 [==============================] - 9s 711ms/step - loss: 0.1374 - acc: 0.9627\n",
      "Epoch 83/120\n",
      "12/12 [==============================] - 8s 699ms/step - loss: 0.1210 - acc: 0.9733\n",
      "Epoch 84/120\n",
      "12/12 [==============================] - 8s 700ms/step - loss: 0.1305 - acc: 0.9627\n",
      "Epoch 85/120\n",
      "12/12 [==============================] - 8s 697ms/step - loss: 0.1398 - acc: 0.9573\n",
      "Epoch 86/120\n",
      "12/12 [==============================] - 8s 686ms/step - loss: 0.1534 - acc: 0.9520\n",
      "Epoch 87/120\n",
      "12/12 [==============================] - 9s 730ms/step - loss: 0.1305 - acc: 0.9680\n",
      "Epoch 88/120\n",
      "12/12 [==============================] - 8s 696ms/step - loss: 0.1198 - acc: 0.9680\n",
      "Epoch 89/120\n",
      "12/12 [==============================] - 9s 715ms/step - loss: 0.1181 - acc: 0.9707\n",
      "Epoch 90/120\n",
      "12/12 [==============================] - 9s 721ms/step - loss: 0.1189 - acc: 0.9707\n",
      "Epoch 91/120\n",
      "12/12 [==============================] - 8s 706ms/step - loss: 0.1346 - acc: 0.9733\n",
      "Epoch 92/120\n",
      "12/12 [==============================] - 8s 695ms/step - loss: 0.1257 - acc: 0.9733\n",
      "Epoch 93/120\n",
      "12/12 [==============================] - 8s 691ms/step - loss: 0.1238 - acc: 0.9707\n",
      "Epoch 94/120\n",
      "12/12 [==============================] - 9s 713ms/step - loss: 0.1228 - acc: 0.9627\n",
      "Epoch 95/120\n",
      "12/12 [==============================] - 9s 710ms/step - loss: 0.1044 - acc: 0.9733\n",
      "Epoch 96/120\n",
      "12/12 [==============================] - 8s 686ms/step - loss: 0.1321 - acc: 0.9547\n",
      "Epoch 97/120\n",
      "12/12 [==============================] - 9s 710ms/step - loss: 0.1171 - acc: 0.9680\n",
      "Epoch 98/120\n",
      "12/12 [==============================] - 9s 761ms/step - loss: 0.1078 - acc: 0.9840\n",
      "Epoch 99/120\n",
      "12/12 [==============================] - 8s 691ms/step - loss: 0.1145 - acc: 0.9653\n",
      "Epoch 100/120\n",
      "12/12 [==============================] - 8s 691ms/step - loss: 0.1188 - acc: 0.9813\n",
      "Epoch 101/120\n",
      "12/12 [==============================] - 8s 706ms/step - loss: 0.1277 - acc: 0.9707\n",
      "Epoch 102/120\n",
      "12/12 [==============================] - 8s 695ms/step - loss: 0.1238 - acc: 0.9707\n",
      "Epoch 103/120\n",
      "12/12 [==============================] - 8s 697ms/step - loss: 0.1224 - acc: 0.9653\n",
      "Epoch 104/120\n",
      "12/12 [==============================] - 8s 683ms/step - loss: 0.1236 - acc: 0.9733\n",
      "Epoch 105/120\n",
      "12/12 [==============================] - 8s 686ms/step - loss: 0.1268 - acc: 0.9707\n",
      "Epoch 106/120\n",
      "12/12 [==============================] - 9s 709ms/step - loss: 0.1143 - acc: 0.9760\n",
      "Epoch 107/120\n",
      "12/12 [==============================] - 9s 719ms/step - loss: 0.1018 - acc: 0.9867\n",
      "Epoch 108/120\n",
      "12/12 [==============================] - 9s 752ms/step - loss: 0.1207 - acc: 0.9627\n",
      "Epoch 109/120\n",
      "12/12 [==============================] - 9s 710ms/step - loss: 0.1237 - acc: 0.9627\n",
      "Epoch 110/120\n",
      "12/12 [==============================] - 8s 670ms/step - loss: 0.1059 - acc: 0.9867\n",
      "Epoch 111/120\n",
      "12/12 [==============================] - 8s 656ms/step - loss: 0.1089 - acc: 0.9680\n",
      "Epoch 112/120\n",
      "12/12 [==============================] - 8s 655ms/step - loss: 0.1158 - acc: 0.9600\n",
      "Epoch 113/120\n",
      "12/12 [==============================] - 8s 673ms/step - loss: 0.0915 - acc: 0.9893\n",
      "Epoch 114/120\n",
      "12/12 [==============================] - 8s 673ms/step - loss: 0.1299 - acc: 0.9573\n",
      "Epoch 115/120\n",
      "12/12 [==============================] - 8s 689ms/step - loss: 0.1177 - acc: 0.9760\n",
      "Epoch 116/120\n",
      "12/12 [==============================] - 8s 705ms/step - loss: 0.1244 - acc: 0.9627\n",
      "Epoch 117/120\n",
      "12/12 [==============================] - 8s 661ms/step - loss: 0.1142 - acc: 0.9653\n",
      "Epoch 118/120\n",
      "12/12 [==============================] - 8s 669ms/step - loss: 0.1221 - acc: 0.9760\n",
      "Epoch 119/120\n",
      "12/12 [==============================] - 8s 663ms/step - loss: 0.1162 - acc: 0.9760\n",
      "Epoch 120/120\n",
      "12/12 [==============================] - 8s 658ms/step - loss: 0.1169 - acc: 0.9680\n"
     ]
    },
    {
     "data": {
      "text/plain": [
       "<keras.callbacks.History at 0x2cb6b851370>"
      ]
     },
     "execution_count": 93,
     "metadata": {},
     "output_type": "execute_result"
    }
   ],
   "source": [
    "model4.compile(\n",
    "  optimizer=\"adam\",\n",
    "  loss=tf.keras.losses.SparseCategoricalCrossentropy(from_logits=True),\n",
    "  metrics=['acc'])\n",
    "\n",
    "model4.fit(X_train_scaled, y_train, epochs=120)"
   ]
  },
  {
   "cell_type": "code",
   "execution_count": 94,
   "metadata": {},
   "outputs": [
    {
     "name": "stdout",
     "output_type": "stream",
     "text": [
      "4/4 [==============================] - 3s 646ms/step - loss: 0.6374 - acc: 0.7600\n"
     ]
    },
    {
     "data": {
      "text/plain": [
       "[0.63736891746521, 0.7599999904632568]"
      ]
     },
     "execution_count": 94,
     "metadata": {},
     "output_type": "execute_result"
    }
   ],
   "source": [
    "model4.evaluate(X_test_scaled,y_test)"
   ]
  },
  {
   "cell_type": "markdown",
   "metadata": {},
   "source": [
    "**5th Classification Model**"
   ]
  },
  {
   "cell_type": "markdown",
   "metadata": {},
   "source": [
    "First, we use the state-of-art 16VGG as feature extractor. Then we use the output of the last layer of the pre-learned model for the input of the RFC and the SVC with different parameters."
   ]
  },
  {
   "cell_type": "code",
   "execution_count": 8,
   "metadata": {},
   "outputs": [
    {
     "name": "stdout",
     "output_type": "stream",
     "text": [
      "Model: \"vgg16\"\n",
      "_________________________________________________________________\n",
      " Layer (type)                Output Shape              Param #   \n",
      "=================================================================\n",
      " input_1 (InputLayer)        [(None, 224, 224, 3)]     0         \n",
      "                                                                 \n",
      " block1_conv1 (Conv2D)       (None, 224, 224, 64)      1792      \n",
      "                                                                 \n",
      " block1_conv2 (Conv2D)       (None, 224, 224, 64)      36928     \n",
      "                                                                 \n",
      " block1_pool (MaxPooling2D)  (None, 112, 112, 64)      0         \n",
      "                                                                 \n",
      " block2_conv1 (Conv2D)       (None, 112, 112, 128)     73856     \n",
      "                                                                 \n",
      " block2_conv2 (Conv2D)       (None, 112, 112, 128)     147584    \n",
      "                                                                 \n",
      " block2_pool (MaxPooling2D)  (None, 56, 56, 128)       0         \n",
      "                                                                 \n",
      " block3_conv1 (Conv2D)       (None, 56, 56, 256)       295168    \n",
      "                                                                 \n",
      " block3_conv2 (Conv2D)       (None, 56, 56, 256)       590080    \n",
      "                                                                 \n",
      " block3_conv3 (Conv2D)       (None, 56, 56, 256)       590080    \n",
      "                                                                 \n",
      " block3_pool (MaxPooling2D)  (None, 28, 28, 256)       0         \n",
      "                                                                 \n",
      " block4_conv1 (Conv2D)       (None, 28, 28, 512)       1180160   \n",
      "                                                                 \n",
      " block4_conv2 (Conv2D)       (None, 28, 28, 512)       2359808   \n",
      "                                                                 \n",
      " block4_conv3 (Conv2D)       (None, 28, 28, 512)       2359808   \n",
      "                                                                 \n",
      " block4_pool (MaxPooling2D)  (None, 14, 14, 512)       0         \n",
      "                                                                 \n",
      " block5_conv1 (Conv2D)       (None, 14, 14, 512)       2359808   \n",
      "                                                                 \n",
      " block5_conv2 (Conv2D)       (None, 14, 14, 512)       2359808   \n",
      "                                                                 \n",
      " block5_conv3 (Conv2D)       (None, 14, 14, 512)       2359808   \n",
      "                                                                 \n",
      " block5_pool (MaxPooling2D)  (None, 7, 7, 512)         0         \n",
      "                                                                 \n",
      "=================================================================\n",
      "Total params: 14,714,688\n",
      "Trainable params: 0\n",
      "Non-trainable params: 14,714,688\n",
      "_________________________________________________________________\n"
     ]
    }
   ],
   "source": [
    "VGG_model = VGG16(weights='imagenet', include_top=False, input_shape=(224, 224, 3))\n",
    "\n",
    "#Make loaded layers as non-trainable. This is important as we want to work with pre-trained weights\n",
    "for layer in VGG_model.layers:\n",
    "    layer.trainable = False\n",
    "    \n",
    "VGG_model.summary()"
   ]
  },
  {
   "cell_type": "code",
   "execution_count": 10,
   "metadata": {},
   "outputs": [
    {
     "name": "stdout",
     "output_type": "stream",
     "text": [
      "12/12 [==============================] - 47s 4s/step\n"
     ]
    }
   ],
   "source": [
    "feature_extractor=VGG_model.predict(X_train_scaled)\n",
    "features = feature_extractor.reshape(feature_extractor.shape[0], -1)"
   ]
  },
  {
   "cell_type": "code",
   "execution_count": 14,
   "metadata": {},
   "outputs": [],
   "source": [
    "from sklearn.ensemble import RandomForestClassifier\n",
    "RF_model1 = RandomForestClassifier(n_estimators = 10, random_state = 42)\n",
    "RF_model2 = RandomForestClassifier(n_estimators = 50, random_state = 43)\n",
    "RF_model3 = RandomForestClassifier(n_estimators = 70, random_state = 44)\n",
    "SVM1 = svm.SVC(kernel='poly', degree=5, C=3)\n",
    "SVM2 = svm.SVC(kernel='poly', degree=3, C=1)\n",
    "SVM3 = svm.SVC(kernel='poly', degree=6, C=1)"
   ]
  },
  {
   "cell_type": "code",
   "execution_count": 18,
   "metadata": {},
   "outputs": [
    {
     "data": {
      "text/plain": [
       "SVC(C=1, degree=6, kernel='poly')"
      ]
     },
     "execution_count": 18,
     "metadata": {},
     "output_type": "execute_result"
    }
   ],
   "source": [
    "# Train the model on training data\n",
    "RF_model1.fit(features, y_train)\n",
    "RF_model2.fit(features, y_train)\n",
    "RF_model3.fit(features, y_train)\n",
    "SVM1.fit(features, y_train)\n",
    "SVM2.fit(features, y_train)\n",
    "SVM3.fit(features, y_train)"
   ]
  },
  {
   "cell_type": "code",
   "execution_count": 22,
   "metadata": {},
   "outputs": [
    {
     "name": "stdout",
     "output_type": "stream",
     "text": [
      "4/4 [==============================] - 25s 6s/step\n"
     ]
    }
   ],
   "source": [
    "#Send test data through same feature extractor process\n",
    "X_test_feature = VGG_model.predict(X_test_scaled)\n",
    "X_test_features = X_test_feature.reshape(X_test_feature.shape[0], -1)\n",
    "\n",
    "\n",
    "#Predict using the trained RF model. \n",
    "prediction_RF1 = RF_model1.predict(X_test_features)\n",
    "prediction_RF2 = RF_model2.predict(X_test_features)\n",
    "prediction_RF3 = RF_model3.predict(X_test_features)\n",
    "prediction_SVM1 = SVM1.predict(X_test_features)\n",
    "prediction_SVM2 = SVM2.predict(X_test_features)\n",
    "prediction_SVM3 = SVM3.predict(X_test_features)"
   ]
  },
  {
   "cell_type": "code",
   "execution_count": 23,
   "metadata": {},
   "outputs": [
    {
     "name": "stdout",
     "output_type": "stream",
     "text": [
      "RF1 Accuracy =  0.608\n",
      "RF2 Accuracy =  0.752\n",
      "RF3 Accuracy =  0.672\n",
      "SVM1 Accuracy =  0.856\n",
      "SVM2 Accuracy =  0.8\n",
      "SVM3 Accuracy =  0.84\n"
     ]
    }
   ],
   "source": [
    "from sklearn import metrics\n",
    "print (\"RF1 Accuracy = \", metrics.accuracy_score(y_test, prediction_RF1))\n",
    "print (\"RF2 Accuracy = \", metrics.accuracy_score(y_test, prediction_RF2))\n",
    "print (\"RF3 Accuracy = \", metrics.accuracy_score(y_test, prediction_RF3))\n",
    "print (\"SVM1 Accuracy = \", metrics.accuracy_score(y_test, prediction_SVM1))\n",
    "print (\"SVM2 Accuracy = \", metrics.accuracy_score(y_test, prediction_SVM2))\n",
    "print (\"SVM3 Accuracy = \", metrics.accuracy_score(y_test, prediction_SVM3))"
   ]
  },
  {
   "cell_type": "markdown",
   "metadata": {},
   "source": [
    "**Classification 6**"
   ]
  },
  {
   "cell_type": "markdown",
   "metadata": {},
   "source": [
    "In the previous method, 25088 (the size of VGG16 classes) features are extracted and given to the classifiers. This amount is much lower than 365, which is the number of Images (without augmentation), so PCA method is used to reduce the dimensions of the model output -as a feature selector. It should be noted that due to the input limitation, a maximum of 365 different attributes can be kept. We run PCA four times and each time we keep 365, 200, 100 and 50 attributes respectively."
   ]
  },
  {
   "cell_type": "code",
   "execution_count": 27,
   "metadata": {},
   "outputs": [
    {
     "name": "stdout",
     "output_type": "stream",
     "text": [
      "12/12 [==============================] - 92s 8s/step\n"
     ]
    }
   ],
   "source": [
    "feature_extractor=VGG_model.predict(X_train_scaled)\n",
    "features = feature_extractor.reshape(feature_extractor.shape[0], -1)"
   ]
  },
  {
   "cell_type": "code",
   "execution_count": 28,
   "metadata": {},
   "outputs": [
    {
     "name": "stdout",
     "output_type": "stream",
     "text": [
      "number of total features was  25088  and reduced to  375\n"
     ]
    }
   ],
   "source": [
    "from sklearn.decomposition import PCA\n",
    "number_of_PCA = 375\n",
    "print(\"number of total features was \",len(features[0]),\" and reduced to \",number_of_PCA)\n",
    "pca = PCA(n_components=number_of_PCA)\n",
    "pca.fit(features)\n",
    "ex_features = pca.transform(features)"
   ]
  },
  {
   "cell_type": "code",
   "execution_count": 29,
   "metadata": {},
   "outputs": [
    {
     "data": {
      "text/plain": [
       "SVC(C=1, degree=6, kernel='poly')"
      ]
     },
     "execution_count": 29,
     "metadata": {},
     "output_type": "execute_result"
    }
   ],
   "source": [
    "# Train the model on training data\n",
    "RF_model1.fit(ex_features, y_train)\n",
    "RF_model2.fit(ex_features, y_train)\n",
    "RF_model3.fit(ex_features, y_train)\n",
    "SVM1.fit(ex_features, y_train)\n",
    "SVM2.fit(ex_features, y_train)\n",
    "SVM3.fit(ex_features, y_train)"
   ]
  },
  {
   "cell_type": "code",
   "execution_count": 32,
   "metadata": {},
   "outputs": [
    {
     "name": "stdout",
     "output_type": "stream",
     "text": [
      "4/4 [==============================] - 41s 10s/step\n"
     ]
    }
   ],
   "source": [
    "#Send test data through same feature extractor process\n",
    "X_test_feature = VGG_model.predict(X_test_scaled)\n",
    "X_test_features = X_test_feature.reshape(X_test_feature.shape[0], -1)\n",
    "ex_X_test_features =  pca.transform(X_test_features)\n",
    "\n",
    "#Predict using the trained RF model. \n",
    "prediction_RF1 = RF_model1.predict(ex_X_test_features)\n",
    "prediction_RF2 = RF_model2.predict(ex_X_test_features)\n",
    "prediction_RF3 = RF_model3.predict(ex_X_test_features)\n",
    "prediction_SVM1 = SVM1.predict(ex_X_test_features)\n",
    "prediction_SVM2 = SVM2.predict(ex_X_test_features)\n",
    "prediction_SVM3 = SVM3.predict(ex_X_test_features)"
   ]
  },
  {
   "cell_type": "code",
   "execution_count": 33,
   "metadata": {},
   "outputs": [
    {
     "name": "stdout",
     "output_type": "stream",
     "text": [
      "RF1 Accuracy =  0.392\n",
      "RF2 Accuracy =  0.648\n",
      "RF3 Accuracy =  0.712\n",
      "SVM1 Accuracy =  0.312\n",
      "SVM2 Accuracy =  0.52\n",
      "SVM3 Accuracy =  0.168\n"
     ]
    }
   ],
   "source": [
    "print (\"RF1 Accuracy = \", metrics.accuracy_score(y_test, prediction_RF1))\n",
    "print (\"RF2 Accuracy = \", metrics.accuracy_score(y_test, prediction_RF2))\n",
    "print (\"RF3 Accuracy = \", metrics.accuracy_score(y_test, prediction_RF3))\n",
    "print (\"SVM1 Accuracy = \", metrics.accuracy_score(y_test, prediction_SVM1))\n",
    "print (\"SVM2 Accuracy = \", metrics.accuracy_score(y_test, prediction_SVM2))\n",
    "print (\"SVM3 Accuracy = \", metrics.accuracy_score(y_test, prediction_SVM3))"
   ]
  },
  {
   "cell_type": "markdown",
   "metadata": {},
   "source": [
    "**Classification 6.1**"
   ]
  },
  {
   "cell_type": "code",
   "execution_count": 35,
   "metadata": {},
   "outputs": [
    {
     "name": "stdout",
     "output_type": "stream",
     "text": [
      "12/12 [==============================] - 105s 9s/step\n"
     ]
    }
   ],
   "source": [
    "feature_extractor=VGG_model.predict(X_train_scaled)\n",
    "features = feature_extractor.reshape(feature_extractor.shape[0], -1)"
   ]
  },
  {
   "cell_type": "code",
   "execution_count": 36,
   "metadata": {},
   "outputs": [
    {
     "name": "stdout",
     "output_type": "stream",
     "text": [
      "number of total features was  25088  and reduced to  200\n"
     ]
    }
   ],
   "source": [
    "number_of_PCA = 200\n",
    "print(\"number of total features was \",len(features[0]),\" and reduced to \",number_of_PCA)\n",
    "pca = PCA(n_components=number_of_PCA)\n",
    "pca.fit(features)\n",
    "ex_features = pca.transform(features)"
   ]
  },
  {
   "cell_type": "code",
   "execution_count": 37,
   "metadata": {},
   "outputs": [
    {
     "data": {
      "text/plain": [
       "SVC(C=1, degree=6, kernel='poly')"
      ]
     },
     "execution_count": 37,
     "metadata": {},
     "output_type": "execute_result"
    }
   ],
   "source": [
    "# Train the model on training data\n",
    "RF_model1.fit(ex_features, y_train)\n",
    "RF_model2.fit(ex_features, y_train)\n",
    "RF_model3.fit(ex_features, y_train)\n",
    "SVM1.fit(ex_features, y_train)\n",
    "SVM2.fit(ex_features, y_train)\n",
    "SVM3.fit(ex_features, y_train)"
   ]
  },
  {
   "cell_type": "code",
   "execution_count": 39,
   "metadata": {},
   "outputs": [
    {
     "name": "stdout",
     "output_type": "stream",
     "text": [
      "4/4 [==============================] - 37s 9s/step\n"
     ]
    }
   ],
   "source": [
    "#Send test data through same feature extractor process\n",
    "X_test_feature = VGG_model.predict(X_test_scaled)\n",
    "X_test_features = X_test_feature.reshape(X_test_feature.shape[0], -1)\n",
    "ex_X_test_features =  pca.transform(X_test_features)\n",
    "\n",
    "#Predict using the trained RF model. \n",
    "prediction_RF1 = RF_model1.predict(ex_X_test_features)\n",
    "prediction_RF2 = RF_model2.predict(ex_X_test_features)\n",
    "prediction_RF3 = RF_model3.predict(ex_X_test_features)\n",
    "prediction_SVM1 = SVM1.predict(ex_X_test_features)\n",
    "prediction_SVM2 = SVM2.predict(ex_X_test_features)\n",
    "prediction_SVM3 = SVM3.predict(ex_X_test_features)"
   ]
  },
  {
   "cell_type": "code",
   "execution_count": 40,
   "metadata": {},
   "outputs": [
    {
     "name": "stdout",
     "output_type": "stream",
     "text": [
      "RF1 Accuracy =  0.496\n",
      "RF2 Accuracy =  0.76\n",
      "RF3 Accuracy =  0.72\n",
      "SVM1 Accuracy =  0.304\n",
      "SVM2 Accuracy =  0.6\n",
      "SVM3 Accuracy =  0.168\n"
     ]
    }
   ],
   "source": [
    "print (\"RF1 Accuracy = \", metrics.accuracy_score(y_test, prediction_RF1))\n",
    "print (\"RF2 Accuracy = \", metrics.accuracy_score(y_test, prediction_RF2))\n",
    "print (\"RF3 Accuracy = \", metrics.accuracy_score(y_test, prediction_RF3))\n",
    "print (\"SVM1 Accuracy = \", metrics.accuracy_score(y_test, prediction_SVM1))\n",
    "print (\"SVM2 Accuracy = \", metrics.accuracy_score(y_test, prediction_SVM2))\n",
    "print (\"SVM3 Accuracy = \", metrics.accuracy_score(y_test, prediction_SVM3))"
   ]
  },
  {
   "cell_type": "markdown",
   "metadata": {},
   "source": [
    "**Classification 6.2**"
   ]
  },
  {
   "cell_type": "code",
   "execution_count": 42,
   "metadata": {},
   "outputs": [
    {
     "name": "stdout",
     "output_type": "stream",
     "text": [
      "12/12 [==============================] - 112s 9s/step\n"
     ]
    }
   ],
   "source": [
    "feature_extractor=VGG_model.predict(X_train_scaled)\n",
    "features = feature_extractor.reshape(feature_extractor.shape[0], -1)"
   ]
  },
  {
   "cell_type": "code",
   "execution_count": 43,
   "metadata": {},
   "outputs": [
    {
     "name": "stdout",
     "output_type": "stream",
     "text": [
      "number of total features was  25088  and reduced to  100\n"
     ]
    }
   ],
   "source": [
    "number_of_PCA = 100\n",
    "print(\"number of total features was \",len(features[0]),\" and reduced to \",number_of_PCA)\n",
    "pca = PCA(n_components=number_of_PCA)\n",
    "pca.fit(features)\n",
    "ex_features = pca.transform(features)"
   ]
  },
  {
   "cell_type": "code",
   "execution_count": 44,
   "metadata": {},
   "outputs": [
    {
     "data": {
      "text/plain": [
       "SVC(C=1, degree=6, kernel='poly')"
      ]
     },
     "execution_count": 44,
     "metadata": {},
     "output_type": "execute_result"
    }
   ],
   "source": [
    "# Train the model on training data\n",
    "RF_model1.fit(ex_features, y_train)\n",
    "RF_model2.fit(ex_features, y_train)\n",
    "RF_model3.fit(ex_features, y_train)\n",
    "SVM1.fit(ex_features, y_train)\n",
    "SVM2.fit(ex_features, y_train)\n",
    "SVM3.fit(ex_features, y_train)"
   ]
  },
  {
   "cell_type": "code",
   "execution_count": 45,
   "metadata": {},
   "outputs": [
    {
     "name": "stdout",
     "output_type": "stream",
     "text": [
      "4/4 [==============================] - 40s 10s/step\n"
     ]
    }
   ],
   "source": [
    "#Send test data through same feature extractor process\n",
    "X_test_feature = VGG_model.predict(X_test_scaled)\n",
    "X_test_features = X_test_feature.reshape(X_test_feature.shape[0], -1)\n",
    "ex_X_test_features =  pca.transform(X_test_features)\n",
    "\n",
    "#Predict using the trained RF model. \n",
    "prediction_RF1 = RF_model1.predict(ex_X_test_features)\n",
    "prediction_RF2 = RF_model2.predict(ex_X_test_features)\n",
    "prediction_RF3 = RF_model3.predict(ex_X_test_features)\n",
    "prediction_SVM1 = SVM1.predict(ex_X_test_features)\n",
    "prediction_SVM2 = SVM2.predict(ex_X_test_features)\n",
    "prediction_SVM3 = SVM3.predict(ex_X_test_features)"
   ]
  },
  {
   "cell_type": "code",
   "execution_count": 46,
   "metadata": {},
   "outputs": [
    {
     "name": "stdout",
     "output_type": "stream",
     "text": [
      "RF1 Accuracy =  0.536\n",
      "RF2 Accuracy =  0.736\n",
      "RF3 Accuracy =  0.76\n",
      "SVM1 Accuracy =  0.44\n",
      "SVM2 Accuracy =  0.696\n",
      "SVM3 Accuracy =  0.216\n"
     ]
    }
   ],
   "source": [
    "print (\"RF1 Accuracy = \", metrics.accuracy_score(y_test, prediction_RF1))\n",
    "print (\"RF2 Accuracy = \", metrics.accuracy_score(y_test, prediction_RF2))\n",
    "print (\"RF3 Accuracy = \", metrics.accuracy_score(y_test, prediction_RF3))\n",
    "print (\"SVM1 Accuracy = \", metrics.accuracy_score(y_test, prediction_SVM1))\n",
    "print (\"SVM2 Accuracy = \", metrics.accuracy_score(y_test, prediction_SVM2))\n",
    "print (\"SVM3 Accuracy = \", metrics.accuracy_score(y_test, prediction_SVM3))"
   ]
  },
  {
   "cell_type": "markdown",
   "metadata": {},
   "source": [
    "**Classification 6.3**"
   ]
  },
  {
   "cell_type": "code",
   "execution_count": 68,
   "metadata": {},
   "outputs": [
    {
     "name": "stdout",
     "output_type": "stream",
     "text": [
      "12/12 [==============================] - 48s 4s/step\n"
     ]
    }
   ],
   "source": [
    "feature_extractor=VGG_model.predict(X_train_scaled)\n",
    "features = feature_extractor.reshape(feature_extractor.shape[0], -1)"
   ]
  },
  {
   "cell_type": "code",
   "execution_count": 72,
   "metadata": {},
   "outputs": [
    {
     "data": {
      "text/plain": [
       "(375, 25088)"
      ]
     },
     "execution_count": 72,
     "metadata": {},
     "output_type": "execute_result"
    }
   ],
   "source": [
    "features.shape"
   ]
  },
  {
   "cell_type": "code",
   "execution_count": 89,
   "metadata": {},
   "outputs": [
    {
     "name": "stdout",
     "output_type": "stream",
     "text": [
      "number of total features was  25088  and reduced to  200\n"
     ]
    }
   ],
   "source": [
    "number_of_PCA = 200\n",
    "print(\"number of total features was \",len(features[0]),\" and reduced to \",number_of_PCA)\n",
    "pca = PCA(n_components=number_of_PCA)\n",
    "pca.fit(features)\n",
    "ex_features = pca.transform(features)"
   ]
  },
  {
   "cell_type": "code",
   "execution_count": 90,
   "metadata": {},
   "outputs": [
    {
     "ename": "ValueError",
     "evalue": "Found input variables with inconsistent numbers of samples: [750, 375]",
     "output_type": "error",
     "traceback": [
      "\u001b[1;31m---------------------------------------------------------------------------\u001b[0m",
      "\u001b[1;31mValueError\u001b[0m                                Traceback (most recent call last)",
      "Input \u001b[1;32mIn [90]\u001b[0m, in \u001b[0;36m<module>\u001b[1;34m\u001b[0m\n\u001b[0;32m      1\u001b[0m \u001b[38;5;66;03m# Train the model on training data\u001b[39;00m\n\u001b[1;32m----> 2\u001b[0m \u001b[43mRF_model1\u001b[49m\u001b[38;5;241;43m.\u001b[39;49m\u001b[43mfit\u001b[49m\u001b[43m(\u001b[49m\u001b[43mex_features\u001b[49m\u001b[43m,\u001b[49m\u001b[43m \u001b[49m\u001b[43my_train\u001b[49m\u001b[43m)\u001b[49m\n\u001b[0;32m      3\u001b[0m RF_model2\u001b[38;5;241m.\u001b[39mfit(ex_features, y_train)\n\u001b[0;32m      4\u001b[0m RF_model3\u001b[38;5;241m.\u001b[39mfit(ex_features, y_train)\n",
      "File \u001b[1;32m~\\AppData\\Roaming\\Python\\Python38\\site-packages\\sklearn\\ensemble\\_forest.py:327\u001b[0m, in \u001b[0;36mBaseForest.fit\u001b[1;34m(self, X, y, sample_weight)\u001b[0m\n\u001b[0;32m    325\u001b[0m \u001b[38;5;28;01mif\u001b[39;00m issparse(y):\n\u001b[0;32m    326\u001b[0m     \u001b[38;5;28;01mraise\u001b[39;00m \u001b[38;5;167;01mValueError\u001b[39;00m(\u001b[38;5;124m\"\u001b[39m\u001b[38;5;124msparse multilabel-indicator for y is not supported.\u001b[39m\u001b[38;5;124m\"\u001b[39m)\n\u001b[1;32m--> 327\u001b[0m X, y \u001b[38;5;241m=\u001b[39m \u001b[38;5;28;43mself\u001b[39;49m\u001b[38;5;241;43m.\u001b[39;49m\u001b[43m_validate_data\u001b[49m\u001b[43m(\u001b[49m\n\u001b[0;32m    328\u001b[0m \u001b[43m    \u001b[49m\u001b[43mX\u001b[49m\u001b[43m,\u001b[49m\u001b[43m \u001b[49m\u001b[43my\u001b[49m\u001b[43m,\u001b[49m\u001b[43m \u001b[49m\u001b[43mmulti_output\u001b[49m\u001b[38;5;241;43m=\u001b[39;49m\u001b[38;5;28;43;01mTrue\u001b[39;49;00m\u001b[43m,\u001b[49m\u001b[43m \u001b[49m\u001b[43maccept_sparse\u001b[49m\u001b[38;5;241;43m=\u001b[39;49m\u001b[38;5;124;43m\"\u001b[39;49m\u001b[38;5;124;43mcsc\u001b[39;49m\u001b[38;5;124;43m\"\u001b[39;49m\u001b[43m,\u001b[49m\u001b[43m \u001b[49m\u001b[43mdtype\u001b[49m\u001b[38;5;241;43m=\u001b[39;49m\u001b[43mDTYPE\u001b[49m\n\u001b[0;32m    329\u001b[0m \u001b[43m\u001b[49m\u001b[43m)\u001b[49m\n\u001b[0;32m    330\u001b[0m \u001b[38;5;28;01mif\u001b[39;00m sample_weight \u001b[38;5;129;01mis\u001b[39;00m \u001b[38;5;129;01mnot\u001b[39;00m \u001b[38;5;28;01mNone\u001b[39;00m:\n\u001b[0;32m    331\u001b[0m     sample_weight \u001b[38;5;241m=\u001b[39m _check_sample_weight(sample_weight, X)\n",
      "File \u001b[1;32m~\\AppData\\Roaming\\Python\\Python38\\site-packages\\sklearn\\base.py:581\u001b[0m, in \u001b[0;36mBaseEstimator._validate_data\u001b[1;34m(self, X, y, reset, validate_separately, **check_params)\u001b[0m\n\u001b[0;32m    579\u001b[0m         y \u001b[38;5;241m=\u001b[39m check_array(y, \u001b[38;5;241m*\u001b[39m\u001b[38;5;241m*\u001b[39mcheck_y_params)\n\u001b[0;32m    580\u001b[0m     \u001b[38;5;28;01melse\u001b[39;00m:\n\u001b[1;32m--> 581\u001b[0m         X, y \u001b[38;5;241m=\u001b[39m \u001b[43mcheck_X_y\u001b[49m\u001b[43m(\u001b[49m\u001b[43mX\u001b[49m\u001b[43m,\u001b[49m\u001b[43m \u001b[49m\u001b[43my\u001b[49m\u001b[43m,\u001b[49m\u001b[43m \u001b[49m\u001b[38;5;241;43m*\u001b[39;49m\u001b[38;5;241;43m*\u001b[39;49m\u001b[43mcheck_params\u001b[49m\u001b[43m)\u001b[49m\n\u001b[0;32m    582\u001b[0m     out \u001b[38;5;241m=\u001b[39m X, y\n\u001b[0;32m    584\u001b[0m \u001b[38;5;28;01mif\u001b[39;00m \u001b[38;5;129;01mnot\u001b[39;00m no_val_X \u001b[38;5;129;01mand\u001b[39;00m check_params\u001b[38;5;241m.\u001b[39mget(\u001b[38;5;124m\"\u001b[39m\u001b[38;5;124mensure_2d\u001b[39m\u001b[38;5;124m\"\u001b[39m, \u001b[38;5;28;01mTrue\u001b[39;00m):\n",
      "File \u001b[1;32m~\\AppData\\Roaming\\Python\\Python38\\site-packages\\sklearn\\utils\\validation.py:981\u001b[0m, in \u001b[0;36mcheck_X_y\u001b[1;34m(X, y, accept_sparse, accept_large_sparse, dtype, order, copy, force_all_finite, ensure_2d, allow_nd, multi_output, ensure_min_samples, ensure_min_features, y_numeric, estimator)\u001b[0m\n\u001b[0;32m    964\u001b[0m X \u001b[38;5;241m=\u001b[39m check_array(\n\u001b[0;32m    965\u001b[0m     X,\n\u001b[0;32m    966\u001b[0m     accept_sparse\u001b[38;5;241m=\u001b[39maccept_sparse,\n\u001b[1;32m   (...)\u001b[0m\n\u001b[0;32m    976\u001b[0m     estimator\u001b[38;5;241m=\u001b[39mestimator,\n\u001b[0;32m    977\u001b[0m )\n\u001b[0;32m    979\u001b[0m y \u001b[38;5;241m=\u001b[39m _check_y(y, multi_output\u001b[38;5;241m=\u001b[39mmulti_output, y_numeric\u001b[38;5;241m=\u001b[39my_numeric)\n\u001b[1;32m--> 981\u001b[0m \u001b[43mcheck_consistent_length\u001b[49m\u001b[43m(\u001b[49m\u001b[43mX\u001b[49m\u001b[43m,\u001b[49m\u001b[43m \u001b[49m\u001b[43my\u001b[49m\u001b[43m)\u001b[49m\n\u001b[0;32m    983\u001b[0m \u001b[38;5;28;01mreturn\u001b[39;00m X, y\n",
      "File \u001b[1;32m~\\AppData\\Roaming\\Python\\Python38\\site-packages\\sklearn\\utils\\validation.py:332\u001b[0m, in \u001b[0;36mcheck_consistent_length\u001b[1;34m(*arrays)\u001b[0m\n\u001b[0;32m    330\u001b[0m uniques \u001b[38;5;241m=\u001b[39m np\u001b[38;5;241m.\u001b[39munique(lengths)\n\u001b[0;32m    331\u001b[0m \u001b[38;5;28;01mif\u001b[39;00m \u001b[38;5;28mlen\u001b[39m(uniques) \u001b[38;5;241m>\u001b[39m \u001b[38;5;241m1\u001b[39m:\n\u001b[1;32m--> 332\u001b[0m     \u001b[38;5;28;01mraise\u001b[39;00m \u001b[38;5;167;01mValueError\u001b[39;00m(\n\u001b[0;32m    333\u001b[0m         \u001b[38;5;124m\"\u001b[39m\u001b[38;5;124mFound input variables with inconsistent numbers of samples: \u001b[39m\u001b[38;5;132;01m%r\u001b[39;00m\u001b[38;5;124m\"\u001b[39m\n\u001b[0;32m    334\u001b[0m         \u001b[38;5;241m%\u001b[39m [\u001b[38;5;28mint\u001b[39m(l) \u001b[38;5;28;01mfor\u001b[39;00m l \u001b[38;5;129;01min\u001b[39;00m lengths]\n\u001b[0;32m    335\u001b[0m     )\n",
      "\u001b[1;31mValueError\u001b[0m: Found input variables with inconsistent numbers of samples: [750, 375]"
     ]
    }
   ],
   "source": [
    "# Train the model on training data\n",
    "RF_model1.fit(ex_features, y_train)\n",
    "RF_model2.fit(ex_features, y_train)\n",
    "RF_model3.fit(ex_features, y_train)\n",
    "SVM1.fit(ex_features, y_train)\n",
    "SVM2.fit(ex_features, y_train)\n",
    "SVM3.fit(ex_features, y_train)"
   ]
  },
  {
   "cell_type": "code",
   "execution_count": 51,
   "metadata": {},
   "outputs": [
    {
     "name": "stdout",
     "output_type": "stream",
     "text": [
      "4/4 [==============================] - 54s 13s/step\n"
     ]
    }
   ],
   "source": [
    "#Send test data through same feature extractor process\n",
    "X_test_feature = VGG_model.predict(X_test_scaled)\n",
    "X_test_features = X_test_feature.reshape(X_test_feature.shape[0], -1)\n",
    "ex_X_test_features =  pca.transform(X_test_features)\n",
    "\n",
    "#Predict using the trained RF model. \n",
    "prediction_RF1 = RF_model1.predict(ex_X_test_features)\n",
    "prediction_RF2 = RF_model2.predict(ex_X_test_features)\n",
    "prediction_RF3 = RF_model3.predict(ex_X_test_features)\n",
    "prediction_SVM1 = SVM1.predict(ex_X_test_features)\n",
    "prediction_SVM2 = SVM2.predict(ex_X_test_features)\n",
    "prediction_SVM3 = SVM3.predict(ex_X_test_features)"
   ]
  },
  {
   "cell_type": "code",
   "execution_count": 52,
   "metadata": {},
   "outputs": [
    {
     "name": "stdout",
     "output_type": "stream",
     "text": [
      "RF1 Accuracy =  0.632\n",
      "RF2 Accuracy =  0.784\n",
      "RF3 Accuracy =  0.776\n",
      "SVM1 Accuracy =  0.528\n",
      "SVM2 Accuracy =  0.752\n",
      "SVM3 Accuracy =  0.256\n"
     ]
    }
   ],
   "source": [
    "print (\"RF1 Accuracy = \", metrics.accuracy_score(y_test, prediction_RF1))\n",
    "print (\"RF2 Accuracy = \", metrics.accuracy_score(y_test, prediction_RF2))\n",
    "print (\"RF3 Accuracy = \", metrics.accuracy_score(y_test, prediction_RF3))\n",
    "print (\"SVM1 Accuracy = \", metrics.accuracy_score(y_test, prediction_SVM1))\n",
    "print (\"SVM2 Accuracy = \", metrics.accuracy_score(y_test, prediction_SVM2))\n",
    "print (\"SVM3 Accuracy = \", metrics.accuracy_score(y_test, prediction_SVM3))"
   ]
  },
  {
   "cell_type": "markdown",
   "metadata": {},
   "source": [
    "**Classification 7**"
   ]
  },
  {
   "cell_type": "markdown",
   "metadata": {},
   "source": [
    "The weak part of the previous model was not having a large number of inputs, which made the comparison of PCA dimensions meaningless. In the seventh method, we follow the sequence of the sixth method, with the difference that we attach a neural network to the top of VGG16 to augment the input data and input the previous data four times (augment the data four times), so we have the 1500 most input. We check thirteen different modes for the number of features. Some of the results of the implementation of these dimension reductions on the six previously introduced models are shown in the figure below, and the accuracy diagram of the models according to the dimension reduction is shown below:"
   ]
  },
  {
   "cell_type": "code",
   "execution_count": 55,
   "metadata": {
    "id": "-IlvyCsbq44s"
   },
   "outputs": [
    {
     "name": "stdout",
     "output_type": "stream",
     "text": [
      "Model: \"sequential_1\"\n",
      "_________________________________________________________________\n",
      " Layer (type)                Output Shape              Param #   \n",
      "=================================================================\n",
      " sequential (Sequential)     (None, 224, 224, 3)       0         \n",
      "                                                                 \n",
      " vgg16 (Functional)          (None, 7, 7, 512)         14714688  \n",
      "                                                                 \n",
      "=================================================================\n",
      "Total params: 14,714,688\n",
      "Trainable params: 0\n",
      "Non-trainable params: 14,714,688\n",
      "_________________________________________________________________\n"
     ]
    }
   ],
   "source": [
    "model7 = Sequential([\n",
    "  data_augmentation,\n",
    "  VGG_model])  \n",
    "\n",
    "model7.summary()"
   ]
  },
  {
   "cell_type": "code",
   "execution_count": 9,
   "metadata": {},
   "outputs": [
    {
     "name": "stdout",
     "output_type": "stream",
     "text": [
      "12/12 [==============================] - 53s 4s/step\n",
      "12/12 [==============================] - 55s 5s/step\n",
      "12/12 [==============================] - 54s 4s/step\n",
      "12/12 [==============================] - 56s 5s/step\n"
     ]
    }
   ],
   "source": [
    "feature_extractor=VGG_model.predict(X_train_scaled)\n",
    "features = feature_extractor.reshape(feature_extractor.shape[0], -1)\n",
    "for i in range(3):\n",
    "    feature_extractor=VGG_model.predict(X_train_scaled)\n",
    "    f2 = feature_extractor.reshape(feature_extractor.shape[0], -1)\n",
    "    features = np.concatenate([features,feature_extractor.reshape(feature_extractor.shape[0], -1)])"
   ]
  },
  {
   "cell_type": "code",
   "execution_count": 11,
   "metadata": {},
   "outputs": [],
   "source": [
    "ex_y_train = np.concatenate([y_train, y_train])\n",
    "ex_y_train = np.concatenate([ex_y_train, ex_y_train])"
   ]
  },
  {
   "cell_type": "code",
   "execution_count": 12,
   "metadata": {},
   "outputs": [
    {
     "name": "stdout",
     "output_type": "stream",
     "text": [
      "1500\n",
      "1500\n"
     ]
    }
   ],
   "source": [
    "print(len(ex_y_train))\n",
    "print(len(features))"
   ]
  },
  {
   "cell_type": "code",
   "execution_count": 225,
   "metadata": {},
   "outputs": [],
   "source": [
    "RF_model1 = RandomForestClassifier(n_estimators = 10, random_state = 42)\n",
    "RF_model2 = RandomForestClassifier(n_estimators = 50, random_state = 43)\n",
    "RF_model3 = RandomForestClassifier(n_estimators = 70, random_state = 44)\n",
    "SVM1 = svm.SVC(kernel='poly', degree=5, C=3)\n",
    "SVM2 = svm.SVC(kernel='poly', degree=3, C=1)\n",
    "SVM3 = svm.SVC(kernel='poly', degree=6, C=1)"
   ]
  },
  {
   "cell_type": "code",
   "execution_count": 226,
   "metadata": {},
   "outputs": [
    {
     "data": {
      "text/plain": [
       "SVC(C=1, degree=6, kernel='poly')"
      ]
     },
     "execution_count": 226,
     "metadata": {},
     "output_type": "execute_result"
    }
   ],
   "source": [
    "# Train the model on training data\n",
    "RF_model1.fit(features, ex_y_train)\n",
    "RF_model2.fit(features, ex_y_train)\n",
    "RF_model3.fit(features, ex_y_train)\n",
    "SVM1.fit(features, ex_y_train)\n",
    "SVM2.fit(features, ex_y_train)\n",
    "SVM3.fit(features, ex_y_train)"
   ]
  },
  {
   "cell_type": "code",
   "execution_count": 227,
   "metadata": {},
   "outputs": [
    {
     "name": "stdout",
     "output_type": "stream",
     "text": [
      "4/4 [==============================] - 18s 4s/step\n"
     ]
    }
   ],
   "source": [
    "#Send test data through same feature extractor process\n",
    "X_test_feature = VGG_model.predict(X_test_scaled)\n",
    "X_test_features = X_test_feature.reshape(X_test_feature.shape[0], -1)\n",
    "\n",
    "#Now predict using the trained RF model. \n",
    "prediction_RF1 = RF_model1.predict(X_test_features)\n",
    "prediction_RF2 = RF_model2.predict(X_test_features)\n",
    "prediction_RF3 = RF_model3.predict(X_test_features)\n",
    "prediction_SVM1 = SVM1.predict(X_test_features)\n",
    "prediction_SVM2 = SVM2.predict(X_test_features)\n",
    "prediction_SVM3 = SVM3.predict(X_test_features)"
   ]
  },
  {
   "cell_type": "code",
   "execution_count": 228,
   "metadata": {},
   "outputs": [
    {
     "name": "stdout",
     "output_type": "stream",
     "text": [
      "RF1 Accuracy =  0.64\n",
      "RF2 Accuracy =  0.76\n",
      "RF3 Accuracy =  0.824\n",
      "SVM1 Accuracy =  0.856\n",
      "SVM2 Accuracy =  0.848\n",
      "SVM3 Accuracy =  0.856\n"
     ]
    }
   ],
   "source": [
    "print (\"RF1 Accuracy = \", metrics.accuracy_score(y_test, prediction_RF1))\n",
    "print (\"RF2 Accuracy = \", metrics.accuracy_score(y_test, prediction_RF2))\n",
    "print (\"RF3 Accuracy = \", metrics.accuracy_score(y_test, prediction_RF3))\n",
    "print (\"SVM1 Accuracy = \", metrics.accuracy_score(y_test, prediction_SVM1))\n",
    "print (\"SVM2 Accuracy = \", metrics.accuracy_score(y_test, prediction_SVM2))\n",
    "print (\"SVM3 Accuracy = \", metrics.accuracy_score(y_test, prediction_SVM3))\n",
    "#graph_vec1, graph_vec2, graph_vec3, graph_vec4, graph_vec5, graph_vec6 = [[\"all\", metrics.accuracy_score(y_test, prediction_RF1)]],  [[\"all\", metrics.accuracy_score(y_test, prediction_RF2)]], [[\"all\", metrics.accuracy_score(y_test, prediction_RF3)]], [[\"all\", metrics.accuracy_score(y_test, prediction_SVM1)]],[[\"all\", metrics.accuracy_score(y_test, prediction_SVM2)]], [[\"all\", metrics.accuracy_score(y_test, prediction_SVM3)]]"
   ]
  },
  {
   "cell_type": "code",
   "execution_count": 182,
   "metadata": {},
   "outputs": [
    {
     "name": "stdout",
     "output_type": "stream",
     "text": [
      "number of total features was  25088  and reduced to  1500\n",
      "4/4 [==============================] - 19s 5s/step\n",
      "RF1 Accuracy =  0.296\n",
      "RF2 Accuracy =  0.304\n",
      "RF3 Accuracy =  0.336\n",
      "SVM1 Accuracy =  0.384\n",
      "SVM2 Accuracy =  0.776\n",
      "SVM3 Accuracy =  0.248\n",
      "number of total features was  25088  and reduced to  1000\n",
      "4/4 [==============================] - 18s 4s/step\n",
      "RF1 Accuracy =  0.344\n",
      "RF2 Accuracy =  0.472\n",
      "RF3 Accuracy =  0.56\n",
      "SVM1 Accuracy =  0.384\n",
      "SVM2 Accuracy =  0.776\n",
      "SVM3 Accuracy =  0.248\n",
      "number of total features was  25088  and reduced to  750\n",
      "4/4 [==============================] - 19s 5s/step\n",
      "RF1 Accuracy =  0.328\n",
      "RF2 Accuracy =  0.632\n",
      "RF3 Accuracy =  0.6\n",
      "SVM1 Accuracy =  0.384\n",
      "SVM2 Accuracy =  0.776\n",
      "SVM3 Accuracy =  0.248\n",
      "number of total features was  25088  and reduced to  500\n",
      "4/4 [==============================] - 19s 5s/step\n",
      "RF1 Accuracy =  0.328\n",
      "RF2 Accuracy =  0.616\n",
      "RF3 Accuracy =  0.624\n",
      "SVM1 Accuracy =  0.384\n",
      "SVM2 Accuracy =  0.776\n",
      "SVM3 Accuracy =  0.248\n",
      "number of total features was  25088  and reduced to  300\n",
      "4/4 [==============================] - 21s 5s/step\n",
      "RF1 Accuracy =  0.432\n",
      "RF2 Accuracy =  0.768\n",
      "RF3 Accuracy =  0.712\n",
      "SVM1 Accuracy =  0.376\n",
      "SVM2 Accuracy =  0.768\n",
      "SVM3 Accuracy =  0.232\n",
      "number of total features was  25088  and reduced to  200\n",
      "4/4 [==============================] - 21s 5s/step\n",
      "RF1 Accuracy =  0.568\n",
      "RF2 Accuracy =  0.76\n",
      "RF3 Accuracy =  0.728\n",
      "SVM1 Accuracy =  0.392\n",
      "SVM2 Accuracy =  0.784\n",
      "SVM3 Accuracy =  0.224\n",
      "number of total features was  25088  and reduced to  100\n",
      "4/4 [==============================] - 21s 5s/step\n",
      "RF1 Accuracy =  0.608\n",
      "RF2 Accuracy =  0.744\n",
      "RF3 Accuracy =  0.808\n",
      "SVM1 Accuracy =  0.52\n",
      "SVM2 Accuracy =  0.816\n",
      "SVM3 Accuracy =  0.368\n",
      "number of total features was  25088  and reduced to  50\n",
      "4/4 [==============================] - 21s 5s/step\n",
      "RF1 Accuracy =  0.664\n",
      "RF2 Accuracy =  0.768\n",
      "RF3 Accuracy =  0.816\n",
      "SVM1 Accuracy =  0.672\n",
      "SVM2 Accuracy =  0.856\n",
      "SVM3 Accuracy =  0.44\n",
      "number of total features was  25088  and reduced to  40\n",
      "4/4 [==============================] - 21s 5s/step\n",
      "RF1 Accuracy =  0.624\n",
      "RF2 Accuracy =  0.76\n",
      "RF3 Accuracy =  0.824\n",
      "SVM1 Accuracy =  0.688\n",
      "SVM2 Accuracy =  0.832\n",
      "SVM3 Accuracy =  0.464\n",
      "number of total features was  25088  and reduced to  30\n",
      "4/4 [==============================] - 21s 5s/step\n",
      "RF1 Accuracy =  0.656\n",
      "RF2 Accuracy =  0.784\n",
      "RF3 Accuracy =  0.752\n",
      "SVM1 Accuracy =  0.72\n",
      "SVM2 Accuracy =  0.816\n",
      "SVM3 Accuracy =  0.384\n",
      "number of total features was  25088  and reduced to  20\n",
      "4/4 [==============================] - 21s 5s/step\n",
      "RF1 Accuracy =  0.728\n",
      "RF2 Accuracy =  0.768\n",
      "RF3 Accuracy =  0.76\n",
      "SVM1 Accuracy =  0.68\n",
      "SVM2 Accuracy =  0.736\n",
      "SVM3 Accuracy =  0.408\n",
      "number of total features was  25088  and reduced to  10\n",
      "4/4 [==============================] - 21s 5s/step\n",
      "RF1 Accuracy =  0.632\n",
      "RF2 Accuracy =  0.752\n",
      "RF3 Accuracy =  0.72\n",
      "SVM1 Accuracy =  0.616\n",
      "SVM2 Accuracy =  0.672\n",
      "SVM3 Accuracy =  0.432\n",
      "number of total features was  25088  and reduced to  5\n",
      "4/4 [==============================] - 21s 5s/step\n",
      "RF1 Accuracy =  0.592\n",
      "RF2 Accuracy =  0.6\n",
      "RF3 Accuracy =  0.584\n",
      "SVM1 Accuracy =  0.416\n",
      "SVM2 Accuracy =  0.464\n",
      "SVM3 Accuracy =  0.36\n"
     ]
    }
   ],
   "source": [
    "for number_of_PCA in [1500,1000,750,500,300,200,100,50,40,30,20,10,5]:\n",
    "    print(\"number of total features was \",len(features[0]),\" and reduced to \",number_of_PCA)\n",
    "    pca = PCA(n_components=number_of_PCA)\n",
    "    pca.fit(features)\n",
    "    ex_features = pca.transform(features)\n",
    "\n",
    "    # Train the model on training data\n",
    "    RF_model1.fit(ex_features, ex_y_train)\n",
    "    RF_model2.fit(ex_features, ex_y_train)\n",
    "    RF_model3.fit(ex_features, ex_y_train)\n",
    "    SVM1.fit(ex_features, ex_y_train)\n",
    "    SVM2.fit(ex_features, ex_y_train)\n",
    "    SVM3.fit(ex_features, ex_y_train)\n",
    "\n",
    "    #Send test data through same feature extractor process\n",
    "    X_test_feature = VGG_model.predict(X_test_scaled)\n",
    "    X_test_features = X_test_feature.reshape(X_test_feature.shape[0], -1)\n",
    "    ex_X_test_features =  pca.transform(X_test_features)\n",
    "\n",
    "    #Now predict using the trained RF model. \n",
    "    prediction_RF1 = RF_model1.predict(ex_X_test_features)\n",
    "    prediction_RF2 = RF_model2.predict(ex_X_test_features)\n",
    "    prediction_RF3 = RF_model3.predict(ex_X_test_features)\n",
    "    prediction_SVM1 = SVM1.predict(ex_X_test_features)\n",
    "    prediction_SVM2 = SVM2.predict(ex_X_test_features)\n",
    "    prediction_SVM3 = SVM3.predict(ex_X_test_features)\n",
    "\n",
    "    print (\"RF1 Accuracy = \", metrics.accuracy_score(y_test, prediction_RF1))\n",
    "    print (\"RF2 Accuracy = \", metrics.accuracy_score(y_test, prediction_RF2))\n",
    "    print (\"RF3 Accuracy = \", metrics.accuracy_score(y_test, prediction_RF3))\n",
    "    print (\"SVM1 Accuracy = \", metrics.accuracy_score(y_test, prediction_SVM1))\n",
    "    print (\"SVM2 Accuracy = \", metrics.accuracy_score(y_test, prediction_SVM2))\n",
    "    print (\"SVM3 Accuracy = \", metrics.accuracy_score(y_test, prediction_SVM3))\n",
    "    \n",
    "    graph_vec1.append([metrics.accuracy_score(y_test, prediction_RF1),number_of_PCA])\n",
    "    graph_vec2.append([metrics.accuracy_score(y_test, prediction_RF2),number_of_PCA])\n",
    "    graph_vec3.append([metrics.accuracy_score(y_test, prediction_RF3),number_of_PCA])\n",
    "    graph_vec4.append([metrics.accuracy_score(y_test, prediction_SVM1),number_of_PCA])\n",
    "    graph_vec5.append([metrics.accuracy_score(y_test, prediction_SVM2),number_of_PCA])\n",
    "    graph_vec6.append([metrics.accuracy_score(y_test, prediction_SVM3),number_of_PCA])"
   ]
  },
  {
   "cell_type": "code",
   "execution_count": 274,
   "metadata": {},
   "outputs": [
    {
     "ename": "TypeError",
     "evalue": "'int' object is not subscriptable",
     "output_type": "error",
     "traceback": [
      "\u001b[1;31m---------------------------------------------------------------------------\u001b[0m",
      "\u001b[1;31mTypeError\u001b[0m                                 Traceback (most recent call last)",
      "Input \u001b[1;32mIn [274]\u001b[0m, in \u001b[0;36m<module>\u001b[1;34m\u001b[0m\n\u001b[0;32m      1\u001b[0m \u001b[38;5;28;01mimport\u001b[39;00m \u001b[38;5;21;01mmatplotlib\u001b[39;00m\u001b[38;5;21;01m.\u001b[39;00m\u001b[38;5;21;01mpyplot\u001b[39;00m \u001b[38;5;28;01mas\u001b[39;00m \u001b[38;5;21;01mplt\u001b[39;00m\n\u001b[0;32m      2\u001b[0m plt\u001b[38;5;241m.\u001b[39mclose(\u001b[38;5;124m'\u001b[39m\u001b[38;5;124mall\u001b[39m\u001b[38;5;124m'\u001b[39m)\n\u001b[1;32m----> 3\u001b[0m \u001b[43mplt\u001b[49m\u001b[38;5;241;43m.\u001b[39;49m\u001b[43mplot\u001b[49m\u001b[43m(\u001b[49m\u001b[43mnp\u001b[49m\u001b[38;5;241;43m.\u001b[39;49m\u001b[43marray\u001b[49m\u001b[43m(\u001b[49m\u001b[43mgraph_vec1\u001b[49m\u001b[43m)\u001b[49m\u001b[43m[\u001b[49m\u001b[43m:\u001b[49m\u001b[43m,\u001b[49m\u001b[38;5;241;43m1\u001b[39;49m\u001b[43m]\u001b[49m\u001b[43m,\u001b[49m\u001b[43mnp\u001b[49m\u001b[38;5;241;43m.\u001b[39;49m\u001b[43marray\u001b[49m\u001b[43m(\u001b[49m\u001b[43mgraph_vec1\u001b[49m\u001b[43m)\u001b[49m\u001b[43m[\u001b[49m\u001b[43m:\u001b[49m\u001b[43m,\u001b[49m\u001b[38;5;241;43m0\u001b[39;49m\u001b[43m]\u001b[49m\u001b[38;5;241;43m.\u001b[39;49m\u001b[43mastype\u001b[49m\u001b[43m(\u001b[49m\u001b[38;5;28;43mfloat\u001b[39;49m\u001b[43m)\u001b[49m\u001b[43m,\u001b[49m\u001b[43mlabel\u001b[49m\u001b[38;5;241;43m=\u001b[39;49m\u001b[38;5;124;43m\"\u001b[39;49m\u001b[38;5;124;43mRF1 Accuracy\u001b[39;49m\u001b[38;5;124;43m\"\u001b[39;49m\u001b[43m)\u001b[49m\n\u001b[0;32m      4\u001b[0m plt\u001b[38;5;241m.\u001b[39mplot(np\u001b[38;5;241m.\u001b[39marray(graph_vec2)[:,\u001b[38;5;241m1\u001b[39m],np\u001b[38;5;241m.\u001b[39marray(graph_vec2)[:,\u001b[38;5;241m0\u001b[39m]\u001b[38;5;241m.\u001b[39mastype(\u001b[38;5;28mfloat\u001b[39m),label\u001b[38;5;241m=\u001b[39m\u001b[38;5;124m\"\u001b[39m\u001b[38;5;124mRF2 Accuracy\u001b[39m\u001b[38;5;124m\"\u001b[39m)\n\u001b[0;32m      5\u001b[0m plt\u001b[38;5;241m.\u001b[39mplot(np\u001b[38;5;241m.\u001b[39marray(graph_vec3)[:,\u001b[38;5;241m1\u001b[39m],np\u001b[38;5;241m.\u001b[39marray(graph_vec3)[:,\u001b[38;5;241m0\u001b[39m]\u001b[38;5;241m.\u001b[39mastype(\u001b[38;5;28mfloat\u001b[39m),label\u001b[38;5;241m=\u001b[39m\u001b[38;5;124m\"\u001b[39m\u001b[38;5;124mRF3 Accuracy\u001b[39m\u001b[38;5;124m\"\u001b[39m)\n",
      "File \u001b[1;32m~\\AppData\\Roaming\\Python\\Python38\\site-packages\\matplotlib\\pyplot.py:2757\u001b[0m, in \u001b[0;36mplot\u001b[1;34m(scalex, scaley, data, *args, **kwargs)\u001b[0m\n\u001b[0;32m   2755\u001b[0m \u001b[38;5;129m@_copy_docstring_and_deprecators\u001b[39m(Axes\u001b[38;5;241m.\u001b[39mplot)\n\u001b[0;32m   2756\u001b[0m \u001b[38;5;28;01mdef\u001b[39;00m \u001b[38;5;21mplot\u001b[39m(\u001b[38;5;241m*\u001b[39margs, scalex\u001b[38;5;241m=\u001b[39m\u001b[38;5;28;01mTrue\u001b[39;00m, scaley\u001b[38;5;241m=\u001b[39m\u001b[38;5;28;01mTrue\u001b[39;00m, data\u001b[38;5;241m=\u001b[39m\u001b[38;5;28;01mNone\u001b[39;00m, \u001b[38;5;241m*\u001b[39m\u001b[38;5;241m*\u001b[39mkwargs):\n\u001b[1;32m-> 2757\u001b[0m     \u001b[38;5;28;01mreturn\u001b[39;00m \u001b[43mgca\u001b[49m\u001b[43m(\u001b[49m\u001b[43m)\u001b[49m\u001b[38;5;241m.\u001b[39mplot(\n\u001b[0;32m   2758\u001b[0m         \u001b[38;5;241m*\u001b[39margs, scalex\u001b[38;5;241m=\u001b[39mscalex, scaley\u001b[38;5;241m=\u001b[39mscaley,\n\u001b[0;32m   2759\u001b[0m         \u001b[38;5;241m*\u001b[39m\u001b[38;5;241m*\u001b[39m({\u001b[38;5;124m\"\u001b[39m\u001b[38;5;124mdata\u001b[39m\u001b[38;5;124m\"\u001b[39m: data} \u001b[38;5;28;01mif\u001b[39;00m data \u001b[38;5;129;01mis\u001b[39;00m \u001b[38;5;129;01mnot\u001b[39;00m \u001b[38;5;28;01mNone\u001b[39;00m \u001b[38;5;28;01melse\u001b[39;00m {}), \u001b[38;5;241m*\u001b[39m\u001b[38;5;241m*\u001b[39mkwargs)\n",
      "File \u001b[1;32m~\\AppData\\Roaming\\Python\\Python38\\site-packages\\matplotlib\\pyplot.py:2262\u001b[0m, in \u001b[0;36mgca\u001b[1;34m(**kwargs)\u001b[0m\n\u001b[0;32m   2260\u001b[0m \u001b[38;5;129m@_copy_docstring_and_deprecators\u001b[39m(Figure\u001b[38;5;241m.\u001b[39mgca)\n\u001b[0;32m   2261\u001b[0m \u001b[38;5;28;01mdef\u001b[39;00m \u001b[38;5;21mgca\u001b[39m(\u001b[38;5;241m*\u001b[39m\u001b[38;5;241m*\u001b[39mkwargs):\n\u001b[1;32m-> 2262\u001b[0m     \u001b[38;5;28;01mreturn\u001b[39;00m \u001b[43mgcf\u001b[49m\u001b[43m(\u001b[49m\u001b[43m)\u001b[49m\u001b[38;5;241m.\u001b[39mgca(\u001b[38;5;241m*\u001b[39m\u001b[38;5;241m*\u001b[39mkwargs)\n",
      "File \u001b[1;32m~\\AppData\\Roaming\\Python\\Python38\\site-packages\\matplotlib\\pyplot.py:846\u001b[0m, in \u001b[0;36mgcf\u001b[1;34m()\u001b[0m\n\u001b[0;32m    844\u001b[0m     \u001b[38;5;28;01mreturn\u001b[39;00m manager\u001b[38;5;241m.\u001b[39mcanvas\u001b[38;5;241m.\u001b[39mfigure\n\u001b[0;32m    845\u001b[0m \u001b[38;5;28;01melse\u001b[39;00m:\n\u001b[1;32m--> 846\u001b[0m     \u001b[38;5;28;01mreturn\u001b[39;00m \u001b[43mfigure\u001b[49m\u001b[43m(\u001b[49m\u001b[43m)\u001b[49m\n",
      "File \u001b[1;32m~\\AppData\\Roaming\\Python\\Python38\\site-packages\\matplotlib\\pyplot.py:777\u001b[0m, in \u001b[0;36mfigure\u001b[1;34m(num, figsize, dpi, facecolor, edgecolor, frameon, FigureClass, clear, **kwargs)\u001b[0m\n\u001b[0;32m    775\u001b[0m manager \u001b[38;5;241m=\u001b[39m _pylab_helpers\u001b[38;5;241m.\u001b[39mGcf\u001b[38;5;241m.\u001b[39mget_fig_manager(num)\n\u001b[0;32m    776\u001b[0m \u001b[38;5;28;01mif\u001b[39;00m manager \u001b[38;5;129;01mis\u001b[39;00m \u001b[38;5;28;01mNone\u001b[39;00m:\n\u001b[1;32m--> 777\u001b[0m     max_open_warning \u001b[38;5;241m=\u001b[39m \u001b[43mrcParams\u001b[49m\u001b[43m[\u001b[49m\u001b[38;5;124;43m'\u001b[39;49m\u001b[38;5;124;43mfigure.max_open_warning\u001b[39;49m\u001b[38;5;124;43m'\u001b[39;49m\u001b[43m]\u001b[49m\n\u001b[0;32m    778\u001b[0m     \u001b[38;5;28;01mif\u001b[39;00m \u001b[38;5;28mlen\u001b[39m(allnums) \u001b[38;5;241m==\u001b[39m max_open_warning \u001b[38;5;241m>\u001b[39m\u001b[38;5;241m=\u001b[39m \u001b[38;5;241m1\u001b[39m:\n\u001b[0;32m    779\u001b[0m         _api\u001b[38;5;241m.\u001b[39mwarn_external(\n\u001b[0;32m    780\u001b[0m             \u001b[38;5;124mf\u001b[39m\u001b[38;5;124m\"\u001b[39m\u001b[38;5;124mMore than \u001b[39m\u001b[38;5;132;01m{\u001b[39;00mmax_open_warning\u001b[38;5;132;01m}\u001b[39;00m\u001b[38;5;124m figures have been opened. \u001b[39m\u001b[38;5;124m\"\u001b[39m\n\u001b[0;32m    781\u001b[0m             \u001b[38;5;124mf\u001b[39m\u001b[38;5;124m\"\u001b[39m\u001b[38;5;124mFigures created through the pyplot interface \u001b[39m\u001b[38;5;124m\"\u001b[39m\n\u001b[1;32m   (...)\u001b[0m\n\u001b[0;32m    784\u001b[0m             \u001b[38;5;124mf\u001b[39m\u001b[38;5;124m\"\u001b[39m\u001b[38;5;124mwarning, see the rcParam `figure.max_open_warning`).\u001b[39m\u001b[38;5;124m\"\u001b[39m,\n\u001b[0;32m    785\u001b[0m             \u001b[38;5;167;01mRuntimeWarning\u001b[39;00m)\n",
      "\u001b[1;31mTypeError\u001b[0m: 'int' object is not subscriptable"
     ]
    }
   ],
   "source": [
    "import matplotlib.pyplot as plt\n",
    "plt.close('all')\n",
    "plt.plot(np.array(graph_vec1)[:,1],np.array(graph_vec1)[:,0].astype(float),label=\"RF1 Accuracy\")\n",
    "plt.plot(np.array(graph_vec2)[:,1],np.array(graph_vec2)[:,0].astype(float),label=\"RF2 Accuracy\")\n",
    "plt.plot(np.array(graph_vec3)[:,1],np.array(graph_vec3)[:,0].astype(float),label=\"RF3 Accuracy\")\n",
    "plt.plot(np.array(graph_vec4)[:,1],np.array(graph_vec4)[:,0].astype(float),label=\"SVM1 Accuracy\")\n",
    "plt.plot(np.array(graph_vec5)[:,1],np.array(graph_vec5)[:,0].astype(float),label=\"SVM2 Accuracy\")\n",
    "plt.plot(np.array(graph_vec6)[:,1],np.array(graph_vec6)[:,0].astype(float),label=\"SVM3 Accuracy\")\n",
    "plt.figure(figsize=(254, 6))\n",
    "plt.legend()\n",
    "plt.show()"
   ]
  },
  {
   "cell_type": "code",
   "execution_count": 253,
   "metadata": {},
   "outputs": [],
   "source": [
    "(graph_vec1)[0][0]=0.64\n",
    "(graph_vec2)[0][0]=0.76\n",
    "(graph_vec3)[0][0]=0.824\n",
    "(graph_vec4)[0][0]=0.856\n",
    "(graph_vec5)[0][0]=0.848\n",
    "(graph_vec6)[0][0]=0.856"
   ]
  },
  {
   "cell_type": "code",
   "execution_count": 272,
   "metadata": {},
   "outputs": [],
   "source": [
    "(graph_vec1)[0][1]=\"all\"\n",
    "(graph_vec2)[0][1]=\"all\"\n",
    "(graph_vec3)[0][1]=\"all\"\n",
    "(graph_vec4)[0][1]=\"all\"\n",
    "(graph_vec5)[0][1]=\"all\"\n",
    "(graph_vec6)[0][1]=\"all\"\n"
   ]
  },
  {
   "cell_type": "markdown",
   "metadata": {},
   "source": [
    "**8th Classification Model**"
   ]
  },
  {
   "cell_type": "markdown",
   "metadata": {},
   "source": [
    "Now we try to use autoencoder to identify the best output features of VGG16; In this way, we give the output of VGG16 to an autoencoder and train the model so that it can reconstruct the output classes. In fact, we use four separate phases to meet the needs. The first phase is for data augmentation, the second phases is VGG16 for generating attributes, the encoder model is for dimension reduction, and finally the random forest model or SVM for classification. The models of the previous introductions have been introduced in the previous methods and the encoder model is defined in the following two ways:"
   ]
  },
  {
   "cell_type": "code",
   "execution_count": 18,
   "metadata": {},
   "outputs": [],
   "source": [
    "input_dim = features.shape[1]\n",
    "\n",
    "# This is the dimension of the latent space (encoding space)\n",
    "latent_dim = 40\n",
    "\n",
    "encoder = Sequential([\n",
    "    Dense(4000, activation='relu', input_shape=(input_dim,)),\n",
    "    Dense(1500, activation='relu'),\n",
    "    Dense(750, activation='relu'),\n",
    "    Dense(350, activation='relu'),\n",
    "    Dense(200, activation='relu'),\n",
    "    Dense(latent_dim, activation='relu')\n",
    "])\n",
    "\n",
    "decoder = Sequential([\n",
    "    Dense(200, activation='relu', input_shape=(latent_dim,)),\n",
    "    Dense(350, activation='relu'),\n",
    "    Dense(750, activation='relu'),\n",
    "    Dense(1500, activation='relu'),\n",
    "    Dense(4000, activation='relu'),\n",
    "    Dense(input_dim, activation=None)\n",
    "])"
   ]
  },
  {
   "cell_type": "code",
   "execution_count": 19,
   "metadata": {},
   "outputs": [],
   "source": [
    "autoencoder = Model(inputs=encoder.input, outputs=decoder(encoder.output))\n",
    "autoencoder.compile(loss='mse', optimizer='adam')"
   ]
  },
  {
   "cell_type": "code",
   "execution_count": 28,
   "metadata": {},
   "outputs": [
    {
     "name": "stdout",
     "output_type": "stream",
     "text": [
      "Model: \"model\"\n",
      "_________________________________________________________________\n",
      " Layer (type)                Output Shape              Param #   \n",
      "=================================================================\n",
      " dense_input (InputLayer)    [(None, 25088)]           0         \n",
      "                                                                 \n",
      " dense (Dense)               (None, 4000)              100356000 \n",
      "                                                                 \n",
      " dense_1 (Dense)             (None, 1500)              6001500   \n",
      "                                                                 \n",
      " dense_2 (Dense)             (None, 750)               1125750   \n",
      "                                                                 \n",
      " dense_3 (Dense)             (None, 350)               262850    \n",
      "                                                                 \n",
      " dense_4 (Dense)             (None, 200)               70200     \n",
      "                                                                 \n",
      " dense_5 (Dense)             (None, 40)                8040      \n",
      "                                                                 \n",
      " sequential_1 (Sequential)   (None, 25088)             107849388 \n",
      "                                                                 \n",
      "=================================================================\n",
      "Total params: 215,673,728\n",
      "Trainable params: 215,673,728\n",
      "Non-trainable params: 0\n",
      "_________________________________________________________________\n"
     ]
    }
   ],
   "source": [
    "autoencoder.summary()"
   ]
  },
  {
   "cell_type": "code",
   "execution_count": 20,
   "metadata": {},
   "outputs": [
    {
     "name": "stdout",
     "output_type": "stream",
     "text": [
      "Epoch 1/20\n",
      "12/12 [==============================] - 27s 2s/step - loss: 0.7972\n",
      "Epoch 2/20\n",
      "12/12 [==============================] - 23s 2s/step - loss: 0.2620\n",
      "Epoch 3/20\n",
      "12/12 [==============================] - 22s 2s/step - loss: 0.0801\n",
      "Epoch 4/20\n",
      "12/12 [==============================] - 22s 2s/step - loss: 0.0344\n",
      "Epoch 5/20\n",
      "12/12 [==============================] - 22s 2s/step - loss: 0.0282\n",
      "Epoch 6/20\n",
      "12/12 [==============================] - 22s 2s/step - loss: 0.0269\n",
      "Epoch 7/20\n",
      "12/12 [==============================] - 22s 2s/step - loss: 0.0266\n",
      "Epoch 8/20\n",
      "12/12 [==============================] - 22s 2s/step - loss: 0.0265\n",
      "Epoch 9/20\n",
      "12/12 [==============================] - 22s 2s/step - loss: 0.0264\n",
      "Epoch 10/20\n",
      "12/12 [==============================] - 22s 2s/step - loss: 0.0264\n",
      "Epoch 11/20\n",
      "12/12 [==============================] - 22s 2s/step - loss: 0.0265\n",
      "Epoch 12/20\n",
      "12/12 [==============================] - 22s 2s/step - loss: 0.0264\n",
      "Epoch 13/20\n",
      "12/12 [==============================] - 22s 2s/step - loss: 0.0264\n",
      "Epoch 14/20\n",
      "12/12 [==============================] - 22s 2s/step - loss: 0.0264\n",
      "Epoch 15/20\n",
      "12/12 [==============================] - 21s 2s/step - loss: 0.0265\n",
      "Epoch 16/20\n",
      "12/12 [==============================] - 22s 2s/step - loss: 0.0264\n",
      "Epoch 17/20\n",
      "12/12 [==============================] - 22s 2s/step - loss: 0.0265\n",
      "Epoch 18/20\n",
      "12/12 [==============================] - 22s 2s/step - loss: 0.0265\n",
      "Epoch 19/20\n",
      "12/12 [==============================] - 22s 2s/step - loss: 0.0265\n",
      "Epoch 20/20\n",
      "12/12 [==============================] - 22s 2s/step - loss: 0.0265\n"
     ]
    },
    {
     "data": {
      "text/plain": [
       "<keras.callbacks.History at 0x2be4d1c99d0>"
      ]
     },
     "execution_count": 20,
     "metadata": {},
     "output_type": "execute_result"
    }
   ],
   "source": [
    "autoencoder.fit(features, features, epochs=20, batch_size=128)"
   ]
  },
  {
   "cell_type": "code",
   "execution_count": 23,
   "metadata": {},
   "outputs": [],
   "source": [
    "en_features = encoder(features)"
   ]
  },
  {
   "cell_type": "code",
   "execution_count": 25,
   "metadata": {},
   "outputs": [
    {
     "data": {
      "text/plain": [
       "SVC(C=1, degree=6, kernel='poly')"
      ]
     },
     "execution_count": 25,
     "metadata": {},
     "output_type": "execute_result"
    }
   ],
   "source": [
    "RF_model1.fit(en_features, ex_y_train)\n",
    "RF_model2.fit(en_features, ex_y_train)\n",
    "RF_model3.fit(en_features, ex_y_train)\n",
    "SVM1.fit(en_features, ex_y_train)\n",
    "SVM2.fit(en_features, ex_y_train)\n",
    "SVM3.fit(en_features, ex_y_train)"
   ]
  },
  {
   "cell_type": "code",
   "execution_count": 26,
   "metadata": {},
   "outputs": [
    {
     "name": "stdout",
     "output_type": "stream",
     "text": [
      "4/4 [==============================] - 17s 4s/step\n"
     ]
    }
   ],
   "source": [
    "#Send test data through same feature extractor process\n",
    "X_test_feature = VGG_model.predict(X_test_scaled)\n",
    "X_test_features = X_test_feature.reshape(X_test_feature.shape[0], -1)\n",
    "en_X_test_features = encoder(X_test_features)\n",
    "\n",
    "prediction_RF1 = RF_model1.predict(en_X_test_features)\n",
    "prediction_RF2 = RF_model2.predict(en_X_test_features)\n",
    "prediction_RF3 = RF_model3.predict(en_X_test_features)\n",
    "prediction_SVM1 = SVM1.predict(en_X_test_features)\n",
    "prediction_SVM2 = SVM2.predict(en_X_test_features)\n",
    "prediction_SVM3 = SVM3.predict(en_X_test_features)"
   ]
  },
  {
   "cell_type": "code",
   "execution_count": 330,
   "metadata": {},
   "outputs": [
    {
     "name": "stdout",
     "output_type": "stream",
     "text": [
      "RF1 Accuracy =  0.224\n",
      "RF2 Accuracy =  0.2\n",
      "RF3 Accuracy =  0.24\n",
      "SVM1 Accuracy =  0.232\n",
      "SVM2 Accuracy =  0.24\n",
      "SVM3 Accuracy =  0.232\n"
     ]
    }
   ],
   "source": [
    "print (\"RF1 Accuracy = \", metrics.accuracy_score(y_test, prediction_RF1))\n",
    "print (\"RF2 Accuracy = \", metrics.accuracy_score(y_test, prediction_RF2))\n",
    "print (\"RF3 Accuracy = \", metrics.accuracy_score(y_test, prediction_RF3))\n",
    "print (\"SVM1 Accuracy = \", metrics.accuracy_score(y_test, prediction_SVM1))\n",
    "print (\"SVM2 Accuracy = \", metrics.accuracy_score(y_test, prediction_SVM2))\n",
    "print (\"SVM3 Accuracy = \", metrics.accuracy_score(y_test, prediction_SVM3))"
   ]
  },
  {
   "cell_type": "code",
   "execution_count": 29,
   "metadata": {},
   "outputs": [],
   "source": [
    "input_dim = features.shape[1]\n",
    "\n",
    "# This is the dimension of the latent space (encoding space)\n",
    "latent_dim = 250\n",
    "\n",
    "encoder = Sequential([\n",
    "    Dense(4000, activation='relu', input_shape=(input_dim,)),\n",
    "    Dense(1500, activation='relu'),\n",
    "    Dense(750, activation='relu'),\n",
    "    Dense(350, activation='relu'),\n",
    "    Dense(latent_dim, activation='relu')\n",
    "])\n",
    "\n",
    "decoder = Sequential([\n",
    "    Dense(350, activation='relu', input_shape=(latent_dim,)),\n",
    "    Dense(750, activation='relu'),\n",
    "    Dense(1500, activation='relu'),\n",
    "    Dense(4000, activation='relu'),\n",
    "    Dense(input_dim, activation=None)\n",
    "])"
   ]
  },
  {
   "cell_type": "code",
   "execution_count": 30,
   "metadata": {},
   "outputs": [],
   "source": [
    "autoencoder = Model(inputs=encoder.input, outputs=decoder(encoder.output))\n",
    "autoencoder.compile(loss='mse', optimizer='adam')"
   ]
  },
  {
   "cell_type": "code",
   "execution_count": 31,
   "metadata": {},
   "outputs": [
    {
     "name": "stdout",
     "output_type": "stream",
     "text": [
      "Model: \"model_1\"\n",
      "_________________________________________________________________\n",
      " Layer (type)                Output Shape              Param #   \n",
      "=================================================================\n",
      " dense_12_input (InputLayer)  [(None, 25088)]          0         \n",
      "                                                                 \n",
      " dense_12 (Dense)            (None, 4000)              100356000 \n",
      "                                                                 \n",
      " dense_13 (Dense)            (None, 1500)              6001500   \n",
      "                                                                 \n",
      " dense_14 (Dense)            (None, 750)               1125750   \n",
      "                                                                 \n",
      " dense_15 (Dense)            (None, 350)               262850    \n",
      "                                                                 \n",
      " dense_16 (Dense)            (None, 250)               87750     \n",
      "                                                                 \n",
      " sequential_3 (Sequential)   (None, 25088)             107858688 \n",
      "                                                                 \n",
      "=================================================================\n",
      "Total params: 215,692,538\n",
      "Trainable params: 215,692,538\n",
      "Non-trainable params: 0\n",
      "_________________________________________________________________\n"
     ]
    }
   ],
   "source": [
    "autoencoder.summary()"
   ]
  },
  {
   "cell_type": "code",
   "execution_count": 32,
   "metadata": {},
   "outputs": [
    {
     "name": "stdout",
     "output_type": "stream",
     "text": [
      "Epoch 1/20\n",
      "12/12 [==============================] - 60s 3s/step - loss: 0.3149\n",
      "Epoch 2/20\n",
      "12/12 [==============================] - 23s 2s/step - loss: 0.0551\n",
      "Epoch 3/20\n",
      "12/12 [==============================] - 22s 2s/step - loss: 0.0299\n",
      "Epoch 4/20\n",
      "12/12 [==============================] - 22s 2s/step - loss: 0.0274\n",
      "Epoch 5/20\n",
      "12/12 [==============================] - 22s 2s/step - loss: 0.0269\n",
      "Epoch 6/20\n",
      "12/12 [==============================] - 22s 2s/step - loss: 0.0276\n",
      "Epoch 7/20\n",
      "12/12 [==============================] - 22s 2s/step - loss: 0.0269\n",
      "Epoch 8/20\n",
      "12/12 [==============================] - 22s 2s/step - loss: 0.0267\n",
      "Epoch 9/20\n",
      "12/12 [==============================] - 22s 2s/step - loss: 0.0267\n",
      "Epoch 10/20\n",
      "12/12 [==============================] - 22s 2s/step - loss: 0.0266\n",
      "Epoch 11/20\n",
      "12/12 [==============================] - 22s 2s/step - loss: 0.0266\n",
      "Epoch 12/20\n",
      "12/12 [==============================] - 22s 2s/step - loss: 0.0271\n",
      "Epoch 13/20\n",
      "12/12 [==============================] - 22s 2s/step - loss: 0.0267\n",
      "Epoch 14/20\n",
      "12/12 [==============================] - 22s 2s/step - loss: 0.0268\n",
      "Epoch 15/20\n",
      "12/12 [==============================] - 22s 2s/step - loss: 0.0262\n",
      "Epoch 16/20\n",
      "12/12 [==============================] - 22s 2s/step - loss: 0.0256\n",
      "Epoch 17/20\n",
      "12/12 [==============================] - 22s 2s/step - loss: 0.0237\n",
      "Epoch 18/20\n",
      "12/12 [==============================] - 22s 2s/step - loss: 0.0232\n",
      "Epoch 19/20\n",
      "12/12 [==============================] - 22s 2s/step - loss: 0.0225\n",
      "Epoch 20/20\n",
      "12/12 [==============================] - 22s 2s/step - loss: 0.0223\n"
     ]
    },
    {
     "data": {
      "text/plain": [
       "<keras.callbacks.History at 0x2be4d477040>"
      ]
     },
     "execution_count": 32,
     "metadata": {},
     "output_type": "execute_result"
    }
   ],
   "source": [
    "autoencoder.fit(features, features, epochs=20, batch_size=128)"
   ]
  },
  {
   "cell_type": "code",
   "execution_count": 33,
   "metadata": {},
   "outputs": [
    {
     "data": {
      "text/plain": [
       "SVC(C=1, degree=6, kernel='poly')"
      ]
     },
     "execution_count": 33,
     "metadata": {},
     "output_type": "execute_result"
    }
   ],
   "source": [
    "en_features = encoder(features)\n",
    "RF_model1.fit(en_features, ex_y_train)\n",
    "RF_model2.fit(en_features, ex_y_train)\n",
    "RF_model3.fit(en_features, ex_y_train)\n",
    "SVM1.fit(en_features, ex_y_train)\n",
    "SVM2.fit(en_features, ex_y_train)\n",
    "SVM3.fit(en_features, ex_y_train)"
   ]
  },
  {
   "cell_type": "code",
   "execution_count": 34,
   "metadata": {},
   "outputs": [
    {
     "name": "stdout",
     "output_type": "stream",
     "text": [
      "4/4 [==============================] - 22s 4s/step\n"
     ]
    }
   ],
   "source": [
    "#Send test data through same feature extractor process\n",
    "X_test_feature = VGG_model.predict(X_test_scaled)\n",
    "X_test_features = X_test_feature.reshape(X_test_feature.shape[0], -1)\n",
    "en_X_test_features = encoder(X_test_features)\n",
    "\n",
    "prediction_RF1 = RF_model1.predict(en_X_test_features)\n",
    "prediction_RF2 = RF_model2.predict(en_X_test_features)\n",
    "prediction_RF3 = RF_model3.predict(en_X_test_features)\n",
    "prediction_SVM1 = SVM1.predict(en_X_test_features)\n",
    "prediction_SVM2 = SVM2.predict(en_X_test_features)\n",
    "prediction_SVM3 = SVM3.predict(en_X_test_features)"
   ]
  },
  {
   "cell_type": "code",
   "execution_count": 36,
   "metadata": {},
   "outputs": [
    {
     "name": "stdout",
     "output_type": "stream",
     "text": [
      "RF1 Accuracy =  0.2\n",
      "RF2 Accuracy =  0.224\n",
      "RF3 Accuracy =  0.208\n",
      "SVM1 Accuracy =  0.232\n",
      "SVM2 Accuracy =  0.232\n",
      "SVM3 Accuracy =  0.248\n"
     ]
    }
   ],
   "source": [
    "import sklearn.metrics as metrics\n",
    "print (\"RF1 Accuracy = \", metrics.accuracy_score(y_test, prediction_RF1))\n",
    "print (\"RF2 Accuracy = \", metrics.accuracy_score(y_test, prediction_RF2))\n",
    "print (\"RF3 Accuracy = \", metrics.accuracy_score(y_test, prediction_RF3))\n",
    "print (\"SVM1 Accuracy = \", metrics.accuracy_score(y_test, prediction_SVM1))\n",
    "print (\"SVM2 Accuracy = \", metrics.accuracy_score(y_test, prediction_SVM2))\n",
    "print (\"SVM3 Accuracy = \", metrics.accuracy_score(y_test, prediction_SVM3))"
   ]
  },
  {
   "cell_type": "code",
   "execution_count": 41,
   "metadata": {
    "id": "Cm0tdhurWwMi"
   },
   "outputs": [],
   "source": [
    "from keras.preprocessing.image import ImageDataGenerator\n",
    "from skimage import io\n",
    "datagen = ImageDataGenerator(\n",
    "    featurewise_center=True,\n",
    "    featurewise_std_normalization=True,\n",
    "    rotation_range=45,\n",
    "    width_shift_range=0.2,\n",
    "    height_shift_range=0.2,\n",
    "    shear_range=0.2,\n",
    "    zoom_range=0.2,\n",
    "    horizontal_flip=True)"
   ]
  },
  {
   "cell_type": "code",
   "execution_count": 68,
   "metadata": {},
   "outputs": [],
   "source": [
    "data_dir = pathlib.Path(\"./train/\")\n",
    "images_dict = {\n",
    "    'Ak': list(data_dir.glob('Ak/*')),\n",
    "    \"Ala_Idris\": list(data_dir.glob('Ala_Idris/*')),\n",
    "    \"Buzgulu\": list(data_dir.glob('Buzgulu/*')),\n",
    "    \"Dimnit\": list(data_dir.glob('Dimnit/*')),\n",
    "    'Nazli': list(data_dir.glob('Nazli/*')),\n",
    "}\n",
    "\n",
    "labels_dict = {\n",
    "    'Ak': 0,\n",
    "    \"Ala_Idris\": 1,\n",
    "    \"Buzgulu\": 2,\n",
    "    \"Dimnit\": 3,\n",
    "    'Nazli': 4,\n",
    "}"
   ]
  },
  {
   "cell_type": "code",
   "execution_count": 70,
   "metadata": {},
   "outputs": [
    {
     "name": "stderr",
     "output_type": "stream",
     "text": [
      "C:\\Users\\lenovo\\AppData\\Local\\Temp\\ipykernel_4464\\1019734387.py:5: DeprecationWarning: Starting with ImageIO v3 the behavior of this function will switch to that of iio.v3.imread. To keep the current behavior (and make this warning dissapear) use `import imageio.v2 as imageio` or call `imageio.v2.imread` directly.\n",
      "  img = imageio.imread(str(image))\n"
     ]
    }
   ],
   "source": [
    "X, y = [], []\n",
    "\n",
    "for name, images in images_dict.items():\n",
    "    for image in images:\n",
    "        img = imageio.imread(str(image))\n",
    "        img = Image.fromarray(img).convert(\"RGB\")\n",
    "        #print(type(img))\n",
    "        img = np.array(img)\n",
    "        #print(type(img))\n",
    "        resized_img = cv2.resize(img,(224,224))\n",
    "        x = resized_img.reshape((1, ) + resized_img.shape)  \n",
    "        i = 0\n",
    "        # generate 10 new augmented images \n",
    "        for batch in datagen.flow(x, batch_size = 1, \n",
    "                    save_to_dir ='./train/'+name+'/',  \n",
    "                    save_prefix =name, save_format ='png'):\n",
    "            i += 1\n",
    "            if i > 10: \n",
    "                break\n",
    "        "
   ]
  },
  {
   "cell_type": "code",
   "execution_count": 4,
   "metadata": {},
   "outputs": [
    {
     "name": "stderr",
     "output_type": "stream",
     "text": [
      "C:\\Users\\lenovo\\AppData\\Local\\Temp\\ipykernel_13500\\331362280.py:23: DeprecationWarning: Starting with ImageIO v3 the behavior of this function will switch to that of iio.v3.imread. To keep the current behavior (and make this warning dissapear) use `import imageio.v2 as imageio` or call `imageio.v2.imread` directly.\n",
      "  img = imageio.imread(str(image))\n"
     ]
    }
   ],
   "source": [
    "X, y = [], []\n",
    "data_dir = pathlib.Path(\"./train/\")\n",
    "images_dict = {\n",
    "    'Ak': list(data_dir.glob('Ak/*')),\n",
    "    \"Ala_Idris\": list(data_dir.glob('Ala_Idris/*')),\n",
    "    \"Buzgulu\": list(data_dir.glob('Buzgulu/*')),\n",
    "    \"Dimnit\": list(data_dir.glob('Dimnit/*')),\n",
    "    'Nazli': list(data_dir.glob('Nazli/*')),\n",
    "}\n",
    "\n",
    "labels_dict = {\n",
    "    'Ak': 0,\n",
    "    \"Ala_Idris\": 1,\n",
    "    \"Buzgulu\": 2,\n",
    "    \"Dimnit\": 3,\n",
    "    'Nazli': 4,\n",
    "}\n",
    "\n",
    "for name, images in images_dict.items():\n",
    "    for image in images:\n",
    "        img = imageio.imread(str(image))\n",
    "        img = Image.fromarray(img).convert(\"RGB\")\n",
    "        img = np.array(img)\n",
    "        resized_img = cv2.resize(img,(224,224))\n",
    "        X.append(resized_img)\n",
    "        y.append(labels_dict[name])"
   ]
  },
  {
   "cell_type": "code",
   "execution_count": 5,
   "metadata": {},
   "outputs": [],
   "source": [
    "X_train = np.array(X)\n",
    "y_train = np.array(y)"
   ]
  },
  {
   "cell_type": "code",
   "execution_count": 8,
   "metadata": {},
   "outputs": [
    {
     "name": "stderr",
     "output_type": "stream",
     "text": [
      "C:\\Users\\lenovo\\AppData\\Local\\Temp\\ipykernel_13500\\2744830588.py:23: DeprecationWarning: Starting with ImageIO v3 the behavior of this function will switch to that of iio.v3.imread. To keep the current behavior (and make this warning dissapear) use `import imageio.v2 as imageio` or call `imageio.v2.imread` directly.\n",
      "  img = imageio.imread(str(image))\n"
     ]
    }
   ],
   "source": [
    "X, y = [], []\n",
    "data_dir = pathlib.Path(\"./test/\")\n",
    "for name, images in images_dict.items():\n",
    "    for image in images:\n",
    "        img = imageio.imread(str(image))\n",
    "        img = Image.fromarray(img).convert(\"RGB\")\n",
    "        img = np.array(img)\n",
    "        resized_img = cv2.resize(img,(224,224))\n",
    "        X.append(resized_img)\n",
    "        y.append(labels_dict[name])"
   ]
  },
  {
   "cell_type": "code",
   "execution_count": 9,
   "metadata": {},
   "outputs": [],
   "source": [
    "X_test = np.array(X)\n",
    "y_test = np.array(y)"
   ]
  },
  {
   "cell_type": "code",
   "execution_count": 11,
   "metadata": {},
   "outputs": [],
   "source": [
    "X_train_scaled = X_train / 224"
   ]
  },
  {
   "cell_type": "code",
   "execution_count": 12,
   "metadata": {},
   "outputs": [],
   "source": [
    "X_test_scaled = X_test / 224"
   ]
  },
  {
   "cell_type": "code",
   "execution_count": 3,
   "metadata": {},
   "outputs": [],
   "source": [
    "from sklearn import metrics\n",
    "\n",
    "VGG_model = VGG16(weights='imagenet', include_top=False, input_shape=(224, 224, 3))\n",
    "for layer in VGG_model.layers:\n",
    "    layer.trainable = False\n",
    "SVM1 = svm.SVC(kernel='poly', degree=5, C=3)\n",
    "\n",
    "kfold = sklearn.model_selection.StratifiedKFold(n_splits=10, shuffle=False, random_state=None)\n",
    "kfold1 = sklearn.model_selection.StratifiedKFold(n_splits=10,shuffle=True,random_state=42)\n",
    "\n",
    "kfold_acc = []"
   ]
  },
  {
   "cell_type": "code",
   "execution_count": 34,
   "metadata": {},
   "outputs": [
    {
     "name": "stdout",
     "output_type": "stream",
     "text": [
      "3/3 [==============================] - 20s 7s/step\n",
      "1/1 [==============================] - 3s 3s/step\n",
      "SVM1 Accuracy =  0.4\n"
     ]
    },
    {
     "data": {
      "image/png": "[encoded data removed]",
      "text/plain": [
       "<Figure size 432x288 with 2 Axes>"
      ]
     },
     "metadata": {
      "needs_background": "light"
     },
     "output_type": "display_data"
    },
    {
     "name": "stdout",
     "output_type": "stream",
     "text": [
      "3/3 [==============================] - 19s 7s/step\n",
      "1/1 [==============================] - 2s 2s/step\n",
      "SVM1 Accuracy =  0.8\n"
     ]
    },
    {
     "data": {
      "image/png": "[encoded data removed]",
      "text/plain": [
       "<Figure size 432x288 with 2 Axes>"
      ]
     },
     "metadata": {
      "needs_background": "light"
     },
     "output_type": "display_data"
    },
    {
     "name": "stdout",
     "output_type": "stream",
     "text": [
      "3/3 [==============================] - 18s 6s/step\n",
      "1/1 [==============================] - 2s 2s/step\n",
      "SVM1 Accuracy =  0.4\n"
     ]
    },
    {
     "data": {
      "image/png": "[encoded data removed]",
      "text/plain": [
       "<Figure size 432x288 with 2 Axes>"
      ]
     },
     "metadata": {
      "needs_background": "light"
     },
     "output_type": "display_data"
    },
    {
     "name": "stdout",
     "output_type": "stream",
     "text": [
      "3/3 [==============================] - 20s 6s/step\n",
      "1/1 [==============================] - 2s 2s/step\n",
      "SVM1 Accuracy =  0.8\n"
     ]
    },
    {
     "data": {
      "image/png": "[encoded data removed]",
      "text/plain": [
       "<Figure size 432x288 with 2 Axes>"
      ]
     },
     "metadata": {
      "needs_background": "light"
     },
     "output_type": "display_data"
    },
    {
     "name": "stdout",
     "output_type": "stream",
     "text": [
      "3/3 [==============================] - 20s 7s/step\n",
      "1/1 [==============================] - 3s 3s/step\n",
      "SVM1 Accuracy =  0.9\n"
     ]
    },
    {
     "data": {
      "image/png": "[encoded data removed]",
      "text/plain": [
       "<Figure size 432x288 with 2 Axes>"
      ]
     },
     "metadata": {
      "needs_background": "light"
     },
     "output_type": "display_data"
    },
    {
     "name": "stdout",
     "output_type": "stream",
     "text": [
      "3/3 [==============================] - 19s 6s/step\n",
      "1/1 [==============================] - 3s 3s/step\n",
      "SVM1 Accuracy =  0.7\n"
     ]
    },
    {
     "data": {
      "image/png": "[encoded data removed]",
      "text/plain": [
       "<Figure size 432x288 with 2 Axes>"
      ]
     },
     "metadata": {
      "needs_background": "light"
     },
     "output_type": "display_data"
    },
    {
     "name": "stdout",
     "output_type": "stream",
     "text": [
      "3/3 [==============================] - 17s 5s/step\n",
      "1/1 [==============================] - 2s 2s/step\n",
      "SVM1 Accuracy =  0.5\n"
     ]
    },
    {
     "data": {
      "image/png": "[encoded data removed]",
      "text/plain": [
       "<Figure size 432x288 with 2 Axes>"
      ]
     },
     "metadata": {
      "needs_background": "light"
     },
     "output_type": "display_data"
    },
    {
     "name": "stdout",
     "output_type": "stream",
     "text": [
      "3/3 [==============================] - 18s 6s/step\n",
      "1/1 [==============================] - 3s 3s/step\n",
      "SVM1 Accuracy =  0.8\n"
     ]
    },
    {
     "data": {
      "image/png": "[encoded data removed]",
      "text/plain": [
       "<Figure size 432x288 with 2 Axes>"
      ]
     },
     "metadata": {
      "needs_background": "light"
     },
     "output_type": "display_data"
    },
    {
     "name": "stdout",
     "output_type": "stream",
     "text": [
      "3/3 [==============================] - 19s 6s/step\n",
      "1/1 [==============================] - 3s 3s/step\n",
      "SVM1 Accuracy =  0.8\n"
     ]
    },
    {
     "data": {
      "image/png": "[encoded data removed]",
      "text/plain": [
       "<Figure size 432x288 with 2 Axes>"
      ]
     },
     "metadata": {
      "needs_background": "light"
     },
     "output_type": "display_data"
    },
    {
     "name": "stdout",
     "output_type": "stream",
     "text": [
      "3/3 [==============================] - 20s 7s/step\n",
      "1/1 [==============================] - 2s 2s/step\n",
      "SVM1 Accuracy =  0.6\n"
     ]
    },
    {
     "data": {
      "image/png": "[encoded data removed]",
      "text/plain": [
       "<Figure size 432x288 with 2 Axes>"
      ]
     },
     "metadata": {
      "needs_background": "light"
     },
     "output_type": "display_data"
    }
   ],
   "source": [
    "# Variable for keeping count of split we are executing\n",
    "j = 0\n",
    "\n",
    "# K-fold Train and test for each split\n",
    "for train_idx, val_idx in list(kfold.split(X_train_scaled,y_train)):\n",
    "\n",
    "    x_train_df = X_train_scaled[train_idx]\n",
    "    x_valid_df = X_train_scaled[val_idx]\n",
    "    \n",
    "    y_train_df = y_train[train_idx]\n",
    "    y_valid_df = y_train[val_idx]\n",
    "    \n",
    "    feature_extractor=VGG_model.predict(x_train_df)\n",
    "    features = feature_extractor.reshape(feature_extractor.shape[0], -1)\n",
    "\n",
    "\n",
    "    SVM1.fit(features, y_train_df)\n",
    "\n",
    "    #Send test data through same feature extractor process\n",
    "    X_test_feature = VGG_model.predict(x_valid_df)\n",
    "    X_test_features = X_test_feature.reshape(X_test_feature.shape[0], -1)\n",
    "\n",
    "\n",
    "    #Predict using the trained RF model. \n",
    "    prediction_SVM1 = SVM1.predict(X_test_features)\n",
    "\n",
    "\n",
    "    print (\"SVM1 Accuracy = \", metrics.accuracy_score(y_valid_df, prediction_SVM1))\n",
    "    kfold_acc.append(metrics.accuracy_score(y_valid_df, prediction_SVM1))\n",
    "    \n",
    "    #confusion matrix\n",
    "    confusion_matrix = metrics.confusion_matrix(y_valid_df, prediction_SVM1)\n",
    "\n",
    "    cm_display = metrics.ConfusionMatrixDisplay(confusion_matrix = confusion_matrix)\n",
    "\n",
    "    cm_display.plot()\n",
    "    plt.show()"
   ]
  },
  {
   "cell_type": "code",
   "execution_count": 35,
   "metadata": {},
   "outputs": [
    {
     "data": {
      "text/plain": [
       "0.5752380952380952"
      ]
     },
     "execution_count": 35,
     "metadata": {},
     "output_type": "execute_result"
    }
   ],
   "source": [
    "mean(kfold_acc)"
   ]
  },
  {
   "cell_type": "code",
   "execution_count": null,
   "metadata": {},
   "outputs": [],
   "source": []
  },
  {
   "cell_type": "code",
   "execution_count": 31,
   "metadata": {},
   "outputs": [
    {
     "name": "stdout",
     "output_type": "stream",
     "text": [
      " 4/47 [=>............................] - ETA: 2:53"
     ]
    },
    {
     "ename": "KeyboardInterrupt",
     "evalue": "",
     "output_type": "error",
     "traceback": [
      "\u001b[1;31m---------------------------------------------------------------------------\u001b[0m",
      "\u001b[1;31mKeyboardInterrupt\u001b[0m                         Traceback (most recent call last)",
      "Input \u001b[1;32mIn [31]\u001b[0m, in \u001b[0;36m<module>\u001b[1;34m\u001b[0m\n\u001b[0;32m      1\u001b[0m \u001b[38;5;28;01mfor\u001b[39;00m layer \u001b[38;5;129;01min\u001b[39;00m VGG_model\u001b[38;5;241m.\u001b[39mlayers:\n\u001b[0;32m      2\u001b[0m     layer\u001b[38;5;241m.\u001b[39mtrainable \u001b[38;5;241m=\u001b[39m \u001b[38;5;28;01mFalse\u001b[39;00m\n\u001b[1;32m----> 3\u001b[0m feature_extractor\u001b[38;5;241m=\u001b[39m\u001b[43mVGG_model\u001b[49m\u001b[38;5;241;43m.\u001b[39;49m\u001b[43mpredict\u001b[49m\u001b[43m(\u001b[49m\u001b[43mX_train_scaled\u001b[49m\u001b[43m)\u001b[49m\n\u001b[0;32m      4\u001b[0m features \u001b[38;5;241m=\u001b[39m feature_extractor\u001b[38;5;241m.\u001b[39mreshape(feature_extractor\u001b[38;5;241m.\u001b[39mshape[\u001b[38;5;241m0\u001b[39m], \u001b[38;5;241m-\u001b[39m\u001b[38;5;241m1\u001b[39m)\n",
      "File \u001b[1;32m~\\AppData\\Roaming\\Python\\Python38\\site-packages\\keras\\utils\\traceback_utils.py:64\u001b[0m, in \u001b[0;36mfilter_traceback.<locals>.error_handler\u001b[1;34m(*args, **kwargs)\u001b[0m\n\u001b[0;32m     62\u001b[0m filtered_tb \u001b[38;5;241m=\u001b[39m \u001b[38;5;28;01mNone\u001b[39;00m\n\u001b[0;32m     63\u001b[0m \u001b[38;5;28;01mtry\u001b[39;00m:\n\u001b[1;32m---> 64\u001b[0m   \u001b[38;5;28;01mreturn\u001b[39;00m \u001b[43mfn\u001b[49m\u001b[43m(\u001b[49m\u001b[38;5;241;43m*\u001b[39;49m\u001b[43margs\u001b[49m\u001b[43m,\u001b[49m\u001b[43m \u001b[49m\u001b[38;5;241;43m*\u001b[39;49m\u001b[38;5;241;43m*\u001b[39;49m\u001b[43mkwargs\u001b[49m\u001b[43m)\u001b[49m\n\u001b[0;32m     65\u001b[0m \u001b[38;5;28;01mexcept\u001b[39;00m \u001b[38;5;167;01mException\u001b[39;00m \u001b[38;5;28;01mas\u001b[39;00m e:  \u001b[38;5;66;03m# pylint: disable=broad-except\u001b[39;00m\n\u001b[0;32m     66\u001b[0m   filtered_tb \u001b[38;5;241m=\u001b[39m _process_traceback_frames(e\u001b[38;5;241m.\u001b[39m__traceback__)\n",
      "File \u001b[1;32m~\\AppData\\Roaming\\Python\\Python38\\site-packages\\keras\\engine\\training.py:2033\u001b[0m, in \u001b[0;36mModel.predict\u001b[1;34m(self, x, batch_size, verbose, steps, callbacks, max_queue_size, workers, use_multiprocessing)\u001b[0m\n\u001b[0;32m   2031\u001b[0m \u001b[38;5;28;01mfor\u001b[39;00m step \u001b[38;5;129;01min\u001b[39;00m data_handler\u001b[38;5;241m.\u001b[39msteps():\n\u001b[0;32m   2032\u001b[0m   callbacks\u001b[38;5;241m.\u001b[39mon_predict_batch_begin(step)\n\u001b[1;32m-> 2033\u001b[0m   tmp_batch_outputs \u001b[38;5;241m=\u001b[39m \u001b[38;5;28;43mself\u001b[39;49m\u001b[38;5;241;43m.\u001b[39;49m\u001b[43mpredict_function\u001b[49m\u001b[43m(\u001b[49m\u001b[43miterator\u001b[49m\u001b[43m)\u001b[49m\n\u001b[0;32m   2034\u001b[0m   \u001b[38;5;28;01mif\u001b[39;00m data_handler\u001b[38;5;241m.\u001b[39mshould_sync:\n\u001b[0;32m   2035\u001b[0m     context\u001b[38;5;241m.\u001b[39masync_wait()\n",
      "File \u001b[1;32m~\\AppData\\Roaming\\Python\\Python38\\site-packages\\tensorflow\\python\\util\\traceback_utils.py:150\u001b[0m, in \u001b[0;36mfilter_traceback.<locals>.error_handler\u001b[1;34m(*args, **kwargs)\u001b[0m\n\u001b[0;32m    148\u001b[0m filtered_tb \u001b[38;5;241m=\u001b[39m \u001b[38;5;28;01mNone\u001b[39;00m\n\u001b[0;32m    149\u001b[0m \u001b[38;5;28;01mtry\u001b[39;00m:\n\u001b[1;32m--> 150\u001b[0m   \u001b[38;5;28;01mreturn\u001b[39;00m \u001b[43mfn\u001b[49m\u001b[43m(\u001b[49m\u001b[38;5;241;43m*\u001b[39;49m\u001b[43margs\u001b[49m\u001b[43m,\u001b[49m\u001b[43m \u001b[49m\u001b[38;5;241;43m*\u001b[39;49m\u001b[38;5;241;43m*\u001b[39;49m\u001b[43mkwargs\u001b[49m\u001b[43m)\u001b[49m\n\u001b[0;32m    151\u001b[0m \u001b[38;5;28;01mexcept\u001b[39;00m \u001b[38;5;167;01mException\u001b[39;00m \u001b[38;5;28;01mas\u001b[39;00m e:\n\u001b[0;32m    152\u001b[0m   filtered_tb \u001b[38;5;241m=\u001b[39m _process_traceback_frames(e\u001b[38;5;241m.\u001b[39m__traceback__)\n",
      "File \u001b[1;32m~\\AppData\\Roaming\\Python\\Python38\\site-packages\\tensorflow\\python\\eager\\def_function.py:915\u001b[0m, in \u001b[0;36mFunction.__call__\u001b[1;34m(self, *args, **kwds)\u001b[0m\n\u001b[0;32m    912\u001b[0m compiler \u001b[38;5;241m=\u001b[39m \u001b[38;5;124m\"\u001b[39m\u001b[38;5;124mxla\u001b[39m\u001b[38;5;124m\"\u001b[39m \u001b[38;5;28;01mif\u001b[39;00m \u001b[38;5;28mself\u001b[39m\u001b[38;5;241m.\u001b[39m_jit_compile \u001b[38;5;28;01melse\u001b[39;00m \u001b[38;5;124m\"\u001b[39m\u001b[38;5;124mnonXla\u001b[39m\u001b[38;5;124m\"\u001b[39m\n\u001b[0;32m    914\u001b[0m \u001b[38;5;28;01mwith\u001b[39;00m OptionalXlaContext(\u001b[38;5;28mself\u001b[39m\u001b[38;5;241m.\u001b[39m_jit_compile):\n\u001b[1;32m--> 915\u001b[0m   result \u001b[38;5;241m=\u001b[39m \u001b[38;5;28;43mself\u001b[39;49m\u001b[38;5;241;43m.\u001b[39;49m\u001b[43m_call\u001b[49m\u001b[43m(\u001b[49m\u001b[38;5;241;43m*\u001b[39;49m\u001b[43margs\u001b[49m\u001b[43m,\u001b[49m\u001b[43m \u001b[49m\u001b[38;5;241;43m*\u001b[39;49m\u001b[38;5;241;43m*\u001b[39;49m\u001b[43mkwds\u001b[49m\u001b[43m)\u001b[49m\n\u001b[0;32m    917\u001b[0m new_tracing_count \u001b[38;5;241m=\u001b[39m \u001b[38;5;28mself\u001b[39m\u001b[38;5;241m.\u001b[39mexperimental_get_tracing_count()\n\u001b[0;32m    918\u001b[0m without_tracing \u001b[38;5;241m=\u001b[39m (tracing_count \u001b[38;5;241m==\u001b[39m new_tracing_count)\n",
      "File \u001b[1;32m~\\AppData\\Roaming\\Python\\Python38\\site-packages\\tensorflow\\python\\eager\\def_function.py:954\u001b[0m, in \u001b[0;36mFunction._call\u001b[1;34m(self, *args, **kwds)\u001b[0m\n\u001b[0;32m    951\u001b[0m \u001b[38;5;28mself\u001b[39m\u001b[38;5;241m.\u001b[39m_lock\u001b[38;5;241m.\u001b[39mrelease()\n\u001b[0;32m    952\u001b[0m \u001b[38;5;66;03m# In this case we have not created variables on the first call. So we can\u001b[39;00m\n\u001b[0;32m    953\u001b[0m \u001b[38;5;66;03m# run the first trace but we should fail if variables are created.\u001b[39;00m\n\u001b[1;32m--> 954\u001b[0m results \u001b[38;5;241m=\u001b[39m \u001b[38;5;28;43mself\u001b[39;49m\u001b[38;5;241;43m.\u001b[39;49m\u001b[43m_stateful_fn\u001b[49m\u001b[43m(\u001b[49m\u001b[38;5;241;43m*\u001b[39;49m\u001b[43margs\u001b[49m\u001b[43m,\u001b[49m\u001b[43m \u001b[49m\u001b[38;5;241;43m*\u001b[39;49m\u001b[38;5;241;43m*\u001b[39;49m\u001b[43mkwds\u001b[49m\u001b[43m)\u001b[49m\n\u001b[0;32m    955\u001b[0m \u001b[38;5;28;01mif\u001b[39;00m \u001b[38;5;28mself\u001b[39m\u001b[38;5;241m.\u001b[39m_created_variables \u001b[38;5;129;01mand\u001b[39;00m \u001b[38;5;129;01mnot\u001b[39;00m ALLOW_DYNAMIC_VARIABLE_CREATION:\n\u001b[0;32m    956\u001b[0m   \u001b[38;5;28;01mraise\u001b[39;00m \u001b[38;5;167;01mValueError\u001b[39;00m(\u001b[38;5;124m\"\u001b[39m\u001b[38;5;124mCreating variables on a non-first call to a function\u001b[39m\u001b[38;5;124m\"\u001b[39m\n\u001b[0;32m    957\u001b[0m                    \u001b[38;5;124m\"\u001b[39m\u001b[38;5;124m decorated with tf.function.\u001b[39m\u001b[38;5;124m\"\u001b[39m)\n",
      "File \u001b[1;32m~\\AppData\\Roaming\\Python\\Python38\\site-packages\\tensorflow\\python\\eager\\function.py:2453\u001b[0m, in \u001b[0;36mFunction.__call__\u001b[1;34m(self, *args, **kwargs)\u001b[0m\n\u001b[0;32m   2450\u001b[0m \u001b[38;5;28;01mwith\u001b[39;00m \u001b[38;5;28mself\u001b[39m\u001b[38;5;241m.\u001b[39m_lock:\n\u001b[0;32m   2451\u001b[0m   (graph_function,\n\u001b[0;32m   2452\u001b[0m    filtered_flat_args) \u001b[38;5;241m=\u001b[39m \u001b[38;5;28mself\u001b[39m\u001b[38;5;241m.\u001b[39m_maybe_define_function(args, kwargs)\n\u001b[1;32m-> 2453\u001b[0m \u001b[38;5;28;01mreturn\u001b[39;00m \u001b[43mgraph_function\u001b[49m\u001b[38;5;241;43m.\u001b[39;49m\u001b[43m_call_flat\u001b[49m\u001b[43m(\u001b[49m\n\u001b[0;32m   2454\u001b[0m \u001b[43m    \u001b[49m\u001b[43mfiltered_flat_args\u001b[49m\u001b[43m,\u001b[49m\u001b[43m \u001b[49m\u001b[43mcaptured_inputs\u001b[49m\u001b[38;5;241;43m=\u001b[39;49m\u001b[43mgraph_function\u001b[49m\u001b[38;5;241;43m.\u001b[39;49m\u001b[43mcaptured_inputs\u001b[49m\u001b[43m)\u001b[49m\n",
      "File \u001b[1;32m~\\AppData\\Roaming\\Python\\Python38\\site-packages\\tensorflow\\python\\eager\\function.py:1860\u001b[0m, in \u001b[0;36mConcreteFunction._call_flat\u001b[1;34m(self, args, captured_inputs, cancellation_manager)\u001b[0m\n\u001b[0;32m   1856\u001b[0m possible_gradient_type \u001b[38;5;241m=\u001b[39m gradients_util\u001b[38;5;241m.\u001b[39mPossibleTapeGradientTypes(args)\n\u001b[0;32m   1857\u001b[0m \u001b[38;5;28;01mif\u001b[39;00m (possible_gradient_type \u001b[38;5;241m==\u001b[39m gradients_util\u001b[38;5;241m.\u001b[39mPOSSIBLE_GRADIENT_TYPES_NONE\n\u001b[0;32m   1858\u001b[0m     \u001b[38;5;129;01mand\u001b[39;00m executing_eagerly):\n\u001b[0;32m   1859\u001b[0m   \u001b[38;5;66;03m# No tape is watching; skip to running the function.\u001b[39;00m\n\u001b[1;32m-> 1860\u001b[0m   \u001b[38;5;28;01mreturn\u001b[39;00m \u001b[38;5;28mself\u001b[39m\u001b[38;5;241m.\u001b[39m_build_call_outputs(\u001b[38;5;28;43mself\u001b[39;49m\u001b[38;5;241;43m.\u001b[39;49m\u001b[43m_inference_function\u001b[49m\u001b[38;5;241;43m.\u001b[39;49m\u001b[43mcall\u001b[49m\u001b[43m(\u001b[49m\n\u001b[0;32m   1861\u001b[0m \u001b[43m      \u001b[49m\u001b[43mctx\u001b[49m\u001b[43m,\u001b[49m\u001b[43m \u001b[49m\u001b[43margs\u001b[49m\u001b[43m,\u001b[49m\u001b[43m \u001b[49m\u001b[43mcancellation_manager\u001b[49m\u001b[38;5;241;43m=\u001b[39;49m\u001b[43mcancellation_manager\u001b[49m\u001b[43m)\u001b[49m)\n\u001b[0;32m   1862\u001b[0m forward_backward \u001b[38;5;241m=\u001b[39m \u001b[38;5;28mself\u001b[39m\u001b[38;5;241m.\u001b[39m_select_forward_and_backward_functions(\n\u001b[0;32m   1863\u001b[0m     args,\n\u001b[0;32m   1864\u001b[0m     possible_gradient_type,\n\u001b[0;32m   1865\u001b[0m     executing_eagerly)\n\u001b[0;32m   1866\u001b[0m forward_function, args_with_tangents \u001b[38;5;241m=\u001b[39m forward_backward\u001b[38;5;241m.\u001b[39mforward()\n",
      "File \u001b[1;32m~\\AppData\\Roaming\\Python\\Python38\\site-packages\\tensorflow\\python\\eager\\function.py:497\u001b[0m, in \u001b[0;36m_EagerDefinedFunction.call\u001b[1;34m(self, ctx, args, cancellation_manager)\u001b[0m\n\u001b[0;32m    495\u001b[0m \u001b[38;5;28;01mwith\u001b[39;00m _InterpolateFunctionError(\u001b[38;5;28mself\u001b[39m):\n\u001b[0;32m    496\u001b[0m   \u001b[38;5;28;01mif\u001b[39;00m cancellation_manager \u001b[38;5;129;01mis\u001b[39;00m \u001b[38;5;28;01mNone\u001b[39;00m:\n\u001b[1;32m--> 497\u001b[0m     outputs \u001b[38;5;241m=\u001b[39m \u001b[43mexecute\u001b[49m\u001b[38;5;241;43m.\u001b[39;49m\u001b[43mexecute\u001b[49m\u001b[43m(\u001b[49m\n\u001b[0;32m    498\u001b[0m \u001b[43m        \u001b[49m\u001b[38;5;28;43mstr\u001b[39;49m\u001b[43m(\u001b[49m\u001b[38;5;28;43mself\u001b[39;49m\u001b[38;5;241;43m.\u001b[39;49m\u001b[43msignature\u001b[49m\u001b[38;5;241;43m.\u001b[39;49m\u001b[43mname\u001b[49m\u001b[43m)\u001b[49m\u001b[43m,\u001b[49m\n\u001b[0;32m    499\u001b[0m \u001b[43m        \u001b[49m\u001b[43mnum_outputs\u001b[49m\u001b[38;5;241;43m=\u001b[39;49m\u001b[38;5;28;43mself\u001b[39;49m\u001b[38;5;241;43m.\u001b[39;49m\u001b[43m_num_outputs\u001b[49m\u001b[43m,\u001b[49m\n\u001b[0;32m    500\u001b[0m \u001b[43m        \u001b[49m\u001b[43minputs\u001b[49m\u001b[38;5;241;43m=\u001b[39;49m\u001b[43margs\u001b[49m\u001b[43m,\u001b[49m\n\u001b[0;32m    501\u001b[0m \u001b[43m        \u001b[49m\u001b[43mattrs\u001b[49m\u001b[38;5;241;43m=\u001b[39;49m\u001b[43mattrs\u001b[49m\u001b[43m,\u001b[49m\n\u001b[0;32m    502\u001b[0m \u001b[43m        \u001b[49m\u001b[43mctx\u001b[49m\u001b[38;5;241;43m=\u001b[39;49m\u001b[43mctx\u001b[49m\u001b[43m)\u001b[49m\n\u001b[0;32m    503\u001b[0m   \u001b[38;5;28;01melse\u001b[39;00m:\n\u001b[0;32m    504\u001b[0m     outputs \u001b[38;5;241m=\u001b[39m execute\u001b[38;5;241m.\u001b[39mexecute_with_cancellation(\n\u001b[0;32m    505\u001b[0m         \u001b[38;5;28mstr\u001b[39m(\u001b[38;5;28mself\u001b[39m\u001b[38;5;241m.\u001b[39msignature\u001b[38;5;241m.\u001b[39mname),\n\u001b[0;32m    506\u001b[0m         num_outputs\u001b[38;5;241m=\u001b[39m\u001b[38;5;28mself\u001b[39m\u001b[38;5;241m.\u001b[39m_num_outputs,\n\u001b[1;32m   (...)\u001b[0m\n\u001b[0;32m    509\u001b[0m         ctx\u001b[38;5;241m=\u001b[39mctx,\n\u001b[0;32m    510\u001b[0m         cancellation_manager\u001b[38;5;241m=\u001b[39mcancellation_manager)\n",
      "File \u001b[1;32m~\\AppData\\Roaming\\Python\\Python38\\site-packages\\tensorflow\\python\\eager\\execute.py:54\u001b[0m, in \u001b[0;36mquick_execute\u001b[1;34m(op_name, num_outputs, inputs, attrs, ctx, name)\u001b[0m\n\u001b[0;32m     52\u001b[0m \u001b[38;5;28;01mtry\u001b[39;00m:\n\u001b[0;32m     53\u001b[0m   ctx\u001b[38;5;241m.\u001b[39mensure_initialized()\n\u001b[1;32m---> 54\u001b[0m   tensors \u001b[38;5;241m=\u001b[39m \u001b[43mpywrap_tfe\u001b[49m\u001b[38;5;241;43m.\u001b[39;49m\u001b[43mTFE_Py_Execute\u001b[49m\u001b[43m(\u001b[49m\u001b[43mctx\u001b[49m\u001b[38;5;241;43m.\u001b[39;49m\u001b[43m_handle\u001b[49m\u001b[43m,\u001b[49m\u001b[43m \u001b[49m\u001b[43mdevice_name\u001b[49m\u001b[43m,\u001b[49m\u001b[43m \u001b[49m\u001b[43mop_name\u001b[49m\u001b[43m,\u001b[49m\n\u001b[0;32m     55\u001b[0m \u001b[43m                                      \u001b[49m\u001b[43minputs\u001b[49m\u001b[43m,\u001b[49m\u001b[43m \u001b[49m\u001b[43mattrs\u001b[49m\u001b[43m,\u001b[49m\u001b[43m \u001b[49m\u001b[43mnum_outputs\u001b[49m\u001b[43m)\u001b[49m\n\u001b[0;32m     56\u001b[0m \u001b[38;5;28;01mexcept\u001b[39;00m core\u001b[38;5;241m.\u001b[39m_NotOkStatusException \u001b[38;5;28;01mas\u001b[39;00m e:\n\u001b[0;32m     57\u001b[0m   \u001b[38;5;28;01mif\u001b[39;00m name \u001b[38;5;129;01mis\u001b[39;00m \u001b[38;5;129;01mnot\u001b[39;00m \u001b[38;5;28;01mNone\u001b[39;00m:\n",
      "\u001b[1;31mKeyboardInterrupt\u001b[0m: "
     ]
    }
   ],
   "source": [
    "for layer in VGG_model.layers:\n",
    "    layer.trainable = False\n",
    "feature_extractor=VGG_model.predict(X_train_scaled)\n",
    "features = feature_extractor.reshape(feature_extractor.shape[0], -1)"
   ]
  },
  {
   "cell_type": "code",
   "execution_count": null,
   "metadata": {},
   "outputs": [],
   "source": [
    "SVM1 = svm.SVC(kernel='poly', degree=5, C=3)\n",
    "SVM1.fit(features, y_train)"
   ]
  },
  {
   "cell_type": "code",
   "execution_count": 28,
   "metadata": {},
   "outputs": [
    {
     "name": "stdout",
     "output_type": "stream",
     "text": [
      "4/4 [==============================] - 12s 3s/step\n"
     ]
    }
   ],
   "source": [
    "#Send test data through same feature extractor process\n",
    "X_test_feature = VGG_model.predict(X_test_scaled)\n",
    "X_test_features = X_test_feature.reshape(X_test_feature.shape[0], -1)"
   ]
  },
  {
   "cell_type": "code",
   "execution_count": 29,
   "metadata": {},
   "outputs": [],
   "source": [
    "#Predict using the trained RF model. \n",
    "prediction_SVM1 = SVM1.predict(X_test_features)"
   ]
  },
  {
   "cell_type": "code",
   "execution_count": 30,
   "metadata": {},
   "outputs": [
    {
     "name": "stdout",
     "output_type": "stream",
     "text": [
      "SVM1 Accuracy =  0.35\n"
     ]
    },
    {
     "data": {
      "image/png": "[encoded data removed]",
      "text/plain": [
       "<Figure size 432x288 with 2 Axes>"
      ]
     },
     "metadata": {
      "needs_background": "light"
     },
     "output_type": "display_data"
    }
   ],
   "source": [
    "print (\"SVM1 Accuracy = \", metrics.accuracy_score(y_test, prediction_SVM1))\n",
    "\n",
    "confusion_matrix = metrics.confusion_matrix(y_test, prediction_SVM1)\n",
    "\n",
    "cm_display = metrics.ConfusionMatrixDisplay(confusion_matrix = confusion_matrix)\n",
    "\n",
    "cm_display.plot()\n",
    "plt.show()"
   ]
  },
  {
   "cell_type": "code",
   "execution_count": null,
   "metadata": {},
   "outputs": [],
   "source": []
  }
 ],
 "metadata": {
  "colab": {
   "collapsed_sections": [],
   "name": "Copy of Untitled3.ipynb",
   "provenance": []
  },
  "kernelspec": {
   "display_name": "Python 3 (ipykernel)",
   "language": "python",
   "name": "python3"
  },
  "language_info": {
   "codemirror_mode": {
    "name": "ipython",
    "version": 3
   },
   "file_extension": ".py",
   "mimetype": "text/x-python",
   "name": "python",
   "nbconvert_exporter": "python",
   "pygments_lexer": "ipython3",
   "version": "3.8.0"
  }
 },
 "nbformat": 4,
 "nbformat_minor": 1
}
